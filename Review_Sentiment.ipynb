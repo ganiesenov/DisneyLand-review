{
 "cells": [
  {
   "cell_type": "markdown",
   "id": "88e60697-52ba-4aa8-ba9c-665106d0b4f0",
   "metadata": {},
   "source": [
    "## LIbraries"
   ]
  },
  {
   "cell_type": "code",
   "execution_count": 39,
   "id": "87a11a95-3a01-467e-8978-2d2358b0d775",
   "metadata": {},
   "outputs": [],
   "source": [
    "import pandas as pd\n",
    "import numpy as np\n",
    "import matplotlib.pyplot as plt \n",
    "import seaborn as sns\n",
    "\n",
    "plt.style.use('ggplot')\n",
    "\n",
    "from nltk.stem import WordNetLemmatizer, SnowballStemmer, PorterStemmer\n",
    "import gensim\n",
    "from gensim.utils import simple_preprocess\n",
    "from gensim.parsing.preprocessing import STOPWORDS\n",
    "\n",
    "from gensim import corpora, models\n",
    "from gensim.models import CoherenceModel\n",
    "import nltk\n",
    "import pyLDAvis\n",
    "import pyLDAvis.gensim_models"
   ]
  },
  {
   "cell_type": "code",
   "execution_count": 40,
   "id": "249b3a0e-6a8b-450f-b73f-dc3b61e709aa",
   "metadata": {},
   "outputs": [
    {
     "data": {
      "text/html": [
       "<div>\n",
       "<style scoped>\n",
       "    .dataframe tbody tr th:only-of-type {\n",
       "        vertical-align: middle;\n",
       "    }\n",
       "\n",
       "    .dataframe tbody tr th {\n",
       "        vertical-align: top;\n",
       "    }\n",
       "\n",
       "    .dataframe thead th {\n",
       "        text-align: right;\n",
       "    }\n",
       "</style>\n",
       "<table border=\"1\" class=\"dataframe\">\n",
       "  <thead>\n",
       "    <tr style=\"text-align: right;\">\n",
       "      <th></th>\n",
       "      <th>Review_ID</th>\n",
       "      <th>Rating</th>\n",
       "      <th>Year_Month</th>\n",
       "      <th>Reviewer_Location</th>\n",
       "      <th>Review_Text</th>\n",
       "      <th>Branch</th>\n",
       "    </tr>\n",
       "  </thead>\n",
       "  <tbody>\n",
       "    <tr>\n",
       "      <th>0</th>\n",
       "      <td>670772142</td>\n",
       "      <td>4</td>\n",
       "      <td>2019-4</td>\n",
       "      <td>Australia</td>\n",
       "      <td>If you've ever been to Disneyland anywhere you...</td>\n",
       "      <td>Disneyland_HongKong</td>\n",
       "    </tr>\n",
       "    <tr>\n",
       "      <th>1</th>\n",
       "      <td>670682799</td>\n",
       "      <td>4</td>\n",
       "      <td>2019-5</td>\n",
       "      <td>Philippines</td>\n",
       "      <td>Its been a while since d last time we visit HK...</td>\n",
       "      <td>Disneyland_HongKong</td>\n",
       "    </tr>\n",
       "    <tr>\n",
       "      <th>2</th>\n",
       "      <td>670623270</td>\n",
       "      <td>4</td>\n",
       "      <td>2019-4</td>\n",
       "      <td>United Arab Emirates</td>\n",
       "      <td>Thanks God it wasn   t too hot or too humid wh...</td>\n",
       "      <td>Disneyland_HongKong</td>\n",
       "    </tr>\n",
       "    <tr>\n",
       "      <th>3</th>\n",
       "      <td>670607911</td>\n",
       "      <td>4</td>\n",
       "      <td>2019-4</td>\n",
       "      <td>Australia</td>\n",
       "      <td>HK Disneyland is a great compact park. Unfortu...</td>\n",
       "      <td>Disneyland_HongKong</td>\n",
       "    </tr>\n",
       "    <tr>\n",
       "      <th>4</th>\n",
       "      <td>670607296</td>\n",
       "      <td>4</td>\n",
       "      <td>2019-4</td>\n",
       "      <td>United Kingdom</td>\n",
       "      <td>the location is not in the city, took around 1...</td>\n",
       "      <td>Disneyland_HongKong</td>\n",
       "    </tr>\n",
       "  </tbody>\n",
       "</table>\n",
       "</div>"
      ],
      "text/plain": [
       "   Review_ID  Rating Year_Month     Reviewer_Location  \\\n",
       "0  670772142       4     2019-4             Australia   \n",
       "1  670682799       4     2019-5           Philippines   \n",
       "2  670623270       4     2019-4  United Arab Emirates   \n",
       "3  670607911       4     2019-4             Australia   \n",
       "4  670607296       4     2019-4        United Kingdom   \n",
       "\n",
       "                                         Review_Text               Branch  \n",
       "0  If you've ever been to Disneyland anywhere you...  Disneyland_HongKong  \n",
       "1  Its been a while since d last time we visit HK...  Disneyland_HongKong  \n",
       "2  Thanks God it wasn   t too hot or too humid wh...  Disneyland_HongKong  \n",
       "3  HK Disneyland is a great compact park. Unfortu...  Disneyland_HongKong  \n",
       "4  the location is not in the city, took around 1...  Disneyland_HongKong  "
      ]
     },
     "execution_count": 40,
     "metadata": {},
     "output_type": "execute_result"
    }
   ],
   "source": [
    "df = pd.read_csv('DisneylandReviews.csv', encoding='latin-1')\n",
    "df.head(5)"
   ]
  },
  {
   "cell_type": "code",
   "execution_count": 41,
   "id": "c339cfbb-3dd4-447f-8c52-c7b53ee7fec1",
   "metadata": {},
   "outputs": [
    {
     "data": {
      "text/plain": [
       "\"If you've ever been to Disneyland anywhere you'll find Disneyland Hong Kong very similar in the layout when you walk into main street! It has a very familiar feel. One of the rides  its a Small World  is absolutely fabulous and worth doing. The day we visited was fairly hot and relatively busy but the queues moved fairly well. \""
      ]
     },
     "execution_count": 41,
     "metadata": {},
     "output_type": "execute_result"
    }
   ],
   "source": [
    "df['Review_Text'].values[0]"
   ]
  },
  {
   "cell_type": "code",
   "execution_count": 42,
   "id": "c14fd1fe-f6ac-45e0-812f-13a5ac73abf3",
   "metadata": {},
   "outputs": [
    {
     "name": "stdout",
     "output_type": "stream",
     "text": [
      "(42656, 6)\n"
     ]
    }
   ],
   "source": [
    "print(df.shape)"
   ]
  },
  {
   "cell_type": "code",
   "execution_count": 43,
   "id": "c835f3c1-4208-4c2e-9968-12c3a83c70ac",
   "metadata": {},
   "outputs": [
    {
     "data": {
      "text/plain": [
       "5    23146\n",
       "4    10775\n",
       "3     5109\n",
       "2     2127\n",
       "1     1499\n",
       "Name: Rating, dtype: int64"
      ]
     },
     "execution_count": 43,
     "metadata": {},
     "output_type": "execute_result"
    }
   ],
   "source": [
    "df['Rating'].value_counts()"
   ]
  },
  {
   "cell_type": "code",
   "execution_count": 44,
   "id": "ef3e4795-85a3-4988-80f8-c09b4e006a88",
   "metadata": {},
   "outputs": [
    {
     "data": {
      "image/png": "[encoded data removed]",
      "text/plain": [
       "<Figure size 900x900 with 1 Axes>"
      ]
     },
     "metadata": {},
     "output_type": "display_data"
    }
   ],
   "source": [
    "ax = df['Rating'].value_counts().sort_index().plot(kind = 'bar', title = 'Count by Ratings', figsize = (9,9))\n",
    "ax.set_xlabel('Review Stars')\n",
    "plt.show()"
   ]
  },
  {
   "cell_type": "code",
   "execution_count": 45,
   "id": "00939c9f-f27e-4ef3-814b-2c1ded10b928",
   "metadata": {},
   "outputs": [
    {
     "data": {
      "text/plain": [
       "\"If you've ever been to Disneyland anywhere you'll find Disneyland Hong Kong very similar in the layout when you walk into main street! It has a very familiar feel. One of the rides  its a Small World  is absolutely fabulous and worth doing. The day we visited was fairly hot and relatively busy but the queues moved fairly well. \""
      ]
     },
     "execution_count": 45,
     "metadata": {},
     "output_type": "execute_result"
    }
   ],
   "source": [
    "test = df['Review_Text'][0]\n",
    "test"
   ]
  },
  {
   "cell_type": "markdown",
   "id": "7db9fece-c447-40b1-af3b-63195b8c960c",
   "metadata": {},
   "source": [
    "## Gensim"
   ]
  },
  {
   "cell_type": "code",
   "execution_count": 47,
   "id": "1650bff6-8cb2-417b-83d6-7d3c151a0c8b",
   "metadata": {},
   "outputs": [],
   "source": [
    "def lemmatize_stemming(text):\n",
    "    stemmer = SnowballStemmer('english')\n",
    "    return stemmer.stem(WordNetLemmatizer().lemmatize(text, pos='v'))\n",
    "def preprocess(text):\n",
    "    result = []\n",
    "    for token in gensim.utils.simple_preprocess(text):\n",
    "        if token not in gensim.parsing.preprocessing.STOPWORDS and len(token) > 3:\n",
    "            result.append(lemmatize_stemming(token))\n",
    "    return result\n"
   ]
  },
  {
   "cell_type": "code",
   "execution_count": 118,
   "id": "a0f29e09-2a5c-4c29-89aa-e46c10010fbf",
   "metadata": {},
   "outputs": [
    {
     "name": "stdout",
     "output_type": "stream",
     "text": [
      "original text: \n",
      "['If', \"you've\", 'ever', 'been', 'to', 'Disneyland', 'anywhere', \"you'll\", 'find', 'Disneyland', 'Hong', 'Kong', 'very', 'similar', 'in', 'the', 'layout', 'when', 'you', 'walk', 'into', 'main', 'street!', 'It', 'has', 'a', 'very', 'familiar', 'feel.', 'One', 'of', 'the', 'rides', '', 'its', 'a', 'Small', 'World', '', 'is', 'absolutely', 'fabulous', 'and', 'worth', 'doing.', 'The', 'day', 'we', 'visited', 'was', 'fairly', 'hot', 'and', 'relatively', 'busy', 'but', 'the', 'queues', 'moved', 'fairly', 'well.', '']\n",
      "\n",
      "\n",
      " tokenized and lemmatized text: \n",
      "['disneyland', 'disneyland', 'hong', 'kong', 'similar', 'layout', 'walk', 'main', 'street', 'familiar', 'feel', 'rid', 'small', 'world', 'absolut', 'fabul', 'worth', 'visit', 'fair', 'relat', 'busi', 'queue', 'move', 'fair']\n"
     ]
    }
   ],
   "source": [
    "doc_sample = df['Review_Text'][0]\n",
    "\n",
    "print('original text: ')\n",
    "words = []\n",
    "for word in doc_sample.split(' '):\n",
    "    words.append(word)\n",
    "print(words)\n",
    "print('\\n\\n tokenized and lemmatized text: ')\n",
    "print(preprocess(doc_sample))"
   ]
  },
  {
   "cell_type": "code",
   "execution_count": 53,
   "id": "6913f8d1-c3af-48ff-8776-443fb0dc13c1",
   "metadata": {},
   "outputs": [],
   "source": [
    "processed_text = df['Review_Text'].map(preprocess)"
   ]
  },
  {
   "cell_type": "code",
   "execution_count": 59,
   "id": "73985279-bc95-49b6-9091-2fb01ba84e26",
   "metadata": {},
   "outputs": [
    {
     "data": {
      "text/plain": [
       "0    [disneyland, disneyland, hong, kong, similar, ...\n",
       "1    [time, visit, disneyland, time, stay, tomorrow...\n",
       "2    [thank, wasn, humid, visit, park, issu, shade,...\n",
       "3    [disneyland, great, compact, park, unfortun, m...\n",
       "4    [locat, citi, take, hour, kowlon, kid, like, d...\n",
       "5    [disney, world, disneyland, anaheim, tokyo, di...\n",
       "6    [great, place, know, obvious, go, daughter, ab...\n",
       "7    [think, intro, disney, magic, littl, one, attr...\n",
       "8    [feel, place, disneyland, train, fantast, past...\n",
       "9    [talk, disneyland, disneyland, childhood, drea...\n",
       "Name: Review_Text, dtype: object"
      ]
     },
     "execution_count": 59,
     "metadata": {},
     "output_type": "execute_result"
    }
   ],
   "source": [
    "processed_text[:10]"
   ]
  },
  {
   "cell_type": "markdown",
   "id": "6d504436-c2b4-4812-ad93-008a620d2e5f",
   "metadata": {},
   "source": [
    "### Bag of Words"
   ]
  },
  {
   "cell_type": "code",
   "execution_count": 61,
   "id": "0ab57aa5-303b-4354-9f17-a24dd081834c",
   "metadata": {},
   "outputs": [],
   "source": [
    "dictionary = gensim.corpora.Dictionary(processed_text)"
   ]
  },
  {
   "cell_type": "code",
   "execution_count": 62,
   "id": "40bad754-05d6-4ea9-b07b-3b11f69b5fa8",
   "metadata": {},
   "outputs": [
    {
     "name": "stdout",
     "output_type": "stream",
     "text": [
      "0 absolut\n",
      "1 busi\n",
      "2 disneyland\n",
      "3 fabul\n",
      "4 fair\n",
      "5 familiar\n",
      "6 feel\n",
      "7 hong\n",
      "8 kong\n",
      "9 layout\n",
      "10 main\n"
     ]
    }
   ],
   "source": [
    "count = 0\n",
    "for k, v in dictionary.iteritems():\n",
    "    print(k, v)\n",
    "    count += 1\n",
    "    if count > 10:\n",
    "        break"
   ]
  },
  {
   "cell_type": "code",
   "execution_count": 67,
   "id": "c4123f55-d755-4623-92f7-23219326ca8e",
   "metadata": {},
   "outputs": [
    {
     "data": {
      "text/plain": [
       "[(2, 3),\n",
       " (7, 1),\n",
       " (8, 1),\n",
       " (82, 1),\n",
       " (199, 1),\n",
       " (228, 1),\n",
       " (258, 1),\n",
       " (259, 1),\n",
       " (260, 1),\n",
       " (261, 1)]"
      ]
     },
     "execution_count": 67,
     "metadata": {},
     "output_type": "execute_result"
    }
   ],
   "source": [
    "bow_corpus = [dictionary.doc2bow(text) for text in processed_text]\n",
    "bow_corpus[10]"
   ]
  },
  {
   "cell_type": "code",
   "execution_count": 68,
   "id": "740cb1d2-151c-445d-8135-cc8591f29f6c",
   "metadata": {},
   "outputs": [],
   "source": [
    "dictionary.filter_extremes(no_below=15, no_above=0.5, keep_n=100000)"
   ]
  },
  {
   "cell_type": "code",
   "execution_count": 73,
   "id": "e5ce2cdb-a988-4a43-8201-0f257ec61d40",
   "metadata": {},
   "outputs": [
    {
     "data": {
      "text/plain": [
       "'hong'"
      ]
     },
     "execution_count": 73,
     "metadata": {},
     "output_type": "execute_result"
    }
   ],
   "source": [
    "dic2=dictionary[bow_doc_10[1][0]]\n",
    "dic2"
   ]
  },
  {
   "cell_type": "code",
   "execution_count": 69,
   "id": "e5c0140b-f0be-4541-a8a6-e8339957a3ce",
   "metadata": {},
   "outputs": [
    {
     "data": {
      "text/plain": [
       "[(2, 3),\n",
       " (7, 1),\n",
       " (8, 1),\n",
       " (82, 1),\n",
       " (199, 1),\n",
       " (228, 1),\n",
       " (258, 1),\n",
       " (259, 1),\n",
       " (260, 1),\n",
       " (261, 1)]"
      ]
     },
     "execution_count": 69,
     "metadata": {},
     "output_type": "execute_result"
    }
   ],
   "source": [
    "bow_corpus = [dictionary.doc2bow(text) for text in processed_text]\n",
    "bow_corpus[10]"
   ]
  },
  {
   "cell_type": "code",
   "execution_count": 70,
   "id": "fa31ee9c-3d5b-4714-a803-1165fd24cd0f",
   "metadata": {},
   "outputs": [
    {
     "name": "stdout",
     "output_type": "stream",
     "text": [
      "Word 2 (\"disneyland\") appears 3 time.\n",
      "Word 7 (\"hong\") appears 1 time.\n",
      "Word 8 (\"kong\") appears 1 time.\n",
      "Word 82 (\"amaz\") appears 1 time.\n",
      "Word 199 (\"think\") appears 1 time.\n",
      "Word 228 (\"come\") appears 1 time.\n",
      "Word 258 (\"ceas\") appears 1 time.\n",
      "Word 259 (\"exhaust\") appears 1 time.\n",
      "Word 260 (\"florida\") appears 1 time.\n",
      "Word 261 (\"nope\") appears 1 time.\n"
     ]
    }
   ],
   "source": [
    "bow_doc_10 = bow_corpus[10]\n",
    "\n",
    "for i in range(len(bow_doc_10)):\n",
    "    print(\"Word {} (\\\"{}\\\") appears {} time.\".format(bow_doc_10[i][0], \n",
    "                                                     dictionary[bow_doc_10[i][0]], \n",
    "                                                     bow_doc_10[i][1]))"
   ]
  },
  {
   "cell_type": "markdown",
   "id": "ab2940be-a088-45b4-ba77-ce0e38b79170",
   "metadata": {},
   "source": [
    "### TF-IDF"
   ]
  },
  {
   "cell_type": "code",
   "execution_count": 81,
   "id": "3bdb6f7d-323e-40eb-96e0-c8ea891fc0f6",
   "metadata": {},
   "outputs": [],
   "source": [
    "tfidf = models.TfidfModel(bow_corpus)"
   ]
  },
  {
   "cell_type": "code",
   "execution_count": 82,
   "id": "32288213-57bc-4455-8cb3-dcc82ff0d46c",
   "metadata": {},
   "outputs": [],
   "source": [
    "corpus_tfidf = tfidf[bow_corpus]"
   ]
  },
  {
   "cell_type": "code",
   "execution_count": 83,
   "id": "e8064f57-1e66-4c26-b67e-efefddcc561f",
   "metadata": {},
   "outputs": [
    {
     "name": "stdout",
     "output_type": "stream",
     "text": [
      "[(0, 0.19096433934580137),\n",
      " (1, 0.14921483669624022),\n",
      " (2, 0.09421402310012578),\n",
      " (3, 0.2607114594663935),\n",
      " (4, 0.47984150109555834),\n",
      " (5, 0.3359618991240341),\n",
      " (6, 0.15162279998528513),\n",
      " (7, 0.17682820352915318),\n",
      " (8, 0.17677767388255425),\n",
      " (9, 0.33629366157477114),\n",
      " (10, 0.14849116120893346),\n",
      " (11, 0.24315717646088447),\n",
      " (12, 0.10160296403374446),\n",
      " (13, 0.26393162280222326),\n",
      " (14, 0.04441174180596798),\n",
      " (15, 0.2538501815861146),\n",
      " (16, 0.1246416465936448),\n",
      " (17, 0.17389128041991014),\n",
      " (18, 0.07201470260251097),\n",
      " (19, 0.12425141268664784),\n",
      " (20, 0.11739508570988756),\n",
      " (21, 0.12227350237641822)]\n"
     ]
    }
   ],
   "source": [
    "from pprint import pprint\n",
    "\n",
    "for doc in corpus_tfidf:\n",
    "    pprint(doc)\n",
    "    break"
   ]
  },
  {
   "cell_type": "markdown",
   "id": "cf2773f2-8c2d-430b-aed8-ef93fef1179f",
   "metadata": {},
   "source": [
    "## Visualize"
   ]
  },
  {
   "cell_type": "code",
   "execution_count": 91,
   "id": "de902a01-ea00-4360-8e1d-28d612e71a9c",
   "metadata": {},
   "outputs": [],
   "source": [
    "lda_model_bow = gensim.models.ldamodel.LdaModel(bow_corpus, num_topics=10, id2word=dictionary, passes=4)"
   ]
  },
  {
   "cell_type": "code",
   "execution_count": 92,
   "id": "a5fa2ccc-fcda-4b2d-a869-210947a5dd78",
   "metadata": {},
   "outputs": [],
   "source": [
    "import pyLDAvis.gensim_models as gensimvis"
   ]
  },
  {
   "cell_type": "code",
   "execution_count": 93,
   "id": "f0cb84b3-ea00-4afe-bff3-e0ff5a2a1674",
   "metadata": {},
   "outputs": [
    {
     "name": "stderr",
     "output_type": "stream",
     "text": [
      "c:\\users\\acer\\appdata\\local\\programs\\python\\python38\\lib\\site-packages\\pyLDAvis\\_prepare.py:246: FutureWarning: In a future version of pandas all arguments of DataFrame.drop except for the argument 'labels' will be keyword-only.\n",
      "  default_term_info = default_term_info.sort_values(\n"
     ]
    },
    {
     "data": {
      "text/html": [
       "\n",
       "<link rel=\"stylesheet\" type=\"text/css\" href=\"https://cdn.jsdelivr.net/gh/bmabey/pyLDAvis@3.3.1/pyLDAvis/js/ldavis.v1.0.0.css\">\n",
       "\n",
       "\n",
       "<div id=\"ldavis_el68082278452885648155094276\"></div>\n",
       "<script type=\"text/javascript\">\n",
       "\n",
       "var ldavis_el68082278452885648155094276_data = {\"mdsDat\": {\"x\": [0.05432561823058776, 0.15360172805893518, -0.14363455068563447, -0.14174801122378108, -0.10969438135096049, 0.02683561965724324, -0.004773105519940628, 0.18022955421505255, 0.13956470829948625, -0.15470717968098813], \"y\": [-0.04545130802565918, -0.1059080314134091, 0.10824092609839497, -0.1202486597892456, -0.1013219648779502, -0.14882581018481708, 0.0677224324955305, 0.053509509427768706, 0.15637189722461695, 0.13591100904476996], \"topics\": [1, 2, 3, 4, 5, 6, 7, 8, 9, 10], \"cluster\": [1, 1, 1, 1, 1, 1, 1, 1, 1, 1], \"Freq\": [16.935847254542225, 13.0371156430189, 12.96046594492096, 12.57576841167953, 9.300906700288394, 8.366617378458365, 8.086840812220162, 7.350536422829604, 5.990417597644201, 5.395483834397676]}, \"tinfo\": {\"Term\": [\"food\", \"hotel\", \"queue\", \"charact\", \"mountain\", \"rid\", \"pass\", \"ride\", \"place\", \"wait\", \"fast\", \"staff\", \"stay\", \"expens\", \"ticket\", \"disney\", \"parad\", \"line\", \"close\", \"pari\", \"space\", \"price\", \"love\", \"meet\", \"mickey\", \"hour\", \"pirat\", \"euro\", \"great\", \"drink\", \"enabl\", \"playground\", \"anna\", \"midweek\", \"slip\", \"demand\", \"peac\", \"bless\", \"tue\", \"label\", \"astound\", \"util\", \"homework\", \"releas\", \"timet\", \"sidewalk\", \"unoffici\", \"specifi\", \"error\", \"inconveni\", \"quietest\", \"themepark\", \"countless\", \"nostalgia\", \"thanksgiv\", \"grad\", \"inconsider\", \"cop\", \"dearer\", \"cherish\", \"hopper\", \"weekday\", \"thur\", \"thursday\", \"line\", \"pass\", \"crowd\", \"weekend\", \"fast\", \"spring\", \"tuesday\", \"wait\", \"school\", \"friday\", \"popular\", \"season\", \"earli\", \"avoid\", \"plan\", \"fastpass\", \"saturday\", \"long\", \"peak\", \"time\", \"busi\", \"week\", \"summer\", \"sunday\", \"januari\", \"morn\", \"day\", \"rid\", \"abl\", \"minut\", \"disneyland\", \"go\", \"visit\", \"hour\", \"ride\", \"holiday\", \"year\", \"great\", \"enjoy\", \"want\", \"attract\", \"kid\", \"trip\", \"spend\", \"peopl\", \"villag\", \"york\", \"pushchair\", \"swim\", \"hotdog\", \"extortion\", \"cook\", \"lift\", \"chair\", \"alloc\", \"pound\", \"bad\", \"continent\", \"walkway\", \"lock\", \"path\", \"locker\", \"smelli\", \"ring\", \"pram\", \"programm\", \"edg\", \"credit\", \"obtain\", \"unaccept\", \"cabin\", \"address\", \"wind\", \"stair\", \"pathet\", \"grind\", \"rent\", \"secur\", \"exit\", \"joke\", \"seat\", \"stroller\", \"beer\", \"block\", \"technic\", \"coach\", \"height\", \"jump\", \"slot\", \"rout\", \"stand\", \"minut\", \"start\", \"head\", \"leav\", \"hour\", \"later\", \"ride\", \"queue\", \"view\", \"min\", \"entranc\", \"allow\", \"wait\", \"peopl\", \"enter\", \"walk\", \"arriv\", \"tell\", \"straight\", \"fast\", \"pass\", \"area\", \"point\", \"time\", \"main\", \"open\", \"check\", \"take\", \"parad\", \"long\", \"want\", \"rid\", \"need\", \"fastpass\", \"go\", \"ticket\", \"line\", \"fell\", \"lazer\", \"departur\", \"stink\", \"describ\", \"reccommend\", \"curious\", \"hectic\", \"palac\", \"asleep\", \"quarter\", \"caribean\", \"tinkerbel\", \"awak\", \"justifi\", \"qu\", \"cuddl\", \"quantiti\", \"romant\", \"plant\", \"wonderful\", \"fanta\", \"surviv\", \"saver\", \"witch\", \"arent\", \"kiss\", \"sensibl\", \"caract\", \"primarili\", \"spectacular\", \"dream\", \"childhood\", \"aliv\", \"illumin\", \"amaz\", \"firework\", \"parad\", \"display\", \"fantast\", \"inner\", \"love\", \"light\", \"truli\", \"watch\", \"magic\", \"brilliant\", \"colour\", \"memori\", \"night\", \"absolut\", \"wonder\", \"christma\", \"beauti\", \"fabul\", \"show\", \"age\", \"place\", \"castl\", \"great\", \"enjoy\", \"miss\", \"children\", \"kid\", \"year\", \"visit\", \"disneyland\", \"disney\", \"time\", \"experi\", \"rid\", \"charact\", \"famili\", \"go\", \"best\", \"day\", \"worth\", \"jone\", \"indiana\", \"caribbean\", \"haunt\", \"manor\", \"mansion\", \"phantom\", \"carribean\", \"counterpart\", \"starter\", \"aladdin\", \"apolog\", \"robinson\", \"labyrinth\", \"hyperspac\", \"scaffold\", \"toad\", \"supris\", \"backlot\", \"peril\", \"overflow\", \"rockin\", \"southern\", \"isl\", \"kong\", \"hong\", \"legend\", \"sparrow\", \"doom\", \"pregnant\", \"pirat\", \"roller\", \"railroad\", \"dragon\", \"submarin\", \"mountain\", \"terror\", \"island\", \"cruis\", \"coaster\", \"space\", \"thunder\", \"alic\", \"tower\", \"war\", \"tour\", \"lightyear\", \"nemo\", \"rock\", \"star\", \"kingdom\", \"buzz\", \"version\", \"world\", \"ride\", \"peter\", \"smaller\", \"orlando\", \"land\", \"disney\", \"disneyland\", \"small\", \"california\", \"like\", \"florida\", \"rid\", \"attract\", \"pari\", \"visit\", \"time\", \"differ\", \"love\", \"great\", \"rude\", \"member\", \"cast\", \"disabl\", \"dirti\", \"attitud\", \"parc\", \"miser\", \"british\", \"unhelp\", \"worker\", \"spanish\", \"suffer\", \"filthi\", \"princ\", \"trash\", \"crack\", \"custom\", \"unfriend\", \"jumper\", \"motor\", \"scrum\", \"employe\", \"enthusiasm\", \"sweep\", \"trap\", \"drag\", \"corpor\", \"irrit\", \"shrug\", \"cigarett\", \"polit\", \"smoke\", \"enforc\", \"speak\", \"staff\", \"manner\", \"wheelchair\", \"french\", \"ignor\", \"english\", \"disgust\", \"ask\", \"servic\", \"franc\", \"guest\", \"smoker\", \"push\", \"american\", \"peopl\", \"help\", \"florida\", \"disney\", \"pari\", \"languag\", \"say\", \"friend\", \"poor\", \"experi\", \"know\", \"disneyland\", \"like\", \"magic\", \"tell\", \"year\", \"visit\", \"feel\", \"time\", \"clean\", \"think\", \"need\", \"expect\", \"go\", \"rain\", \"dread\", \"tunnel\", \"knock\", \"fashion\", \"disgrac\", \"health\", \"breakdown\", \"coat\", \"hype\", \"pour\", \"spain\", \"soup\", \"germani\", \"hint\", \"glove\", \"summari\", \"aswel\", \"cynic\", \"pointless\", \"refurb\", \"subject\", \"inch\", \"potenti\", \"hol\", \"platform\", \"heav\", \"nott\", \"manic\", \"waterproof\", \"mainten\", \"shut\", \"refurbish\", \"rip\", \"poncho\", \"close\", \"queue\", \"disappoint\", \"studio\", \"term\", \"closur\", \"half\", \"cold\", \"univers\", \"euro\", \"wast\", \"dissapoint\", \"wasn\", \"rid\", \"bother\", \"shame\", \"break\", \"expect\", \"money\", \"open\", \"hour\", \"go\", \"pari\", \"weather\", \"good\", \"think\", \"mean\", \"manag\", \"attract\", \"min\", \"better\", \"disney\", \"children\", \"time\", \"look\", \"have\", \"visit\", \"littl\", \"kid\", \"busi\", \"spend\", \"minut\", \"earth\", \"rubbish\", \"happiest\", \"litter\", \"pint\", \"arrog\", \"evid\", \"repli\", \"urin\", \"unforgett\", \"unfair\", \"vist\", \"pressur\", \"microwav\", \"biscuit\", \"suppli\", \"plat\", \"atract\", \"inflat\", \"profit\", \"dissappoint\", \"captiv\", \"financi\", \"thirti\", \"restuar\", \"asterix\", \"slice\", \"ined\", \"defo\", \"unhealthi\", \"food\", \"expens\", \"qualiti\", \"overpric\", \"drink\", \"price\", \"bottl\", \"water\", \"place\", \"pizza\", \"cheap\", \"clean\", \"plenti\", \"souvenir\", \"bring\", \"cost\", \"good\", \"lot\", \"kid\", \"pricey\", \"merchandis\", \"snack\", \"money\", \"shop\", \"adult\", \"great\", \"famili\", \"children\", \"expect\", \"spend\", \"rid\", \"disneyland\", \"staff\", \"love\", \"restaur\", \"enjoy\", \"time\", \"worth\", \"visit\", \"like\", \"buggi\", \"diner\", \"marn\", \"chicken\", \"recept\", \"hadn\", \"fruit\", \"barrier\", \"pasta\", \"stock\", \"valle\", \"cave\", \"healthi\", \"dear\", \"valid\", \"candi\", \"charl\", \"guarante\", \"ariel\", \"trade\", \"macdonald\", \"eiffel\", \"cope\", \"sparkl\", \"italian\", \"earl\", \"there\", \"ashford\", \"moteur\", \"gaull\", \"metro\", \"mall\", \"salad\", \"station\", \"taxi\", \"exchang\", \"discount\", \"burger\", \"ticket\", \"crush\", \"onlin\", \"train\", \"cheaper\", \"fri\", \"dog\", \"buy\", \"euro\", \"purchas\", \"sandwich\", \"chip\", \"food\", \"option\", \"meal\", \"shop\", \"store\", \"restaur\", \"pari\", \"cost\", \"price\", \"disney\", \"lunch\", \"free\", \"easi\", \"drink\", \"main\", \"entranc\", \"snack\", \"good\", \"save\", \"take\", \"time\", \"travel\", \"book\", \"expens\", \"go\", \"breakfast\", \"birthday\", \"lodg\", \"santa\", \"newport\", \"sequoia\", \"rainforest\", \"annual\", \"pool\", \"cheyenn\", \"bed\", \"wine\", \"milk\", \"lake\", \"kettl\", \"auberg\", \"desk\", \"passport\", \"crockett\", \"switch\", \"invent\", \"templ\", \"cendrillon\", \"steakhous\", \"sequioa\", \"hook\", \"pose\", \"sant\", \"croissant\", \"cereal\", \"termin\", \"buffalo\", \"hotel\", \"room\", \"davi\", \"buffet\", \"lagoon\", \"cafe\", \"eurostar\", \"dinner\", \"book\", \"stay\", \"shuttl\", \"luggag\", \"blue\", \"tabl\", \"meal\", \"packag\", \"reserv\", \"restaur\", \"voucher\", \"board\", \"daughter\", \"night\", \"charact\", \"free\", \"extra\", \"disney\", \"trip\", \"day\", \"time\", \"holiday\", \"go\", \"take\", \"lunch\", \"year\", \"walk\", \"great\", \"love\", \"want\", \"mous\", \"mcdonald\", \"donald\", \"ear\", \"woman\", \"honey\", \"duck\", \"pavement\", \"woodi\", \"element\", \"fake\", \"rapunzel\", \"breathtak\", \"chilli\", \"sceneri\", \"insist\", \"minni\", \"dislik\", \"defiant\", \"fenc\", \"doll\", \"outfit\", \"rise\", \"prevent\", \"anybodi\", \"gang\", \"their\", \"daisi\", \"neck\", \"tune\", \"pluto\", \"flower\", \"mickey\", \"pavilion\", \"greet\", \"meet\", \"eurodisney\", \"goofi\", \"princess\", \"dress\", \"photo\", \"pictur\", \"charact\", \"snow\", \"shoe\", \"autograph\", \"wear\", \"white\", \"cinderella\", \"girl\", \"comfi\", \"like\", \"europ\", \"walk\", \"film\", \"christma\", \"look\", \"beauti\", \"street\", \"see\", \"come\", \"disney\", \"main\", \"thing\", \"take\", \"time\", \"kid\", \"go\", \"children\", \"disneyland\"], \"Freq\": [15691.0, 9155.0, 18672.0, 10633.0, 8877.0, 33571.0, 14273.0, 19279.0, 13133.0, 17887.0, 12224.0, 9218.0, 8394.0, 8098.0, 8096.0, 38464.0, 12104.0, 11550.0, 7218.0, 12734.0, 5556.0, 6098.0, 14817.0, 3799.0, 3715.0, 10539.0, 4126.0, 5901.0, 17462.0, 4821.0, 310.24059542460986, 287.28697105357617, 257.69859927923204, 240.06967778036784, 231.4296297213241, 225.625346374154, 183.4798941842701, 175.23969112654322, 154.86293361016547, 150.71522448989256, 140.52060186425587, 140.51694064245603, 121.15031422064943, 118.11630919110644, 112.23465532163144, 109.70441462135597, 93.07908349379353, 92.83270305705356, 90.68554489936821, 89.0437936731633, 85.30467690575061, 82.25596761784401, 80.15517833949372, 79.66792414150457, 76.2948207069396, 75.27488347506136, 75.40627680930176, 72.53844177350047, 70.87954712359772, 64.50817515281423, 1006.1837037592945, 633.9441564899761, 217.26434278742107, 597.457567875451, 9034.65921516027, 10795.53575359875, 6031.49980116729, 2163.00851700502, 8983.451190125255, 603.3637717213729, 392.9679601919721, 11565.533207855167, 1478.9059385036799, 772.4078443663153, 1769.9761588901476, 1825.5899992871293, 3594.09913628767, 1894.462291454168, 3344.9232676467823, 2699.5802434148495, 849.6984926648215, 5927.124344351547, 877.0322642644467, 17919.639766988537, 3105.899393135549, 1955.7037266132993, 1336.0071454909757, 695.5927195132476, 485.5708275767433, 1403.688214617069, 4306.371986513149, 10260.974888943712, 1640.2031428856303, 3638.6354256840023, 7455.79788428225, 6145.964872809373, 5419.028769904439, 3611.638486489961, 5019.957018631684, 2033.3304948634175, 3836.378767127187, 4236.735468718964, 3073.4615221199847, 2539.0908035138805, 2483.1121866833078, 2833.180562156185, 2100.079357548111, 2075.993980252394, 2044.874307407871, 2573.5033701441657, 611.5415975183389, 414.1952746010335, 307.16433117583784, 298.74469704019754, 244.7994593940439, 244.34819754654814, 230.93348278246614, 211.66890869444626, 197.6084938478464, 196.9280438151534, 186.90337636048542, 185.0386553383953, 172.971281912976, 168.83101044907934, 161.8952951634214, 158.5857623155048, 150.94310415920796, 146.12166663997112, 181.0770239077094, 145.68285139891685, 141.18389829235315, 141.4363191272729, 131.0458250379904, 126.60124394903963, 121.46077263690813, 121.2927282154233, 114.05387636309065, 109.29121363902071, 105.55708697858492, 345.06523803433157, 182.47829546277717, 836.5465651273475, 460.7456131613411, 283.6084962525115, 1062.9724872969593, 528.1431796123405, 392.4743467355304, 289.1127299212002, 514.8864011627986, 273.99868013200364, 470.8408621675923, 566.4904885050439, 354.16786636824105, 323.21399404704056, 1578.4227486771547, 4259.501848839353, 1972.2792019360475, 1045.4202432833742, 2036.687236724325, 3903.489051096229, 1048.2232738982907, 5889.62326078628, 5360.821949719505, 861.9753020123712, 1517.1410820498338, 1076.3771625094562, 1107.5836841834425, 4665.3539666172765, 3268.2742214094737, 866.9939809191212, 2345.502015336451, 1469.693460470931, 1304.261272417325, 813.0945991914364, 2973.7889145795207, 2867.6193921024633, 1361.4561864649952, 923.1280845631986, 4210.674832482434, 1500.7247241761254, 1583.0644035738503, 1058.7357051209367, 1646.3812807859135, 1967.9149372597767, 1852.7558266199187, 1515.3252486165698, 2186.1898404281137, 1309.8523428751405, 1211.7991656218046, 1588.0128208540295, 1335.3316583811995, 1395.8690270840325, 248.8397195482985, 209.58001206370162, 190.28874651649735, 188.9578532720141, 187.1562851040349, 148.76511052093247, 141.3785674450524, 123.88412969479141, 123.29832282044872, 120.57834941288796, 114.09692187823799, 112.44913558725146, 112.12937257170248, 97.08309414220633, 97.02049246911699, 89.61173174368523, 89.2279434292406, 81.73455269311009, 79.89396354757807, 74.98214404421047, 73.9678863819889, 72.35641769401876, 69.02472439344933, 66.81113771418542, 65.65697095410508, 64.56542858454715, 68.4225761122448, 63.20018658124772, 64.29807468711252, 61.8525922372122, 1108.9120583106746, 2719.589331492156, 467.54073555854256, 180.37902358334634, 350.24663030099873, 5236.336580992161, 4049.8206808452164, 8213.229011726373, 916.0342665259313, 2810.6827245111954, 133.0091924893774, 7959.33558716017, 1906.1993337189422, 885.4676877083027, 1898.020088533187, 5934.8413089519345, 1220.9933305040702, 235.6764815742822, 744.5300050595014, 2814.2205860894387, 1462.1098649081616, 1763.6116384707125, 1735.9384125099073, 1618.5187252823, 523.8408653208295, 2219.317288062797, 1567.7373263930542, 4826.7423530060405, 2082.9387822036706, 5809.089715388278, 4150.781557516834, 1754.9816794126605, 3443.1898563252707, 4444.523904056939, 4330.270360622573, 5078.132619345993, 5618.555029941263, 6887.026220506073, 7216.729718392589, 2770.9404230232135, 5223.039067843689, 2757.727479305619, 2258.232311507757, 2906.8793616972075, 2054.514245296061, 2143.4735323617037, 1921.6736010151778, 2398.817562116593, 2232.8007323382244, 2190.472758598416, 1368.7833372756072, 1003.016406782598, 914.9180872621326, 908.7577096750799, 617.1005312625413, 364.8546683966336, 283.11458555767643, 263.18930477733215, 248.34784472563206, 222.05655338818787, 220.66236978679365, 203.3854235806679, 187.27842360797035, 186.14985966880732, 182.63101267790324, 179.8546075445508, 168.7703541474555, 161.03330527073257, 149.2145455412643, 148.41924426877236, 134.79034715979344, 527.6282490344704, 523.7265570399454, 128.53058446758604, 126.20449099729038, 123.27443058381127, 122.92667088827207, 4094.054767896624, 2042.8237893069888, 461.53129063526524, 533.8539330546604, 156.1951331326199, 8393.898042133862, 1471.660308635525, 257.6472515558695, 288.0335530984418, 3470.189172028414, 4961.849472944298, 3568.3446822520136, 528.0866872631268, 2124.0976747371146, 723.3566255885502, 2049.1484616560742, 1643.0638904685256, 480.0768481045409, 906.3909245951179, 2152.1459354353724, 935.3030994678292, 2052.632568681196, 827.9430266352942, 4083.679098116318, 7633.156510830145, 1389.609682244575, 1329.0418744907088, 1490.083776580385, 1916.5333742065136, 9175.121457832123, 6884.417255623362, 2676.1997888026876, 1730.8310340715334, 3399.3882988207856, 1930.607704100106, 4449.9688327644335, 2431.768449051914, 2694.0950446789866, 2676.270561930948, 2651.204647939847, 1643.3084222073653, 1912.701514833561, 1945.2469258230856, 1928.3110353771792, 2398.3112406233, 1732.259998638019, 801.5519603017851, 749.2160251326156, 441.96845067008724, 349.99914229647726, 331.1748110816646, 239.8503136211932, 219.45669036676594, 183.92324857989294, 165.1030039498858, 159.1315362457465, 151.0851703180793, 150.3389012422831, 139.5732500524372, 136.25242168060566, 1084.6049094234097, 131.82726984512672, 130.2114385604666, 128.32883806290553, 125.61585657516083, 527.8579859736358, 118.24160342507741, 113.89718337666012, 111.53723499437267, 111.42533212959255, 105.03907606769602, 100.79445128971491, 100.72166443215544, 276.7837584983981, 554.839183934513, 2584.722632446599, 215.81382606996985, 1296.461812806851, 6567.771985968694, 266.5800779307667, 398.644782700523, 2308.4347201503183, 454.0001388749659, 1154.930077854959, 353.3579454749853, 926.1232379789255, 1891.873480176398, 888.4797924660733, 904.9497726155528, 287.3721866780357, 1124.8811589343522, 785.0701551409535, 3938.058141580358, 1981.4176830509416, 1993.3574665720032, 8578.914965203092, 3350.525496664409, 452.39302418874723, 1262.4462112179192, 1521.4598686955549, 827.1726733168857, 2203.582344491635, 1474.6443009583124, 3072.40714216972, 2127.007918406362, 1953.5569129221421, 1071.8058997098406, 1802.7128945818934, 1941.152649911061, 1161.2007248674515, 1808.9137218582407, 1117.2965444839756, 1273.564852038916, 1174.021645631467, 1148.3455463499602, 1168.4228505507199, 1004.0335256710026, 181.2095261617536, 140.25143708741638, 134.9866430485063, 111.80358145108019, 107.22879573920217, 102.80849344343493, 101.2958054422014, 99.0028984639482, 95.44515546103412, 90.385117208695, 84.70941351243917, 84.46829775975746, 83.65983357109648, 81.49972015017033, 80.5439976099202, 77.41429812845752, 75.96614686728775, 75.81824813447237, 72.71538111522828, 72.2656917306499, 72.11126697541482, 71.50474773969835, 70.26098074622021, 69.13629044197195, 67.97425760194525, 66.34645740899677, 63.52163316367675, 63.00068059195633, 61.50036514708558, 514.3482565852967, 574.5331027111314, 510.67377843977374, 229.39902490908085, 95.95336395751244, 4578.470709873918, 10295.140737057101, 2363.7556285404157, 2825.8896050369094, 490.6490672731751, 234.82969235079682, 1485.4369741133037, 992.7388824525267, 250.3001295583812, 2454.7373952924936, 642.5581313009801, 211.9532218201271, 1084.1110959931495, 8036.849072257344, 499.75769340570446, 361.96008963216457, 1280.4553040637043, 2079.130087576218, 1387.4784738800126, 1883.5370515724076, 2599.1717341117887, 4016.193858562706, 2813.6765671487433, 940.771603757599, 2741.138561856361, 1733.3954006216761, 770.0471029617719, 890.4863279047507, 1739.9419543478816, 975.3623578577544, 1279.2326549854718, 3305.1436407796905, 1675.3721295502532, 3173.3008980329682, 1223.0033117069313, 956.252834566309, 1686.6376769743904, 1083.9643655894415, 1225.2060666960726, 1013.4122264751759, 1013.7670856658066, 1027.3660845101065, 700.3998291786053, 598.9982736475174, 594.8616833318945, 361.48091631238424, 292.55674494334204, 283.8008455600914, 223.99155560223852, 164.81111733521456, 121.88286557734592, 118.93964386276048, 114.39329731586855, 112.98205228974548, 110.57611293223285, 106.86534364327487, 104.87847809836087, 98.02569942661384, 93.42840857855794, 93.06973839664752, 91.64384605707532, 86.9296318481769, 82.84750118894583, 138.45948535445933, 76.58585501342631, 73.08420211112346, 70.93346620329262, 69.29634070402491, 68.21288837807354, 67.73780512882142, 66.93704595243797, 66.8904911203689, 11012.338772022464, 5908.363521192552, 1349.1540249255227, 884.1347462968158, 3127.123629976733, 3837.851950809764, 1086.020538642132, 1551.7165042524286, 5576.979072966, 479.0853866801606, 643.9976555270908, 1657.8460613668165, 1284.8782115541358, 449.3949988224159, 1214.2189666833096, 1243.0450307492415, 3762.388387127628, 1603.547052929002, 3644.3807092951765, 459.124670503523, 430.8681695835299, 815.1788989312049, 1388.9071738220869, 1562.77044426741, 1492.3833559303482, 3255.7281760455166, 1685.176171685491, 1898.837194459301, 1425.5326393534033, 1338.9737073839244, 2868.7058604331046, 2195.642945486518, 1383.9509009460924, 1607.8563492450094, 1113.5738173184934, 1398.3906194391745, 1919.4327913499806, 1215.261553004738, 1381.6995616195652, 1303.2453000275095, 533.3355427326393, 348.35084026852326, 315.15689836178547, 425.29123276622005, 293.71507065706925, 281.8598656242827, 296.31366049317944, 206.55624835965153, 206.03919656422332, 192.60251531257418, 181.5947303082506, 174.0687389046248, 169.33303715055803, 160.63858565092445, 155.8201157544438, 144.9413102464348, 138.7500710970912, 138.64514211953536, 138.493331809342, 137.83561883705931, 133.95780767658653, 136.13886332810364, 129.53510624522235, 124.94670532908167, 115.715910082187, 114.24626877555238, 113.11478635213615, 110.18100100029747, 105.87283157505063, 105.16659668117224, 367.6288771584027, 233.40796539606694, 307.3910889282514, 1549.6947639225557, 245.83890549005292, 252.151015675101, 364.6414935076161, 869.5240356648853, 4575.748350516337, 888.5167990444027, 538.0633249944576, 2598.212998839139, 837.4245641510884, 427.3987797250454, 232.33005550318572, 1059.7900946168772, 2321.4344065656014, 665.4713947711891, 528.4507105833266, 567.2694503858145, 3738.5481433473833, 859.2106922107774, 1273.5138613980562, 1473.1033444520476, 506.7741154576414, 1418.1392509016532, 2459.9777634539614, 973.3350076772812, 1373.038893536115, 3406.9024841877012, 869.1979106305173, 788.8162668351731, 697.3324225704355, 950.3532252564451, 987.6467842329077, 681.457980737404, 651.7876803340041, 1130.5718020602646, 729.4979299371671, 896.0270201792995, 919.6332227828796, 625.803018856724, 651.2237987427643, 686.0271670069507, 667.1104719824788, 2106.3117532779393, 846.0960534822544, 613.1178138979017, 655.9619213711015, 475.2605131681786, 444.2406730751062, 417.4126071553478, 414.6222537682143, 408.32398035084145, 393.60771807601145, 255.03937479994931, 211.00078360990503, 190.08143532954273, 183.40857235617543, 180.76655116913767, 179.4287893271606, 178.057650990136, 172.66475700154945, 159.13709835634916, 136.67256115740588, 132.13852390757089, 128.02116083793868, 126.23066028084169, 114.36913134804276, 100.15903258074088, 100.17862587135286, 94.64295076500545, 94.62086543743104, 93.00984754246024, 87.71146195564303, 142.04668086752824, 277.082085742273, 8171.005034138957, 1956.4976592024345, 175.6663035211458, 874.9886740239398, 216.5064072705228, 1133.2903772114594, 551.148526755842, 848.5099692859832, 2319.4005138571765, 4290.124176062808, 694.0165578058163, 331.65693920847053, 350.2527990263423, 669.0289871846878, 1508.1450411380583, 311.6120298979788, 484.1275166855197, 1465.9907518963937, 467.499582056346, 534.366533841642, 1083.1409613843236, 1242.671647578454, 1321.6781794206643, 666.0962236852963, 655.3927289287143, 1942.1374782090802, 990.4472665311094, 1099.7541677950453, 1724.8132628086478, 858.4750930908853, 1340.7115177273129, 968.2559293843293, 695.3112970096721, 1078.1767117534844, 889.6129549344821, 1028.0594404031224, 701.5578536599705, 662.536810891305, 1155.697129549012, 785.7140046679764, 391.82479033332237, 284.0766260471523, 234.12827344663225, 202.4970119315917, 189.7919825159347, 187.56926784974002, 173.43411197309555, 157.1914444505853, 158.21846121872315, 139.52837261339596, 137.371607136816, 132.51494740830518, 140.47012199717918, 132.25470660997462, 841.5023282410142, 120.28883772908551, 117.80443213897604, 117.42622677681265, 107.39042460942633, 125.36828718648987, 103.65495784841043, 101.27300678327603, 103.67624317002988, 99.8438197514714, 95.52860539165499, 93.76244069853695, 91.19138064742701, 89.45142539802106, 308.211028316672, 169.16146195162418, 3144.3923952039627, 260.41398115466245, 910.468939171474, 3042.944333043091, 783.2112644465668, 408.33501233102294, 2457.912123539477, 638.2989790520097, 1758.9503813852766, 945.2101147949487, 5947.2378968665935, 984.005589356268, 491.52685085159135, 621.3843107239645, 655.0919881484292, 499.52150668572034, 291.2660208394464, 697.0118150250869, 219.25674379829923, 2048.9904282264242, 553.7741598748117, 1262.0062144249353, 334.1886032527279, 775.4188696069732, 906.9649313683879, 643.1661049043026, 625.2060347376687, 633.5743438006052, 841.7909410616455, 1413.7693470319057, 736.9369248067592, 735.1402822567962, 719.7568961065815, 871.7494259711946, 751.8234853220177, 772.7834744190727, 644.0166603035173, 640.4477877525578], \"Total\": [15691.0, 9155.0, 18672.0, 10633.0, 8877.0, 33571.0, 14273.0, 19279.0, 13133.0, 17887.0, 12224.0, 9218.0, 8394.0, 8098.0, 8096.0, 38464.0, 12104.0, 11550.0, 7218.0, 12734.0, 5556.0, 6098.0, 14817.0, 3799.0, 3715.0, 10539.0, 4126.0, 5901.0, 17462.0, 4821.0, 310.82373796130037, 287.8701334392931, 258.2812662986818, 240.65232744846216, 232.0130254677947, 226.20817568795314, 184.06388336246098, 175.823330071758, 155.44568670705846, 151.29975081242816, 141.10398460515935, 141.10161263526274, 121.73277831014963, 118.69923859784832, 112.81788760422883, 110.2874075236112, 93.66133834374376, 93.41564526881957, 91.26864871723112, 89.62652490569803, 85.88708567198628, 82.83835111040001, 80.73777154655805, 80.25058151442319, 76.8769356161969, 75.8570301602087, 75.98950522872863, 73.12184794904381, 71.46533563214395, 65.09069818503197, 1059.6479685902618, 670.2802485354936, 224.3939350942509, 657.7434991011052, 11550.223847405461, 14273.46524288389, 7790.318135027036, 2668.066152360841, 12224.473079449514, 692.480280713968, 449.31448935811227, 17887.912611538468, 1906.2849668340257, 942.6876632389154, 2361.434334226002, 2451.056624424771, 5543.884986030165, 2746.3037150123005, 5268.960174011224, 4214.135897167942, 1122.177258944046, 10745.109728592712, 1167.937050167538, 42416.092288607324, 5293.350314364692, 3078.8668959264814, 1978.5675219727004, 927.2312377880484, 587.8822562954662, 2322.2949092647636, 10175.806926763258, 33571.63561328366, 3120.7304671603483, 9521.26604642277, 27409.626774872493, 20955.80223733122, 18766.912173391265, 10539.386783161437, 19279.182356090587, 4799.26977885643, 14235.82186172904, 17462.424465164084, 11465.514617600347, 8169.486651545935, 9193.90655427587, 14360.828825338707, 6816.658690989779, 6576.323819068263, 10724.11849843964, 2574.1511323376194, 612.1893377735162, 414.84269375507654, 307.82158983733746, 299.409333770978, 245.44703548243783, 244.99578801214474, 231.58105950924974, 212.3161893121601, 198.25585732449716, 197.57554887385632, 187.55083018051164, 185.68627647207725, 173.61872052787825, 169.47837320234024, 162.54267771480528, 159.23308887656074, 151.59068563380723, 146.76906667301142, 181.88138452495704, 146.33028334045753, 141.83129907104066, 142.11195414569727, 131.69311776608774, 127.2486090544227, 122.10835721233416, 121.94004872137666, 114.70115386749804, 109.93857413764638, 106.20453158026783, 365.19016136722405, 188.179329207397, 959.2220065696798, 516.2107596696106, 305.95288650548247, 1290.3187891330806, 620.0463233354794, 450.88079853767084, 321.27535216137574, 624.1552658385975, 302.4254818966268, 571.8557817020879, 712.0841944684165, 414.1842346219882, 373.1533899681907, 2642.0480421345237, 9521.26604642277, 3759.5190041850183, 1799.6399686943205, 4328.890664128638, 10539.386783161437, 1870.4274642495234, 19279.182356090587, 18672.58987038898, 1476.2411356586645, 3378.246305456755, 2100.1740599262184, 2197.2241026567185, 17887.912611538468, 10724.11849843964, 1547.5127154888294, 7221.458688062649, 3509.286866599118, 2938.350124223732, 1407.6385046288494, 12224.473079449514, 14273.46524288389, 3753.644018609208, 1950.8846561587334, 42416.092288607324, 5473.378972427037, 6323.2126976732825, 2634.3902822019813, 7608.613854549386, 12104.957131650426, 10745.109728592712, 8169.486651545935, 33571.63561328366, 6613.93268298041, 4214.135897167942, 20955.80223733122, 8096.896253840958, 11550.223847405461, 249.4572817058583, 210.1976513836947, 190.90815049085606, 189.57665416387434, 187.77440767298592, 149.38289111747474, 141.9964326793207, 124.50199428159256, 123.91603737901431, 121.19590530923222, 114.71490920416596, 113.06703981817857, 112.74677074300831, 97.70052128510196, 97.63825101851913, 90.22968746743291, 89.84575829144691, 82.3527040439841, 80.51139312980997, 75.59972261461608, 74.5852812667216, 72.97578090798696, 69.64307894457136, 67.4286922002666, 66.27481361232643, 65.18307634128661, 69.0861646036488, 63.81802093414754, 64.92956939096, 62.470511210559934, 1189.0251222991863, 3112.1696735201663, 507.62849582655383, 188.5067093703809, 381.93799043144753, 6937.958131760953, 5318.63796189308, 12104.957131650426, 1164.3350821082347, 4179.117692014628, 142.98827885426448, 14817.866886732912, 2926.9966384071827, 1291.5595380996153, 3168.257334258381, 12199.883018555696, 1963.4295232315533, 279.9762897315521, 1109.2345741177803, 5564.061546701142, 2567.9630342047717, 3278.5102314970395, 3343.278496685039, 3081.907997262563, 754.5591146080013, 4634.569273175729, 2995.5353834588427, 13133.0136443036, 4467.904995825048, 17462.424465164084, 11465.514617600347, 3938.517534566219, 9987.269397458169, 14360.828825338707, 14235.82186172904, 18766.912173391265, 27409.626774872493, 38464.09038331218, 42416.092288607324, 9252.031484379439, 33571.63561328366, 10633.408503718234, 7336.860205093652, 20955.80223733122, 6672.364611343996, 10175.806926763258, 7223.088638622899, 2399.43290906329, 2233.4160744404453, 2191.0904172292503, 1369.4088904384946, 1003.6450573948815, 915.5335057457564, 909.3731906197597, 617.7159568238784, 365.49613107272245, 283.7309953747875, 263.8047990102222, 248.96436285775692, 222.67209190867666, 221.27787769062292, 204.0124940912862, 187.89475875324655, 186.76527831229322, 183.24784579751997, 180.47027724183286, 169.38577758537676, 161.65063956844074, 149.8300315279259, 149.03460432690565, 135.40584108450298, 530.062356623423, 526.2291878220666, 129.14726251436088, 126.8199475087434, 123.8900353301656, 123.5426684044332, 4126.180983204508, 2079.228863602283, 466.23040245341866, 540.647905830711, 157.0628340140631, 8877.137447533434, 1517.8181662541356, 261.07928875997936, 292.56804974891065, 3712.0249192948427, 5556.234854839109, 3944.5936430887987, 550.5733266958761, 2400.6381406751943, 779.835023544768, 2497.224735919619, 1982.9193819649722, 516.0657596544585, 1066.4377846082632, 2899.6273761251227, 1116.725224626743, 2834.1060739751724, 992.9218303730203, 7009.579408239806, 19279.182356090587, 2027.5283640921211, 2006.5557768322562, 2429.5768588249225, 3587.249698360413, 38464.09038331218, 27409.626774872493, 6191.802247605038, 3628.174763918061, 13461.877567521795, 4748.978287770165, 33571.63561328366, 9193.90655427587, 12734.293477484167, 18766.912173391265, 42416.092288607324, 4474.291314986157, 14817.866886732912, 17462.424465164084, 1928.9641794853815, 2399.294700505161, 1732.9873817030418, 802.200894348869, 749.863846207948, 442.61892230237294, 350.6471288687253, 331.82257471938505, 240.49833904436602, 220.10431805167977, 184.57159991510667, 165.75087586532516, 159.77942582802922, 151.73288384632775, 150.9872108632418, 140.22164870827015, 136.9003918754452, 1089.87889059317, 132.47491578165665, 130.85965365325438, 128.97727703150227, 126.26458056950737, 530.7247455310198, 118.8893978162091, 114.54512769912793, 112.18513170404641, 112.07330489376457, 105.68672062073927, 101.44239329861064, 101.36932069444529, 278.8173100172455, 565.3635529307951, 2711.9806580396807, 223.29867387404315, 1527.9150466628207, 9218.0967178075, 288.34232465809106, 458.1010287174165, 3308.184240791347, 537.2279970016548, 1577.8174729619514, 410.9737405317378, 1295.4175343012384, 3053.3235804376995, 1279.2721780643942, 1391.4468992902086, 334.10745316793924, 1953.3549116153013, 1232.3964926420074, 10724.11849843964, 4634.3275236915815, 4748.978287770165, 38464.09038331218, 12734.293477484167, 606.4258890787195, 3200.624501364432, 4472.610806130977, 1617.8412941384831, 9252.031484379439, 4749.329009024245, 27409.626774872493, 13461.877567521795, 12199.883018555696, 2938.350124223732, 14235.82186172904, 18766.912173391265, 4086.4843853624507, 42416.092288607324, 3856.617222994291, 7656.71230612836, 6613.93268298041, 6497.7690975721725, 20955.80223733122, 1004.8017102801738, 181.86838133835175, 140.90868719490436, 135.64308225995194, 112.45993844729942, 107.88508017563701, 103.46484520239946, 101.95190033061921, 99.65918653420071, 96.10480905807195, 91.04130163219513, 85.36607444430405, 85.12492619734735, 84.31631180918298, 82.15602231306761, 81.20071902581701, 78.07055394344988, 76.62251082926663, 76.47445910192867, 73.37157790466905, 72.92181760409429, 72.76765137138594, 72.16108070637786, 70.91738678568485, 69.79300336016925, 68.63100903731251, 67.0026786148303, 64.17849174947747, 63.657103373770646, 62.15686163365054, 522.5340188688994, 629.6779746708587, 572.1524082302319, 248.2108388836897, 99.12743885236534, 7218.192721406725, 18672.58987038898, 4119.428674251671, 5219.2206635796065, 682.2313581091433, 288.5865818135101, 2907.16364810791, 1780.758001002212, 329.4361261472351, 5901.277951159431, 1103.546845713556, 272.4836966218182, 2310.5772122501476, 33571.63561328366, 884.8101840380759, 578.0659933790319, 3342.53650896958, 6497.7690975721725, 4060.0233031286048, 6323.2126976732825, 10539.386783161437, 20955.80223733122, 12734.293477484167, 2559.299909154003, 14352.80411218354, 7656.71230612836, 2099.465393709753, 2705.7073016694653, 9193.90655427587, 3378.246305456755, 5717.266207710773, 38464.09038331218, 9987.269397458169, 42416.092288607324, 5343.667557024192, 3317.0772792001594, 18766.912173391265, 7100.940542481695, 14360.828825338707, 5293.350314364692, 6576.323819068263, 9521.26604642277, 701.0343459413168, 599.6322778297366, 595.4954768671691, 362.11525513700826, 293.1912069196524, 284.4354010395614, 224.62568286759407, 165.44538865682298, 122.51693404360238, 119.59471575728169, 115.0273497759957, 113.61646703864835, 111.21004898519014, 107.49933357397396, 105.51251849618323, 98.6595947190937, 94.06233111843666, 93.70361563899728, 92.27773134749218, 87.56341956024168, 83.48141319860326, 139.52732556324804, 77.21987464533045, 73.71818785776236, 71.56754659995615, 69.93037647381693, 68.8467074245781, 68.37186482316066, 67.57113062717933, 67.52460021503006, 15691.788099214898, 8098.885287762334, 1767.0008305968129, 1155.929463539902, 4821.05456037825, 6098.222796368528, 1600.797385216316, 2675.3573347366214, 13133.0136443036, 740.2961785009892, 1108.9406025198932, 3856.617222994291, 2995.9146824308555, 764.6101834083416, 2982.6418068658236, 3093.747985363197, 14352.80411218354, 4438.318484918591, 14360.828825338707, 794.7055565771657, 733.2859336635996, 1852.4137170229426, 4060.0233031286048, 4847.338965867795, 5010.134092129708, 17462.424465164084, 7336.860205093652, 9987.269397458169, 6497.7690975721725, 6576.323819068263, 33571.63561328366, 27409.626774872493, 9218.0967178075, 14817.866886732912, 4889.924548833849, 11465.514617600347, 42416.092288607324, 7223.088638622899, 18766.912173391265, 13461.877567521795, 533.986562455865, 349.0287561111324, 315.80778490434517, 426.19203886326426, 294.36613921954495, 282.5108050032104, 297.10725637142934, 207.20727300501602, 206.6900834710934, 193.25831116019327, 182.24558813654704, 174.7199177633594, 169.98452842794387, 161.28958594321435, 156.47096522862384, 145.60297191571505, 139.4010143820546, 139.2960408129171, 139.14425681796587, 138.48652784482303, 134.60877100242294, 136.8203932749934, 130.18616985189564, 125.59769191653933, 116.36739442045798, 114.89710578978703, 113.76581747298485, 110.83214111844705, 106.52400189304873, 105.81752565926713, 370.34585415582995, 235.6298909300649, 315.8165124841293, 1834.967025830873, 260.8535184932552, 273.74459276242567, 419.11332041737415, 1168.715747978216, 8096.896253840958, 1208.512081975863, 686.4772264365431, 4453.1780822817145, 1171.3299320870428, 532.2412272970195, 259.63659917229984, 1825.2762899094328, 5901.277951159431, 1105.5229915444386, 844.8197237680712, 968.5136425776716, 15691.788099214898, 1791.0971084708942, 3250.920307257921, 4847.338965867795, 872.5338525084866, 4889.924548833849, 12734.293477484167, 3093.747985363197, 6098.222796368528, 38464.09038331218, 2511.206103905973, 2172.384119261402, 1909.756552987522, 4821.05456037825, 5473.378972427037, 2100.1740599262184, 1852.4137170229426, 14352.80411218354, 3020.906343458804, 7608.613854549386, 42416.092288607324, 2421.4537079541237, 3957.493694210698, 8098.885287762334, 20955.80223733122, 2106.9957423977435, 846.7602192604638, 613.7820127709118, 656.8397111365355, 475.92476586346373, 444.9048742466786, 418.0769857780967, 415.2905939346902, 408.98815494564525, 394.27194613386075, 255.7035776599261, 211.66504186351858, 190.74568009903862, 184.07285589166122, 181.43075619959112, 180.09303925695897, 178.72191550735673, 173.3289516841316, 159.81428409307603, 137.34285414977617, 132.8026971287912, 128.68584294632393, 126.894931291412, 115.07419957036971, 100.82342383069229, 100.84453157856905, 95.30734978362108, 95.28515582679954, 93.67459329490401, 88.37567671957133, 143.53222177233908, 282.86198934825444, 9155.086051977523, 2233.5059073559332, 182.40040610995658, 1048.7937124243401, 234.0749206767633, 1519.374564960487, 701.3389329183833, 1168.6766222444098, 3957.493694210698, 8394.850536835058, 971.4199690142777, 400.95478171040327, 435.308733363503, 1049.7055092977887, 3250.920307257921, 385.7311930353043, 805.2087415152777, 4889.924548833849, 810.7326675712434, 1018.2285877406474, 3614.4457754073237, 5564.061546701142, 10633.408503718234, 2172.384119261402, 2108.7330867891555, 38464.09038331218, 6816.658690989779, 10175.806926763258, 42416.092288607324, 4799.26977885643, 20955.80223733122, 7608.613854549386, 2511.206103905973, 14235.82186172904, 7221.458688062649, 17462.424465164084, 14817.866886732912, 8169.486651545935, 1156.422062622746, 786.3524516569604, 392.4985094657338, 284.7371987316774, 234.7664282917545, 203.1360321561247, 190.43562770139118, 188.20754588526358, 174.07212500793216, 157.82975417200367, 158.86902882577004, 140.16887446936286, 138.00966650226488, 133.15311547278893, 141.14741770692137, 132.89302038462029, 845.800084289057, 120.92786474612346, 118.44255087100537, 118.06441246375566, 108.02869400142302, 126.13790499142132, 104.29300923710068, 101.91119467988501, 104.33434771926993, 100.48214802441856, 96.16688976389688, 94.41085547207072, 91.8296204042799, 90.09014015479248, 311.2779655236222, 170.42644373893805, 3715.7973136418996, 275.6131482525441, 1048.1041011568063, 3799.3564523908176, 897.2345492088532, 453.2597282573237, 3126.8651548983453, 752.5172128667288, 2450.6679538411686, 1263.6221143838297, 10633.408503718234, 1397.3774098368363, 650.1176299225316, 897.970138384045, 1015.5915529739916, 754.1666611760522, 382.79159603950745, 1493.3839436692222, 262.89560919375157, 13461.877567521795, 1348.649409507485, 7221.458688062649, 593.1537029372985, 3343.278496685039, 5343.667557024192, 3081.907997262563, 2971.583511875392, 3286.9978522621595, 7640.116911497851, 38464.09038331218, 5473.378972427037, 7891.345085663803, 7608.613854549386, 42416.092288607324, 14360.828825338707, 20955.80223733122, 9987.269397458169, 27409.626774872493], \"Category\": [\"Default\", \"Default\", \"Default\", \"Default\", \"Default\", \"Default\", \"Default\", \"Default\", \"Default\", \"Default\", \"Default\", \"Default\", \"Default\", \"Default\", \"Default\", \"Default\", \"Default\", \"Default\", \"Default\", \"Default\", \"Default\", \"Default\", \"Default\", \"Default\", \"Default\", \"Default\", \"Default\", \"Default\", \"Default\", \"Default\", \"Topic1\", \"Topic1\", \"Topic1\", \"Topic1\", \"Topic1\", \"Topic1\", \"Topic1\", \"Topic1\", \"Topic1\", \"Topic1\", \"Topic1\", \"Topic1\", \"Topic1\", \"Topic1\", \"Topic1\", \"Topic1\", \"Topic1\", \"Topic1\", \"Topic1\", \"Topic1\", \"Topic1\", \"Topic1\", \"Topic1\", \"Topic1\", \"Topic1\", \"Topic1\", \"Topic1\", \"Topic1\", \"Topic1\", \"Topic1\", \"Topic1\", \"Topic1\", \"Topic1\", \"Topic1\", \"Topic1\", \"Topic1\", \"Topic1\", \"Topic1\", \"Topic1\", \"Topic1\", \"Topic1\", \"Topic1\", \"Topic1\", \"Topic1\", \"Topic1\", \"Topic1\", \"Topic1\", \"Topic1\", \"Topic1\", \"Topic1\", \"Topic1\", \"Topic1\", \"Topic1\", \"Topic1\", \"Topic1\", \"Topic1\", \"Topic1\", \"Topic1\", \"Topic1\", \"Topic1\", \"Topic1\", \"Topic1\", \"Topic1\", \"Topic1\", \"Topic1\", \"Topic1\", \"Topic1\", \"Topic1\", \"Topic1\", \"Topic1\", \"Topic1\", \"Topic1\", \"Topic1\", \"Topic1\", \"Topic1\", \"Topic1\", \"Topic1\", \"Topic1\", \"Topic1\", \"Topic2\", \"Topic2\", \"Topic2\", \"Topic2\", \"Topic2\", \"Topic2\", \"Topic2\", \"Topic2\", \"Topic2\", \"Topic2\", \"Topic2\", \"Topic2\", \"Topic2\", \"Topic2\", \"Topic2\", \"Topic2\", \"Topic2\", \"Topic2\", \"Topic2\", \"Topic2\", \"Topic2\", \"Topic2\", \"Topic2\", \"Topic2\", \"Topic2\", \"Topic2\", \"Topic2\", \"Topic2\", \"Topic2\", \"Topic2\", \"Topic2\", \"Topic2\", \"Topic2\", \"Topic2\", \"Topic2\", \"Topic2\", \"Topic2\", \"Topic2\", \"Topic2\", \"Topic2\", \"Topic2\", \"Topic2\", \"Topic2\", \"Topic2\", \"Topic2\", \"Topic2\", \"Topic2\", \"Topic2\", \"Topic2\", \"Topic2\", \"Topic2\", \"Topic2\", \"Topic2\", \"Topic2\", \"Topic2\", \"Topic2\", \"Topic2\", \"Topic2\", \"Topic2\", \"Topic2\", \"Topic2\", \"Topic2\", \"Topic2\", \"Topic2\", \"Topic2\", \"Topic2\", \"Topic2\", \"Topic2\", \"Topic2\", \"Topic2\", \"Topic2\", \"Topic2\", \"Topic2\", \"Topic2\", \"Topic2\", \"Topic2\", \"Topic2\", \"Topic2\", \"Topic2\", \"Topic2\", \"Topic2\", \"Topic2\", \"Topic2\", \"Topic3\", \"Topic3\", \"Topic3\", \"Topic3\", \"Topic3\", \"Topic3\", \"Topic3\", \"Topic3\", \"Topic3\", \"Topic3\", \"Topic3\", \"Topic3\", \"Topic3\", \"Topic3\", \"Topic3\", \"Topic3\", \"Topic3\", \"Topic3\", \"Topic3\", \"Topic3\", \"Topic3\", \"Topic3\", \"Topic3\", \"Topic3\", \"Topic3\", \"Topic3\", \"Topic3\", \"Topic3\", \"Topic3\", \"Topic3\", \"Topic3\", \"Topic3\", \"Topic3\", \"Topic3\", \"Topic3\", \"Topic3\", \"Topic3\", \"Topic3\", \"Topic3\", \"Topic3\", \"Topic3\", \"Topic3\", \"Topic3\", \"Topic3\", \"Topic3\", \"Topic3\", \"Topic3\", \"Topic3\", \"Topic3\", \"Topic3\", \"Topic3\", \"Topic3\", \"Topic3\", \"Topic3\", \"Topic3\", \"Topic3\", \"Topic3\", \"Topic3\", \"Topic3\", \"Topic3\", \"Topic3\", \"Topic3\", \"Topic3\", \"Topic3\", \"Topic3\", \"Topic3\", \"Topic3\", \"Topic3\", \"Topic3\", \"Topic3\", \"Topic3\", \"Topic3\", \"Topic3\", \"Topic3\", \"Topic3\", \"Topic3\", \"Topic3\", \"Topic4\", \"Topic4\", \"Topic4\", \"Topic4\", \"Topic4\", \"Topic4\", \"Topic4\", \"Topic4\", \"Topic4\", \"Topic4\", \"Topic4\", \"Topic4\", \"Topic4\", \"Topic4\", \"Topic4\", \"Topic4\", \"Topic4\", \"Topic4\", \"Topic4\", \"Topic4\", \"Topic4\", \"Topic4\", \"Topic4\", \"Topic4\", \"Topic4\", \"Topic4\", \"Topic4\", \"Topic4\", \"Topic4\", \"Topic4\", \"Topic4\", \"Topic4\", \"Topic4\", \"Topic4\", \"Topic4\", \"Topic4\", \"Topic4\", \"Topic4\", \"Topic4\", \"Topic4\", \"Topic4\", \"Topic4\", \"Topic4\", \"Topic4\", \"Topic4\", \"Topic4\", \"Topic4\", \"Topic4\", \"Topic4\", \"Topic4\", \"Topic4\", \"Topic4\", \"Topic4\", \"Topic4\", \"Topic4\", \"Topic4\", \"Topic4\", \"Topic4\", \"Topic4\", \"Topic4\", \"Topic4\", \"Topic4\", \"Topic4\", \"Topic4\", \"Topic4\", \"Topic4\", \"Topic4\", \"Topic4\", \"Topic4\", \"Topic4\", \"Topic4\", \"Topic4\", \"Topic4\", \"Topic5\", \"Topic5\", \"Topic5\", \"Topic5\", \"Topic5\", \"Topic5\", \"Topic5\", \"Topic5\", \"Topic5\", \"Topic5\", \"Topic5\", \"Topic5\", \"Topic5\", \"Topic5\", \"Topic5\", \"Topic5\", \"Topic5\", \"Topic5\", \"Topic5\", \"Topic5\", \"Topic5\", \"Topic5\", \"Topic5\", \"Topic5\", \"Topic5\", \"Topic5\", \"Topic5\", \"Topic5\", \"Topic5\", \"Topic5\", \"Topic5\", \"Topic5\", \"Topic5\", \"Topic5\", \"Topic5\", \"Topic5\", \"Topic5\", \"Topic5\", \"Topic5\", \"Topic5\", \"Topic5\", \"Topic5\", \"Topic5\", \"Topic5\", \"Topic5\", \"Topic5\", \"Topic5\", \"Topic5\", \"Topic5\", \"Topic5\", \"Topic5\", \"Topic5\", \"Topic5\", \"Topic5\", \"Topic5\", \"Topic5\", \"Topic5\", \"Topic5\", \"Topic5\", \"Topic5\", \"Topic5\", \"Topic5\", \"Topic5\", \"Topic5\", \"Topic5\", \"Topic5\", \"Topic5\", \"Topic5\", \"Topic5\", \"Topic5\", \"Topic5\", \"Topic5\", \"Topic5\", \"Topic6\", \"Topic6\", \"Topic6\", \"Topic6\", \"Topic6\", \"Topic6\", \"Topic6\", \"Topic6\", \"Topic6\", \"Topic6\", \"Topic6\", \"Topic6\", \"Topic6\", \"Topic6\", \"Topic6\", \"Topic6\", \"Topic6\", \"Topic6\", \"Topic6\", \"Topic6\", \"Topic6\", \"Topic6\", \"Topic6\", \"Topic6\", \"Topic6\", \"Topic6\", \"Topic6\", \"Topic6\", \"Topic6\", \"Topic6\", \"Topic6\", \"Topic6\", \"Topic6\", \"Topic6\", \"Topic6\", \"Topic6\", \"Topic6\", \"Topic6\", \"Topic6\", \"Topic6\", \"Topic6\", \"Topic6\", \"Topic6\", \"Topic6\", \"Topic6\", \"Topic6\", \"Topic6\", \"Topic6\", \"Topic6\", \"Topic6\", \"Topic6\", \"Topic6\", \"Topic6\", \"Topic6\", \"Topic6\", \"Topic6\", \"Topic6\", \"Topic6\", \"Topic6\", \"Topic6\", \"Topic6\", \"Topic6\", \"Topic6\", \"Topic6\", \"Topic6\", \"Topic6\", \"Topic6\", \"Topic6\", \"Topic6\", \"Topic6\", \"Topic6\", \"Topic6\", \"Topic6\", \"Topic6\", \"Topic6\", \"Topic6\", \"Topic6\", \"Topic7\", \"Topic7\", \"Topic7\", \"Topic7\", \"Topic7\", \"Topic7\", \"Topic7\", \"Topic7\", \"Topic7\", \"Topic7\", \"Topic7\", \"Topic7\", \"Topic7\", \"Topic7\", \"Topic7\", \"Topic7\", \"Topic7\", \"Topic7\", \"Topic7\", \"Topic7\", \"Topic7\", \"Topic7\", \"Topic7\", \"Topic7\", \"Topic7\", \"Topic7\", \"Topic7\", \"Topic7\", \"Topic7\", \"Topic7\", \"Topic7\", \"Topic7\", \"Topic7\", \"Topic7\", \"Topic7\", \"Topic7\", \"Topic7\", \"Topic7\", \"Topic7\", \"Topic7\", \"Topic7\", \"Topic7\", \"Topic7\", \"Topic7\", \"Topic7\", \"Topic7\", \"Topic7\", \"Topic7\", \"Topic7\", \"Topic7\", \"Topic7\", \"Topic7\", \"Topic7\", \"Topic7\", \"Topic7\", \"Topic7\", \"Topic7\", \"Topic7\", \"Topic7\", \"Topic7\", \"Topic7\", \"Topic7\", \"Topic7\", \"Topic7\", \"Topic7\", \"Topic7\", \"Topic7\", \"Topic7\", \"Topic7\", \"Topic7\", \"Topic8\", \"Topic8\", \"Topic8\", \"Topic8\", \"Topic8\", \"Topic8\", \"Topic8\", \"Topic8\", \"Topic8\", \"Topic8\", \"Topic8\", \"Topic8\", \"Topic8\", \"Topic8\", \"Topic8\", \"Topic8\", \"Topic8\", \"Topic8\", \"Topic8\", \"Topic8\", \"Topic8\", \"Topic8\", \"Topic8\", \"Topic8\", \"Topic8\", \"Topic8\", \"Topic8\", \"Topic8\", \"Topic8\", \"Topic8\", \"Topic8\", \"Topic8\", \"Topic8\", \"Topic8\", \"Topic8\", \"Topic8\", \"Topic8\", \"Topic8\", \"Topic8\", \"Topic8\", \"Topic8\", \"Topic8\", \"Topic8\", \"Topic8\", \"Topic8\", \"Topic8\", \"Topic8\", \"Topic8\", \"Topic8\", \"Topic8\", \"Topic8\", \"Topic8\", \"Topic8\", \"Topic8\", \"Topic8\", \"Topic8\", \"Topic8\", \"Topic8\", \"Topic8\", \"Topic8\", \"Topic8\", \"Topic8\", \"Topic8\", \"Topic8\", \"Topic8\", \"Topic8\", \"Topic8\", \"Topic8\", \"Topic8\", \"Topic8\", \"Topic8\", \"Topic8\", \"Topic8\", \"Topic8\", \"Topic8\", \"Topic9\", \"Topic9\", \"Topic9\", \"Topic9\", \"Topic9\", \"Topic9\", \"Topic9\", \"Topic9\", \"Topic9\", \"Topic9\", \"Topic9\", \"Topic9\", \"Topic9\", \"Topic9\", \"Topic9\", \"Topic9\", \"Topic9\", \"Topic9\", \"Topic9\", \"Topic9\", \"Topic9\", \"Topic9\", \"Topic9\", \"Topic9\", \"Topic9\", \"Topic9\", \"Topic9\", \"Topic9\", \"Topic9\", \"Topic9\", \"Topic9\", \"Topic9\", \"Topic9\", \"Topic9\", \"Topic9\", \"Topic9\", \"Topic9\", \"Topic9\", \"Topic9\", \"Topic9\", \"Topic9\", \"Topic9\", \"Topic9\", \"Topic9\", \"Topic9\", \"Topic9\", \"Topic9\", \"Topic9\", \"Topic9\", \"Topic9\", \"Topic9\", \"Topic9\", \"Topic9\", \"Topic9\", \"Topic9\", \"Topic9\", \"Topic9\", \"Topic9\", \"Topic9\", \"Topic9\", \"Topic9\", \"Topic9\", \"Topic9\", \"Topic9\", \"Topic9\", \"Topic9\", \"Topic9\", \"Topic9\", \"Topic9\", \"Topic9\", \"Topic10\", \"Topic10\", \"Topic10\", \"Topic10\", \"Topic10\", \"Topic10\", \"Topic10\", \"Topic10\", \"Topic10\", \"Topic10\", \"Topic10\", \"Topic10\", \"Topic10\", \"Topic10\", \"Topic10\", \"Topic10\", \"Topic10\", \"Topic10\", \"Topic10\", \"Topic10\", \"Topic10\", \"Topic10\", \"Topic10\", \"Topic10\", \"Topic10\", \"Topic10\", \"Topic10\", \"Topic10\", \"Topic10\", \"Topic10\", \"Topic10\", \"Topic10\", \"Topic10\", \"Topic10\", \"Topic10\", \"Topic10\", \"Topic10\", \"Topic10\", \"Topic10\", \"Topic10\", \"Topic10\", \"Topic10\", \"Topic10\", \"Topic10\", \"Topic10\", \"Topic10\", \"Topic10\", \"Topic10\", \"Topic10\", \"Topic10\", \"Topic10\", \"Topic10\", \"Topic10\", \"Topic10\", \"Topic10\", \"Topic10\", \"Topic10\", \"Topic10\", \"Topic10\", \"Topic10\", \"Topic10\", \"Topic10\", \"Topic10\", \"Topic10\", \"Topic10\", \"Topic10\", \"Topic10\", \"Topic10\", \"Topic10\", \"Topic10\"], \"logprob\": [30.0, 29.0, 28.0, 27.0, 26.0, 25.0, 24.0, 23.0, 22.0, 21.0, 20.0, 19.0, 18.0, 17.0, 16.0, 15.0, 14.0, 13.0, 12.0, 11.0, 10.0, 9.0, 8.0, 7.0, 6.0, 5.0, 4.0, 3.0, 2.0, 1.0, -6.9993, -7.0762, -7.1849, -7.2558, -7.2924, -7.3178, -7.5246, -7.5705, -7.6941, -7.7213, -7.7913, -7.7914, -7.9397, -7.965, -8.0161, -8.0389, -8.2032, -8.2059, -8.2293, -8.2476, -8.2905, -8.3269, -8.3527, -8.3588, -8.4021, -8.4155, -8.4138, -8.4526, -8.4757, -8.5699, -5.8228, -6.2847, -7.3556, -6.344, -3.6279, -3.4498, -4.0319, -5.0574, -3.6336, -6.3342, -6.763, -3.3809, -5.4376, -6.0872, -5.258, -5.227, -4.5496, -5.19, -4.6215, -4.8358, -5.9918, -4.0494, -5.9601, -2.943, -4.6956, -5.1582, -5.5392, -6.1919, -6.5514, -5.4898, -4.3688, -3.5006, -5.3341, -4.5373, -3.8199, -4.0131, -4.139, -4.5448, -4.2155, -5.1193, -4.4844, -4.3851, -4.7061, -4.8971, -4.9194, -4.7875, -5.087, -5.0985, -5.1136, -4.622, -6.0591, -6.4487, -6.7477, -6.7755, -6.9746, -6.9765, -7.0329, -7.12, -7.1888, -7.1922, -7.2445, -7.2545, -7.3219, -7.3462, -7.3881, -7.4088, -7.4582, -7.4906, -7.2761, -7.4936, -7.525, -7.5232, -7.5995, -7.634, -7.6755, -7.6769, -7.7384, -7.781, -7.8158, -6.6313, -7.2684, -5.7458, -6.3422, -6.8275, -5.5062, -6.2057, -6.5026, -6.8082, -6.2311, -6.8619, -6.3205, -6.1356, -6.6053, -6.6967, -5.1109, -4.1182, -4.8881, -5.5229, -4.856, -4.2054, -5.5202, -3.7941, -3.8882, -5.7158, -5.1505, -5.4937, -5.4651, -4.0271, -4.383, -5.71, -4.7148, -5.1822, -5.3017, -5.7742, -4.4775, -4.5138, -5.2587, -5.6473, -4.1297, -5.1614, -5.1079, -5.5102, -5.0687, -4.8903, -4.9506, -5.1517, -4.7851, -5.2974, -5.3752, -5.1048, -5.2781, -5.2338, -6.9524, -7.1241, -7.2206, -7.2276, -7.2372, -7.4668, -7.5177, -7.6498, -7.6546, -7.6769, -7.7321, -7.7467, -7.7495, -7.8936, -7.8942, -7.9737, -7.978, -8.0657, -8.0885, -8.1519, -8.1655, -8.1876, -8.2347, -8.2673, -8.2847, -8.3015, -8.2435, -8.3229, -8.3056, -8.3444, -5.458, -4.5609, -6.3217, -7.2741, -6.6105, -3.9058, -4.1627, -3.4557, -5.6491, -4.528, -7.5787, -3.4871, -4.9163, -5.683, -4.9206, -3.7806, -5.3617, -7.0067, -5.8564, -4.5267, -5.1815, -4.994, -5.0099, -5.0799, -6.208, -4.7642, -5.1118, -3.9872, -4.8276, -3.802, -4.1381, -4.9989, -4.325, -4.0697, -4.0958, -3.9365, -3.8353, -3.6318, -3.585, -4.5422, -3.9083, -4.547, -4.7468, -4.4943, -4.8414, -4.799, -4.9082, -4.6563, -4.728, -4.7472, -5.2174, -5.5283, -5.6202, -5.627, -6.014, -6.5395, -6.7932, -6.8662, -6.9242, -7.0361, -7.0424, -7.1239, -7.2064, -7.2125, -7.2316, -7.2469, -7.3105, -7.3574, -7.4336, -7.439, -7.5353, -6.1706, -6.1781, -7.5829, -7.6011, -7.6246, -7.6274, -4.1217, -4.8169, -6.3045, -6.1589, -7.3879, -3.4038, -5.1449, -6.8874, -6.776, -4.2871, -3.9295, -4.2592, -6.1698, -4.7779, -5.8551, -4.8138, -5.0347, -6.2651, -5.6296, -4.7648, -5.5982, -4.8122, -5.7201, -4.1243, -3.4988, -5.2023, -5.2468, -5.1324, -4.8808, -3.3148, -3.602, -4.5469, -4.9827, -4.3077, -4.8734, -4.0384, -4.6427, -4.5402, -4.5468, -4.5563, -5.0346, -4.8828, -4.8659, -4.573, -4.3548, -4.6802, -5.4508, -5.5183, -6.0461, -6.2794, -6.3347, -6.6574, -6.7462, -6.9229, -7.0308, -7.0676, -7.1195, -7.1245, -7.1988, -7.2229, -5.1484, -7.2559, -7.2682, -7.2828, -7.3041, -5.8685, -7.3646, -7.4021, -7.423, -7.424, -7.483, -7.5243, -7.525, -6.5141, -5.8187, -4.28, -6.763, -4.97, -3.3474, -6.5517, -6.1493, -4.393, -6.0193, -5.0856, -6.2699, -5.3064, -4.592, -5.3479, -5.3295, -6.4766, -5.1119, -5.4716, -3.8589, -4.5458, -4.5398, -3.0803, -4.0205, -6.0228, -4.9966, -4.8099, -5.4194, -4.4395, -4.8412, -4.1072, -4.4749, -4.56, -5.1603, -4.6403, -4.5663, -5.0802, -4.6369, -5.1187, -4.9878, -5.0692, -5.0913, -5.074, -5.1197, -6.8319, -7.0881, -7.1263, -7.3148, -7.3565, -7.3986, -7.4135, -7.4364, -7.473, -7.5274, -7.5923, -7.5951, -7.6047, -7.6309, -7.6427, -7.6823, -7.7012, -7.7032, -7.745, -7.7512, -7.7533, -7.7617, -7.7793, -7.7954, -7.8124, -7.8366, -7.8801, -7.8884, -7.9125, -5.7886, -5.6779, -5.7958, -6.596, -7.4676, -3.6024, -2.7921, -4.2635, -4.0849, -5.8358, -6.5726, -4.728, -5.131, -6.5088, -4.2257, -5.566, -6.6751, -5.043, -3.0397, -5.8174, -6.14, -4.8765, -4.3918, -4.7963, -4.4906, -4.1686, -3.7334, -4.0893, -5.1848, -4.1154, -4.5737, -5.3851, -5.2397, -4.5699, -5.1487, -4.8775, -3.9283, -4.6077, -3.969, -4.9224, -5.1685, -4.601, -5.0431, -4.9206, -5.1104, -5.1101, -5.0968, -5.4458, -5.6022, -5.6092, -6.1073, -6.3188, -6.3492, -6.5859, -6.8927, -7.1944, -7.2189, -7.2579, -7.2703, -7.2918, -7.3259, -7.3447, -7.4123, -7.4603, -7.4641, -7.4796, -7.5324, -7.5805, -7.0669, -7.6591, -7.7059, -7.7358, -7.7591, -7.7749, -7.7819, -7.7937, -7.7944, -2.6907, -3.3134, -4.7903, -5.2129, -3.9496, -3.7448, -5.0072, -4.6504, -3.3711, -5.8256, -5.5298, -4.5842, -4.8391, -5.8896, -4.8956, -4.8722, -3.7647, -4.6175, -3.7966, -5.8682, -5.9317, -5.2941, -4.7612, -4.6433, -4.6894, -3.9093, -4.5679, -4.4485, -4.7352, -4.7978, -4.0359, -4.3033, -4.7648, -4.6148, -4.9822, -4.7544, -4.4377, -4.8948, -4.7664, -4.8249, -5.6229, -6.0488, -6.149, -5.8493, -6.2194, -6.2606, -6.2106, -6.5715, -6.574, -6.6414, -6.7003, -6.7426, -6.7702, -6.8229, -6.8533, -6.9257, -6.9694, -6.9701, -6.9712, -6.976, -7.0045, -6.9884, -7.0381, -7.0741, -7.1509, -7.1637, -7.1736, -7.1999, -7.2398, -7.2465, -5.995, -6.4492, -6.1739, -4.5562, -6.3974, -6.372, -6.0031, -5.1341, -3.4735, -5.1125, -5.6141, -4.0395, -5.1717, -5.8443, -6.4539, -4.9362, -4.1521, -5.4015, -5.6321, -5.5612, -3.6756, -5.146, -4.7525, -4.6069, -5.674, -4.6449, -4.0941, -5.0213, -4.6772, -3.7685, -5.1345, -5.2315, -5.3548, -5.0452, -5.0067, -5.3778, -5.4223, -4.8716, -5.3097, -5.1041, -5.0781, -5.463, -5.4232, -5.3711, -5.3991, -4.0447, -4.9568, -5.2789, -5.2113, -5.5336, -5.6011, -5.6633, -5.6701, -5.6854, -5.7221, -6.156, -6.3456, -6.45, -6.4857, -6.5002, -6.5076, -6.5153, -6.5461, -6.6277, -6.7798, -6.8136, -6.8452, -6.8593, -6.958, -7.0907, -7.0905, -7.1473, -7.1475, -7.1647, -7.2234, -6.7413, -6.0731, -2.6891, -4.1185, -6.5288, -4.9232, -6.3198, -4.6645, -5.3854, -4.9539, -3.9484, -3.3333, -5.1549, -5.8933, -5.8388, -5.1916, -4.3788, -5.9557, -5.5151, -4.4071, -5.55, -5.4163, -4.7098, -4.5724, -4.5108, -5.196, -5.2122, -4.1259, -4.7993, -4.6946, -4.2445, -4.9423, -4.4965, -4.8219, -5.1531, -4.7144, -4.9066, -4.762, -5.1441, -5.2013, -4.5404, -4.9262, -5.622, -5.9436, -6.137, -6.2821, -6.3469, -6.3587, -6.437, -6.5354, -6.5288, -6.6546, -6.6701, -6.7061, -6.6478, -6.7081, -4.8576, -6.8029, -6.8238, -6.827, -6.9163, -6.7616, -6.9518, -6.975, -6.9515, -6.9892, -7.0334, -7.0521, -7.0799, -7.0991, -5.862, -6.462, -3.5394, -6.0305, -4.7789, -3.5722, -4.9294, -5.5807, -3.7858, -5.134, -4.1203, -4.7414, -2.9021, -4.7012, -5.3953, -5.1609, -5.108, -5.3792, -5.9186, -5.046, -6.2026, -3.9677, -5.2761, -4.4524, -5.7811, -4.9394, -4.7827, -5.1264, -5.1547, -5.1414, -4.8573, -4.3388, -4.9903, -4.9928, -5.0139, -4.8223, -4.9703, -4.9428, -5.1251, -5.1307], \"loglift\": [30.0, 29.0, 28.0, 27.0, 26.0, 25.0, 24.0, 23.0, 22.0, 21.0, 20.0, 19.0, 18.0, 17.0, 16.0, 15.0, 14.0, 13.0, 12.0, 11.0, 10.0, 9.0, 8.0, 7.0, 6.0, 5.0, 4.0, 3.0, 2.0, 1.0, 1.7739, 1.7737, 1.7735, 1.7733, 1.7732, 1.7732, 1.7726, 1.7724, 1.772, 1.7719, 1.7716, 1.7716, 1.7709, 1.7708, 1.7706, 1.7704, 1.7695, 1.7695, 1.7693, 1.7692, 1.7689, 1.7687, 1.7685, 1.7685, 1.7681, 1.768, 1.768, 1.7677, 1.7675, 1.7667, 1.724, 1.72, 1.7434, 1.6796, 1.5301, 1.4965, 1.5199, 1.5659, 1.4677, 1.638, 1.6417, 1.3396, 1.5219, 1.5765, 1.4874, 1.4811, 1.3423, 1.4044, 1.3213, 1.3304, 1.4976, 1.1808, 1.4893, 0.9141, 1.2426, 1.3219, 1.383, 1.4883, 1.5845, 1.2723, 0.9158, 0.5904, 1.1325, 0.8138, 0.4738, 0.5491, 0.5336, 0.7048, 0.4301, 0.9169, 0.4645, 0.3595, 0.4592, 0.6071, 0.4667, 0.1526, 0.5983, 0.6227, 0.1186, 2.0371, 2.0363, 2.0358, 2.0352, 2.0351, 2.0347, 2.0347, 2.0346, 2.0343, 2.0341, 2.0341, 2.0339, 2.0339, 2.0336, 2.0335, 2.0334, 2.0333, 2.0331, 2.0329, 2.0329, 2.0329, 2.0328, 2.0326, 2.0324, 2.0323, 2.0321, 2.032, 2.0317, 2.0315, 2.0313, 1.9807, 2.0066, 1.9005, 1.9237, 1.9615, 1.8435, 1.8769, 1.8986, 1.9319, 1.8449, 1.9387, 1.843, 1.8086, 1.8808, 1.8937, 1.5222, 1.233, 1.3923, 1.4942, 1.2834, 1.0441, 1.4583, 0.8515, 0.7894, 1.4993, 1.2368, 1.369, 1.3524, 0.6934, 0.8491, 1.458, 0.9128, 1.167, 1.2252, 1.4885, 0.6238, 0.4324, 1.0232, 1.2891, -0.2725, 0.7434, 0.6525, 1.1258, 0.5067, 0.2207, 0.2796, 0.3526, -0.6942, 0.4181, 0.791, -0.5426, 0.2351, -0.0758, 2.0408, 2.0403, 2.04, 2.04, 2.04, 2.0391, 2.0389, 2.0383, 2.0383, 2.0382, 2.0379, 2.0378, 2.0378, 2.0369, 2.0369, 2.0364, 2.0364, 2.0357, 2.0356, 2.0351, 2.035, 2.0347, 2.0343, 2.0341, 2.0339, 2.0337, 2.0336, 2.0335, 2.0335, 2.0333, 1.9735, 1.9084, 1.961, 1.9992, 1.9566, 1.7619, 1.7707, 1.6554, 1.8034, 1.6466, 1.9709, 1.4218, 1.6144, 1.6658, 1.5309, 1.3227, 1.5682, 1.871, 1.6446, 1.3616, 1.48, 1.4232, 1.3879, 1.3992, 1.6783, 1.3069, 1.3958, 1.0423, 1.2801, 0.9426, 1.0272, 1.2349, 0.9784, 0.8704, 0.8531, 0.7361, 0.4584, 0.3232, 0.2721, 0.8376, 0.1827, 0.6937, 0.8649, 0.0679, 0.8653, 0.4857, 0.7192, 2.0731, 2.0731, 2.0731, 2.0729, 2.0728, 2.0727, 2.0727, 2.0724, 2.0716, 2.0712, 2.0711, 2.0709, 2.0706, 2.0706, 2.0703, 2.0701, 2.0701, 2.07, 2.07, 2.0698, 2.0696, 2.0693, 2.0693, 2.0688, 2.0688, 2.0686, 2.0686, 2.0685, 2.0684, 2.0684, 2.0656, 2.0557, 2.0633, 2.0608, 2.0679, 2.0174, 2.0425, 2.0602, 2.0578, 2.006, 1.9603, 1.9732, 2.0317, 1.951, 1.9982, 1.8756, 1.8854, 2.0011, 1.9108, 1.7753, 1.8961, 1.7508, 1.8917, 1.5331, 1.1469, 1.6956, 1.6614, 1.5845, 1.4465, 0.6402, 0.6918, 1.2346, 1.3333, 0.6971, 1.1733, 0.0526, 0.7435, 0.5202, 0.1257, -0.6991, 1.0718, 0.0261, -0.1213, 2.3747, 2.3746, 2.3746, 2.3742, 2.3742, 2.3736, 2.3732, 2.3731, 2.3724, 2.3721, 2.3715, 2.3711, 2.371, 2.3708, 2.3708, 2.3704, 2.3703, 2.3702, 2.3702, 2.3701, 2.37, 2.3699, 2.3696, 2.3696, 2.3694, 2.3693, 2.3693, 2.3689, 2.3687, 2.3686, 2.3677, 2.3563, 2.327, 2.341, 2.2108, 2.0361, 2.2966, 2.236, 2.0152, 2.2067, 2.0631, 2.224, 2.0395, 1.8964, 2.0105, 1.9448, 2.2244, 1.8232, 1.9241, 1.3733, 1.5254, 1.5069, 0.8746, 1.0399, 2.082, 1.4448, 1.2968, 1.7042, 0.9403, 1.2055, 0.1866, 0.5299, 0.5433, 1.3666, 0.3086, 0.1062, 1.1168, -0.7797, 1.1362, 0.5813, 0.6463, 0.6419, -0.5117, 2.4802, 2.4773, 2.4762, 2.4761, 2.4751, 2.4748, 2.4746, 2.4745, 2.4743, 2.474, 2.4737, 2.4732, 2.4732, 2.4731, 2.4729, 2.4728, 2.4725, 2.4723, 2.4723, 2.4719, 2.4719, 2.4719, 2.4718, 2.4716, 2.4715, 2.4713, 2.4711, 2.4706, 2.4706, 2.4703, 2.4651, 2.3893, 2.3672, 2.4021, 2.4484, 2.0257, 1.8855, 1.9255, 1.8674, 2.1513, 2.2748, 1.8095, 1.8966, 2.2062, 1.6038, 1.9401, 2.2297, 1.7242, 1.0513, 1.9097, 2.0128, 1.5214, 1.3414, 1.4072, 1.2698, 1.081, 0.8288, 0.9711, 1.4801, 0.8253, 0.9954, 1.4779, 1.3696, 0.8162, 1.2386, 0.9837, 0.0267, 0.6956, -0.1118, 1.0063, 1.2371, 0.0716, 0.6013, 0.0195, 0.8278, 0.6111, 0.2544, 2.514, 2.5139, 2.5139, 2.5132, 2.5128, 2.5127, 2.5121, 2.5111, 2.5097, 2.5094, 2.5094, 2.5093, 2.5092, 2.509, 2.5089, 2.5085, 2.5082, 2.5081, 2.508, 2.5077, 2.5073, 2.5072, 2.5067, 2.5063, 2.506, 2.5058, 2.5057, 2.5056, 2.5055, 2.5055, 2.1608, 2.1996, 2.2451, 2.2469, 2.0821, 2.0518, 2.127, 1.9702, 1.6585, 2.0798, 1.9715, 1.6707, 1.6683, 1.9835, 1.6162, 1.6031, 1.176, 1.4969, 1.1436, 1.9663, 1.9832, 1.6941, 1.4423, 1.383, 1.3038, 0.8353, 1.0439, 0.8549, 0.998, 0.9234, 0.0551, -0.0095, 0.6187, 0.294, 1.0353, 0.4109, -0.5806, 0.7326, -0.0938, 0.1799, 2.6092, 2.6085, 2.6083, 2.6083, 2.6082, 2.6081, 2.6077, 2.6073, 2.6072, 2.607, 2.6068, 2.6067, 2.6066, 2.6064, 2.6062, 2.6058, 2.6057, 2.6057, 2.6057, 2.6057, 2.6055, 2.6054, 2.6054, 2.6052, 2.6048, 2.6047, 2.6047, 2.6045, 2.6043, 2.6042, 2.603, 2.6009, 2.5834, 2.4414, 2.5511, 2.5282, 2.4712, 2.3147, 2.0397, 2.3028, 2.3668, 2.0716, 2.2748, 2.391, 2.4993, 2.0667, 1.6774, 2.1028, 2.1412, 2.0755, 1.176, 1.8758, 1.6732, 1.4193, 2.0671, 1.3726, 0.9663, 1.454, 1.1194, 0.1865, 1.5494, 1.5973, 1.6029, 0.9865, 0.8981, 1.4849, 1.5659, 0.0692, 1.1894, 0.4713, -1.2209, 1.2573, 0.8059, 0.1418, -0.8368, 2.8147, 2.8142, 2.8139, 2.8137, 2.8136, 2.8135, 2.8134, 2.8134, 2.8134, 2.8133, 2.8124, 2.8119, 2.8115, 2.8114, 2.8113, 2.8113, 2.8113, 2.8112, 2.8108, 2.8101, 2.81, 2.8098, 2.8098, 2.8089, 2.8084, 2.8084, 2.808, 2.808, 2.8079, 2.8075, 2.8046, 2.7944, 2.7013, 2.6826, 2.7774, 2.6338, 2.737, 2.5218, 2.574, 2.4949, 2.2807, 2.1437, 2.4787, 2.6253, 2.5976, 2.3646, 2.047, 2.6016, 2.3063, 1.6104, 2.2645, 2.1703, 1.6099, 1.3159, 0.7299, 1.6329, 1.6464, -0.1709, 0.886, 0.5901, -0.3874, 1.0939, 0.0658, 0.7535, 1.5309, 0.2345, 0.721, -0.0174, -0.2353, 0.3029, 2.919, 2.9188, 2.9179, 2.9173, 2.9169, 2.9165, 2.9162, 2.9162, 2.9159, 2.9156, 2.9155, 2.915, 2.915, 2.9148, 2.9148, 2.9148, 2.9145, 2.9143, 2.9142, 2.9142, 2.9137, 2.9135, 2.9135, 2.9133, 2.9133, 2.9132, 2.9129, 2.9127, 2.9126, 2.9125, 2.9097, 2.9122, 2.7526, 2.8629, 2.7788, 2.6976, 2.7837, 2.8152, 2.6789, 2.755, 2.588, 2.6293, 2.3385, 2.5689, 2.64, 2.5514, 2.4812, 2.5076, 2.6464, 2.1576, 2.7381, 1.0371, 2.0295, 1.1753, 2.3459, 1.4583, 1.146, 1.3527, 1.3608, 1.2733, 0.714, -0.3839, 0.9145, 0.5461, 0.5615, -0.9652, -0.0302, -0.3806, 0.1783, -0.8369]}, \"token.table\": {\"Topic\": [1, 2, 3, 4, 5, 6, 7, 8, 9, 10, 1, 2, 3, 4, 5, 6, 7, 8, 9, 10, 2, 1, 2, 3, 4, 5, 6, 7, 8, 9, 10, 1, 2, 3, 4, 5, 6, 7, 9, 10, 4, 4, 9, 3, 9, 2, 1, 2, 4, 5, 7, 8, 9, 1, 2, 3, 4, 5, 6, 7, 8, 9, 10, 3, 4, 5, 6, 8, 10, 1, 9, 10, 4, 1, 2, 3, 4, 5, 6, 7, 8, 9, 10, 3, 8, 1, 2, 3, 4, 5, 6, 8, 9, 10, 7, 8, 2, 5, 8, 9, 3, 7, 1, 6, 7, 5, 1, 2, 3, 4, 5, 6, 7, 8, 10, 9, 2, 3, 9, 10, 1, 2, 4, 6, 7, 8, 9, 10, 3, 4, 2, 8, 1, 2, 3, 4, 5, 6, 7, 8, 9, 10, 9, 2, 10, 1, 2, 3, 4, 5, 6, 7, 8, 9, 10, 1, 2, 3, 4, 5, 6, 7, 8, 9, 10, 9, 7, 1, 2, 8, 9, 2, 4, 9, 2, 4, 6, 8, 9, 10, 1, 2, 3, 4, 6, 8, 9, 10, 1, 2, 5, 6, 7, 8, 9, 2, 7, 8, 9, 1, 2, 4, 5, 6, 9, 6, 9, 10, 1, 2, 3, 4, 6, 7, 8, 9, 10, 1, 2, 3, 4, 6, 7, 8, 9, 10, 5, 8, 9, 8, 9, 8, 2, 6, 7, 8, 1, 2, 3, 4, 5, 6, 7, 8, 9, 10, 1, 2, 3, 6, 7, 8, 9, 2, 3, 4, 8, 9, 10, 2, 2, 3, 4, 6, 7, 8, 9, 1, 2, 3, 4, 5, 6, 8, 9, 8, 1, 7, 3, 4, 3, 4, 5, 2, 3, 4, 6, 8, 9, 10, 8, 9, 9, 2, 1, 2, 3, 4, 5, 6, 7, 8, 9, 10, 8, 1, 2, 4, 6, 7, 8, 9, 10, 1, 2, 4, 6, 7, 8, 9, 1, 2, 4, 6, 8, 9, 10, 1, 9, 8, 1, 3, 7, 10, 1, 2, 3, 4, 5, 6, 7, 8, 9, 10, 10, 2, 7, 8, 9, 1, 3, 4, 8, 10, 2, 5, 3, 4, 9, 10, 1, 2, 3, 4, 5, 7, 8, 9, 1, 2, 3, 4, 5, 6, 7, 8, 9, 10, 1, 2, 4, 6, 2, 3, 2, 4, 6, 8, 6, 1, 2, 5, 6, 8, 9, 10, 2, 3, 8, 10, 1, 2, 3, 4, 5, 6, 7, 8, 9, 10, 8, 10, 2, 2, 1, 8, 5, 1, 2, 4, 6, 7, 8, 9, 10, 4, 1, 5, 2, 9, 9, 1, 2, 3, 4, 5, 6, 7, 8, 9, 10, 2, 4, 1, 8, 3, 3, 2, 5, 6, 10, 1, 2, 3, 4, 5, 6, 7, 8, 9, 10, 2, 9, 1, 2, 3, 4, 5, 6, 7, 8, 9, 10, 8, 1, 10, 7, 1, 3, 3, 9, 1, 2, 3, 4, 5, 6, 7, 8, 9, 10, 8, 1, 2, 8, 9, 5, 5, 1, 2, 3, 4, 5, 6, 7, 8, 9, 10, 1, 2, 6, 7, 8, 9, 6, 2, 5, 10, 1, 2, 3, 4, 5, 6, 7, 8, 9, 10, 1, 2, 3, 4, 5, 6, 7, 8, 9, 10, 2, 3, 8, 10, 5, 6, 10, 7, 2, 8, 10, 10, 4, 5, 4, 9, 6, 1, 3, 5, 6, 7, 9, 10, 3, 7, 8, 9, 10, 2, 6, 7, 8, 9, 10, 10, 8, 1, 2, 3, 4, 6, 8, 9, 10, 7, 1, 2, 3, 4, 5, 6, 7, 8, 9, 10, 2, 8, 10, 1, 2, 5, 1, 2, 5, 2, 4, 5, 8, 10, 1, 2, 3, 4, 5, 6, 7, 8, 9, 10, 1, 2, 3, 4, 5, 6, 7, 8, 9, 10, 5, 1, 2, 3, 4, 5, 6, 7, 8, 9, 10, 1, 2, 4, 5, 6, 8, 10, 3, 4, 10, 3, 4, 10, 8, 9, 7, 2, 8, 2, 5, 8, 1, 2, 3, 4, 5, 6, 7, 8, 9, 10, 1, 2, 3, 4, 5, 6, 7, 8, 9, 10, 1, 2, 3, 4, 5, 6, 7, 8, 9, 10, 2, 1, 2, 3, 4, 5, 6, 7, 8, 9, 10, 1, 3, 4, 5, 7, 8, 9, 10, 1, 2, 3, 4, 5, 6, 7, 8, 9, 10, 3, 1, 2, 3, 4, 5, 6, 7, 8, 9, 10, 6, 1, 2, 4, 5, 6, 8, 9, 1, 2, 4, 6, 8, 1, 2, 3, 4, 5, 6, 7, 8, 9, 10, 3, 10, 4, 8, 9, 10, 5, 7, 1, 2, 3, 4, 6, 7, 8, 10, 3, 4, 5, 6, 8, 5, 10, 1, 2, 3, 4, 5, 6, 7, 8, 9, 10, 4, 5, 8, 10, 1, 2, 4, 5, 7, 8, 9, 2, 4, 5, 8, 10, 2, 7, 8, 1, 2, 4, 6, 8, 9, 1, 2, 3, 4, 5, 6, 7, 8, 9, 10, 8, 10, 8, 6, 1, 2, 3, 5, 6, 7, 9, 10, 6, 1, 2, 3, 4, 5, 6, 7, 8, 9, 10, 1, 2, 3, 4, 5, 6, 7, 8, 9, 10, 9, 10, 1, 1, 2, 3, 4, 5, 6, 7, 8, 9, 10, 3, 5, 9, 10, 2, 3, 8, 1, 2, 4, 5, 8, 9, 10, 8, 1, 2, 3, 4, 5, 6, 7, 8, 9, 10, 7, 4, 1, 2, 3, 4, 5, 6, 7, 8, 9, 10, 1, 2, 3, 4, 6, 8, 9, 10, 6, 8, 6, 3, 1, 2, 3, 4, 9, 1, 2, 3, 4, 5, 6, 7, 8, 9, 10, 6, 6, 1, 2, 3, 4, 5, 6, 7, 8, 9, 10, 1, 10, 4, 10, 9, 1, 2, 4, 8, 9, 2, 1, 2, 3, 4, 6, 8, 9, 1, 2, 3, 4, 5, 6, 7, 8, 9, 10, 6, 4, 2, 5, 2, 3, 8, 6, 1, 1, 4, 7, 7, 1, 2, 3, 10, 9, 5, 4, 2, 4, 8, 8, 1, 2, 3, 4, 9, 2, 10, 4, 1, 2, 6, 8, 9, 10, 5, 3, 9, 1, 2, 3, 4, 5, 6, 7, 8, 9, 10, 3, 4, 5, 9, 3, 6, 1, 2, 3, 4, 5, 6, 7, 8, 9, 10, 4, 10, 1, 4, 4, 9, 9, 1, 2, 3, 4, 5, 6, 7, 8, 9, 10, 4, 5, 8, 10, 1, 2, 4, 6, 8, 9, 10, 3, 1, 2, 3, 4, 5, 6, 7, 8, 9, 10, 4, 2, 1, 2, 3, 4, 5, 6, 8, 9, 10, 2, 4, 8, 10, 1, 2, 3, 4, 5, 6, 7, 8, 9, 10, 1, 2, 4, 5, 6, 7, 8, 9, 10, 7, 1, 2, 3, 4, 5, 6, 7, 8, 9, 10, 2, 2, 9, 1, 2, 3, 4, 5, 6, 7, 8, 9, 10, 1, 2, 3, 4, 5, 6, 7, 8, 9, 10, 1, 2, 3, 4, 5, 6, 7, 8, 9, 10, 1, 2, 3, 4, 5, 6, 7, 8, 9, 10, 2, 8, 9, 1, 2, 4, 6, 7, 8, 9, 8, 1, 2, 3, 4, 5, 6, 7, 8, 9, 10, 1, 2, 3, 4, 5, 6, 8, 9, 10, 2, 4, 6, 8, 10, 1, 2, 3, 4, 5, 6, 7, 8, 9, 10, 6, 2, 5, 4, 4, 8, 10, 1, 2, 7, 8, 9, 1, 2, 3, 4, 5, 6, 7, 8, 9, 10, 1, 2, 3, 8, 9, 10, 5, 1, 2, 3, 7, 9, 10, 4, 5, 6, 7, 8, 10, 4, 8, 1, 2, 3, 4, 8, 9, 10, 7, 1, 9, 1, 2, 3, 4, 6, 7, 8, 9, 9, 10, 1, 2, 3, 4, 5, 6, 7, 8, 9, 10, 5, 1, 2, 3, 4, 5, 6, 7, 8, 9, 10, 1, 2, 5, 6, 7, 8, 9, 10, 1, 2, 6, 8, 9, 10, 8, 5, 2, 4, 6, 10, 10, 1, 2, 3, 4, 5, 6, 7, 8, 9, 10, 2, 4, 9, 1, 2, 3, 4, 5, 6, 8, 9, 10, 1, 6, 2, 1, 2, 8, 1, 2, 3, 4, 5, 6, 7, 8, 9, 10, 1, 2, 3, 4, 6, 7, 8, 9, 4, 5, 6, 10, 4, 2, 5, 6, 7, 8, 2, 8, 9, 3, 1, 2, 3, 4, 5, 6, 7, 8, 9, 10, 5, 2, 3, 4, 5, 6, 7, 8, 9, 10, 1, 2, 4, 5, 6, 7, 8, 9, 9, 8, 2, 2, 10, 5, 10, 1, 1, 2, 6, 7, 8, 10, 1, 2, 3, 4, 5, 6, 7, 8, 9, 10, 4, 2, 3, 4, 4, 1, 2, 3, 7, 8, 9, 10, 1, 2, 3, 5, 8, 9, 10, 7, 2, 4, 9, 2, 7, 9, 1, 2, 3, 4, 5, 6, 7, 8, 9, 10, 1, 2, 3, 4, 6, 7, 8, 9, 10, 3, 7, 6, 1, 1, 2, 3, 4, 6, 7, 8, 9, 10, 9, 10, 1, 2, 3, 4, 5, 6, 7, 8, 9, 10, 6, 5, 9, 2, 6, 9, 2, 5, 6, 7, 8, 1, 2, 4, 7, 8, 9, 10, 9, 6, 2, 6, 2, 4, 7, 10, 1, 2, 4, 5, 6, 7, 8, 9, 10, 1, 3, 4, 7, 8, 9, 10, 3, 5, 2, 3, 9, 10, 7, 2, 1, 2, 7, 8, 9, 2, 5, 6, 9, 2, 3, 2, 4, 5, 6, 7, 8, 9, 3, 3, 1, 2, 3, 4, 5, 6, 7, 8, 9, 10, 1, 2, 4, 6, 9, 10, 3, 8, 6, 4, 6, 9, 1, 1, 2, 5, 7, 1, 2, 4, 8, 9, 1, 2, 3, 4, 5, 6, 7, 8, 9, 10, 7, 1, 2, 3, 4, 5, 6, 7, 8, 9, 10, 1, 2, 3, 4, 5, 6, 7, 8, 9, 10, 2, 2, 6, 10, 4, 4, 8, 4, 2, 4, 6, 8, 3, 2, 4, 9, 1, 2, 3, 4, 8, 7, 5, 7, 8, 2, 7, 8, 9, 9, 9, 1, 2, 4, 6, 8, 9, 1, 2, 5, 6, 7, 8, 9, 10, 3, 1, 2, 3, 4, 5, 6, 7, 8, 9, 10, 4, 10, 1, 2, 4, 6, 9, 10, 5, 1, 2, 4, 6, 8, 9, 10, 1, 2, 3, 4, 5, 6, 8, 9, 2, 5, 8, 1, 2, 3, 4, 5, 6, 7, 8, 9, 10, 3, 9, 9, 2, 4, 5, 6, 7, 8, 9, 2, 4, 5, 6, 9, 10, 1, 2, 8, 10, 1, 2, 3, 4, 5, 6, 7, 8, 9, 10, 1, 2, 3, 4, 5, 6, 7, 8, 9, 10, 5, 2, 5, 6, 2, 8, 9, 1, 7, 1, 1, 2, 8, 1, 2, 3, 4, 5, 6, 7, 8, 9, 10, 1, 3, 4, 5, 6, 7, 8, 10, 2, 2, 5, 6, 7, 8, 5, 6, 1, 2, 7, 8, 9, 2, 3, 4, 10, 6, 4, 1, 2, 3, 4, 6, 7, 8, 10, 2, 4, 6, 8, 6, 5, 8, 4, 2, 4, 5, 8, 9, 10, 1, 1, 2, 3, 4, 8, 1, 2, 3, 4, 5, 6, 7, 8, 9, 10, 1, 2, 4, 10, 1, 2, 3, 5, 6, 7, 8, 9, 10, 2, 1, 2, 4, 5, 6, 7, 8, 9, 10, 1, 2, 3, 4, 5, 6, 7, 8, 9, 10, 1, 2, 3, 4, 5, 6, 7, 8, 9, 10, 4, 2, 4, 8, 1, 2, 3, 4, 5, 6, 7, 8, 9, 10, 9, 3, 8, 1, 2, 3, 4, 5, 6, 7, 8, 9, 10, 1, 2, 4, 6, 8, 9, 10, 1, 2, 3, 4, 5, 6, 8, 9, 10, 1, 2, 2, 4, 6, 8, 10, 6, 4, 5, 6, 1, 2, 3, 4, 5, 6, 7, 8, 9, 10, 1, 2, 4, 6, 8, 9, 7, 4, 3, 5, 2, 9, 2, 5, 8, 9, 1, 2, 3, 4, 5, 6, 7, 8, 9, 10, 2, 8, 9, 1, 2, 3, 8, 1, 2, 4, 5, 6, 8, 9, 10, 9, 1, 2, 4, 5, 6, 7, 8, 9, 10, 9, 10, 2, 4, 1, 10, 1, 8, 1, 2, 3, 4, 5, 6, 7, 8, 9, 10, 1, 2, 3, 4, 5, 6, 7, 8, 9, 10, 7, 2, 4, 6, 1, 6, 1, 2, 4, 9, 1, 2, 4, 5, 6, 7, 8, 9, 1, 2, 3, 4, 5, 6, 7, 8, 9, 10, 1, 3, 4, 1, 2, 3, 4, 8, 9, 2, 4, 6, 9, 8, 1, 2, 3, 4, 5, 6, 8, 9, 10, 5, 5, 1, 2, 3, 4, 5, 6, 7, 8, 9, 10, 1, 2, 3, 4, 5, 6, 7, 8, 9, 10, 1, 3, 4, 5, 7, 9, 1, 1, 2, 4, 6, 9, 10, 6, 2, 7, 7, 5, 7, 5, 2, 4, 6, 10, 1, 7, 1, 8, 8, 4, 5, 6, 1, 2, 3, 4, 6, 8, 9, 10, 2, 1, 2, 3, 4, 5, 6, 7, 8, 9, 10, 7, 2, 8, 9, 1, 2, 3, 4, 5, 6, 7, 8, 9, 10, 1, 2, 3, 4, 5, 6, 7, 8, 9, 10, 2, 1, 2, 3, 4, 5, 6, 7, 8, 9, 10, 1, 2, 3, 4, 6, 1, 2, 3, 4, 5, 6, 7, 8, 9, 10, 1, 2, 5, 6, 7, 8, 1, 2, 3, 4, 5, 6, 8, 9, 10, 1, 2, 4, 7, 8, 9, 10, 6, 1, 2, 5, 7, 8, 9, 10, 1, 2, 3, 4, 5, 6, 7, 8, 9, 10, 1, 2, 3, 4, 5, 6, 7, 8, 9, 10, 1, 2, 4, 8, 1, 2, 4, 6, 7, 8, 9, 10, 2, 5, 2, 3, 4, 10, 2, 9, 3, 10, 1, 2, 3, 4, 5, 7, 8, 9, 10, 3, 10, 5, 1, 2, 3, 4, 5, 7, 8, 9, 10, 1, 2, 3, 4, 5, 6, 7, 8, 9, 10, 1, 2, 3, 4, 5, 6, 7, 8, 9, 10, 2], \"Freq\": [0.525517989220097, 0.12272767675079094, 0.09645177728978609, 0.10414228444910457, 0.05831967929149856, 0.003845253579659246, 0.0012817511932197486, 0.03524815781354309, 0.04838610754404551, 0.004165691377964183, 0.06892622582272181, 0.033100164943115, 0.5693228370215779, 0.041277852752590466, 0.09813225371370564, 0.023754236018000172, 0.09462753036678757, 0.005841205578196764, 0.05490733243504958, 0.010124756335541057, 0.9922908943268951, 0.07285234153181033, 0.03872151851279782, 0.35887263034026023, 0.010179368268828294, 0.002195550018766887, 0.11716253281965115, 0.29779642072729046, 0.05029805497538686, 0.015169254675116673, 0.03652596849403094, 0.10749330546321158, 0.0020029808471405883, 0.5234456613860737, 0.007344263106182157, 0.0013353205647603922, 0.0524113321668454, 0.28342178987039324, 0.020029808471405883, 0.0023368109883306863, 0.9969492631929299, 0.9590003263845998, 0.03995834693269166, 0.9548731745475076, 0.04243880775766701, 0.9987094589388177, 0.2525914399577793, 0.5042726404922873, 0.00045511971163563836, 0.07964594953623672, 0.05552460481954788, 0.09102394232712767, 0.01683942933051862, 0.09152548746194696, 0.0004324038777729777, 0.7546889013397705, 0.030124136818184117, 0.015998943477600176, 0.002162019388864889, 0.07956231351022791, 0.004612308029578429, 0.012107308577643376, 0.008648077555459556, 0.005679990199414982, 0.12982834741519958, 0.636970329505823, 0.07465129976373977, 0.08601128016256973, 0.06734845522163478, 0.9989110077447252, 0.9993002636251956, 0.9967954204288548, 0.9961265024171033, 0.020779807465306843, 0.36258099949080275, 0.03649786695829535, 0.20406836562083386, 0.19474409304024745, 0.04449010059879798, 0.03862912926242939, 0.075926219584775, 0.016783690645055527, 0.005061747972318334, 0.9971913516274062, 0.991776471094579, 0.23879495517336075, 0.4188885251847736, 0.011113369035514402, 0.006269079968751714, 0.0002849581803978052, 0.03960918707529492, 0.13535513568895746, 0.14532867200288063, 0.004559330886364883, 0.9984692445526469, 0.9924918790700097, 0.18295259537909547, 0.7148274401731747, 0.0007719518792366897, 0.10035374430076967, 0.9983835649502154, 0.9866956747449331, 0.9992630640059504, 0.9918756143262685, 0.9924910513409853, 0.9986016813308535, 0.27007018021574464, 0.01533624462763592, 0.09354021545933966, 0.264523027903621, 0.03284784310316346, 0.18925578476657093, 0.11029044008810512, 0.011746910778614748, 0.012290749240587652, 0.9939306968138873, 0.030067815003946834, 0.008908982223391653, 0.2683830894796736, 0.6915597450907771, 0.6896542394953272, 0.1747803774856162, 0.005826012582853873, 0.005826012582853873, 0.03714083021569344, 0.05461886796425506, 0.02621705662284243, 0.005461886796425506, 0.9928299125133861, 0.9973941568161793, 0.9970630352316677, 0.9989996827716998, 0.03536770081936802, 0.0019468459166624597, 0.5253239231794203, 0.21480199947175804, 0.0064894863888748655, 0.0016223715972187164, 0.0009734229583312298, 0.004542640472212406, 0.00032447431944374326, 0.20863698740232692, 0.9972484637627486, 0.8694093899570856, 0.1286371036160994, 0.23185183815792584, 0.025927839690576063, 0.30798676626666943, 0.18269385307983943, 0.005845004323309055, 0.0025478223973398446, 0.11195431357722728, 0.05215542319260388, 0.0503569603238934, 0.02892527780509353, 0.12803321962037814, 0.02588649795603274, 0.03795520308418314, 0.2586900707903542, 0.11543978818230817, 0.22370831679571537, 0.15549389650616965, 0.012593431438069982, 0.018190512077212197, 0.023962501486327604, 0.9991022024379844, 0.9951425811506739, 0.9953172876920147, 0.8995399057405316, 0.01867556897731207, 0.08092746556835231, 0.06661938476613023, 0.12864432920356184, 0.8040270575222614, 0.18856276705609865, 0.004910488725419235, 0.14338627078224167, 0.13160109784123553, 0.5244401958747743, 0.005892586470503083, 0.05837027620231541, 0.11977277454501084, 0.0027795369620150197, 0.0005053703567300036, 0.06392935012634544, 0.16449805111561616, 0.5859769286284391, 0.0037902776754750265, 0.010171673159237398, 0.2079542068110757, 0.20682402090449378, 0.5650929532909666, 0.0011301859065819331, 0.007911301346073532, 0.0011301859065819331, 0.2523742253273405, 0.6784119027363658, 0.05497260353664843, 0.013743150884162107, 0.28571116499020754, 0.16663991507805823, 0.03350748741246413, 0.07778523863607745, 0.3829427132853043, 0.05325297106623764, 0.9906632409250608, 0.9995274112910117, 0.9926840885290574, 0.0010186258158674606, 0.003565190355536112, 0.6218710605870846, 0.0010186258158674606, 0.12223509790409526, 0.15228455947218536, 0.007130380711072224, 0.08658319434873414, 0.0040745032634698424, 0.12639801371125878, 0.13880312381024174, 0.13075656590819873, 0.0010058197377553748, 0.0010058197377553748, 0.40702172054500835, 0.10862853167758048, 0.005699645180613791, 0.08080085226634845, 0.9979278898708981, 0.01767646480716818, 0.9792761503171171, 0.16495140841386405, 0.8342918055614511, 0.9981524582728679, 0.02738048157163743, 0.009412040540250367, 0.21904385257309944, 0.7444068427288926, 0.5867739362670128, 0.038916751729235234, 0.022669952463632174, 0.00396724168113563, 0.01416872028977011, 0.1913721820471616, 0.0562970486180199, 0.020591873487799225, 0.062153453004458216, 0.0032115765990145583, 0.23996367148434983, 0.04108966977471744, 0.0005478622636628991, 0.03177601129244815, 0.0657434716395479, 0.5807339994826731, 0.03999394524739164, 0.1817151463486513, 0.02434630116127561, 0.724390670784041, 0.0014113797774652527, 0.003881294388029445, 0.064217779874669, 0.9909231666231753, 0.016454138812472586, 0.001316331104997807, 0.003948993314993421, 0.022377628784962716, 0.0072398210774879375, 0.20337315572216116, 0.7457015709812576, 0.43575629700171337, 0.0016537240872930299, 0.012954172017128734, 0.47709939918403915, 0.06835392894144524, 0.001378103406077525, 0.0008268620436465149, 0.001929344768508535, 0.9958587938983547, 0.007167054883071616, 0.989053573863883, 0.9856834197472836, 0.9995023403777973, 0.9905627686026408, 0.9988409610987554, 0.999430242993419, 0.07497921292261912, 0.4662140313964646, 0.34020418997725693, 0.011414745847921121, 0.005371645104904057, 0.0006714556381130072, 0.10094216426298874, 0.9958795896164828, 0.9929474622642193, 0.995749093715419, 0.9985107621176489, 0.005736636561895449, 0.020689508911754077, 0.2593712071755352, 0.0003761728893046196, 0.003667685670720041, 0.020031206355470992, 0.0037617288930461962, 0.002727253447458492, 0.12432513991517678, 0.5592750431736432, 0.9971233037016822, 0.0018035231061567358, 0.033365177463899616, 0.015329946402332255, 0.07664973201166127, 0.5807344401824689, 0.26060908883964834, 0.024347561933115935, 0.008115853977705312, 0.002561191273115239, 0.0068298433949739714, 0.005976112970602225, 0.030734295277382872, 0.19891918887861693, 0.7145723651991518, 0.039271599521100334, 0.16322562488371323, 0.401990550585703, 0.048967687465113964, 0.04061660898269143, 0.2213035797841972, 0.12260901590102179, 0.0015183779058950066, 0.9986065876144984, 0.9993102574592806, 0.9972030475593968, 0.00196994457210629, 0.9219340597457435, 0.011819667432637737, 0.06500817087950755, 0.025832886821463216, 0.09582198716333448, 0.3447388733577436, 0.0014017845562034302, 0.05587112731153672, 0.1677135094029104, 0.1901420623021653, 0.0033042064539080857, 0.05056437149162374, 0.0644820895853578, 0.9988500796827378, 0.11977115747308349, 0.18585179607892266, 0.5854331576486064, 0.10841354771270488, 0.24766109099824823, 0.5192507898224141, 0.0008973227934719139, 0.00029910759782397127, 0.23180838831357775, 0.0035865778919470515, 0.9934820760693334, 0.05747252611504409, 0.1410689277369264, 0.039185813260257336, 0.7602047772489923, 0.043302197325753945, 0.0010371783790599747, 0.1685414865972459, 0.009334605411539774, 0.28963206235249794, 0.42991043812035956, 0.0005185891895299874, 0.0575634000378286, 0.10598220766969384, 0.07633489728889059, 0.003324932005323728, 0.16028943042331473, 0.000831233001330932, 0.6342307800155011, 0.0015239271691067087, 0.011360184351522739, 0.005264475675095903, 0.000831233001330932, 0.16632789957995506, 0.0034651645745823975, 0.017325822872911987, 0.8143136750268634, 0.906008310813098, 0.09258479088601002, 0.019396421512622154, 0.9347997590110955, 0.029364027012164094, 0.016433079337082657, 0.9933855918643838, 0.041555337647424716, 0.06514079955542253, 0.0016846758505712721, 0.5576277065390911, 0.1645366747391276, 0.009546496486570542, 0.15948264718741378, 0.14644097198127662, 0.8429285216483239, 0.003571731023933576, 0.007143462047867152, 0.19593941000393827, 0.12499808721026122, 0.22538922112677467, 0.03154401991379367, 0.13101893748426333, 0.03821931043496992, 0.054580316614323485, 0.03494710919909921, 0.0532714361199752, 0.1102077376241256, 0.16356302081983198, 0.8330302688265862, 0.9963041077395913, 0.9959354892578994, 0.9983336314321717, 0.9985699721244781, 0.9935022998470774, 0.03135355577083713, 0.09793945771715103, 0.00032323253371997036, 0.05462629819867499, 0.40177803941392315, 0.31450525530953116, 0.09890915531831093, 0.00032323253371997036, 0.9986425818755829, 0.9908621264567278, 0.9934230146231839, 0.9921755059074252, 0.9949048103071827, 0.9927985457830569, 0.7741660732548594, 0.055325083331594166, 0.0007701867749177842, 0.05648036349397084, 0.07085718329243615, 0.0016687380123218657, 0.027469994972067636, 0.007060045436746355, 0.0003850933874588921, 0.005776400811883381, 0.013672032894339973, 0.9843863683924781, 0.26396095227980615, 0.7356153184224066, 0.9905865529154599, 0.9929826921668448, 0.004587665696762633, 0.9955234561974913, 0.9937958488690153, 0.9956482178874837, 0.1305871022361122, 0.025453418232462548, 0.38014126795003844, 0.005256684200182483, 0.10015366739295045, 0.042330141190943145, 0.004980016610699194, 0.00027666758948328854, 0.2996309994104015, 0.010790035989848254, 0.03289466360279382, 0.9649101323486187, 0.42316054451415, 0.01994927787653796, 0.2105975492089697, 0.01022031970029531, 0.005208432154958187, 0.09385005109405789, 0.09168806038822619, 0.03429703437887561, 0.108099535291585, 0.002849896839505423, 0.9982045589520188, 0.9934886525330381, 0.9962635820678386, 0.9915477124346118, 0.9990797163395176, 0.9952429978053788, 0.995875861452139, 0.9959606772045423, 0.11376103256736085, 0.01139845316490256, 0.1546613645120112, 0.36720899117519423, 0.1792462634951344, 0.004916979796624634, 0.013409944899885366, 0.10102158491246975, 0.029948876943077317, 0.02458489898312317, 0.9970525176131767, 0.01369069911681168, 0.05219579038284453, 0.2079274928365774, 0.7264627218858198, 0.9988479959231047, 0.9997495710235625, 0.039568593824387634, 0.0038840337496331423, 0.04757941343300599, 0.09151754522573091, 0.1978429691219382, 0.5738659865082968, 0.021847689841686425, 0.0002427521093520714, 0.005340546405745571, 0.018449160310757426, 0.06203572812743792, 0.0023859895433629968, 0.042947811780533945, 0.007157968630088991, 0.8708861833274939, 0.014315937260177982, 0.9917960836271698, 0.13869499283883838, 0.8589356574054378, 0.9923271220568441, 0.04973470010433326, 0.01762683046039621, 0.1790501200306028, 0.23853417326568616, 0.2230392013565473, 0.08592429892567768, 0.03026199211784836, 0.08857612297724173, 0.05048865007977793, 0.03676156087168177, 0.2720212158027345, 0.0029551661051530976, 0.20500096722043523, 0.2511526354058509, 0.11207741080284339, 0.011163960841689479, 0.08011783662859509, 0.021671218104456047, 0.02050374507525976, 0.02334946058392571, 0.1185225817898801, 0.7867151081125374, 0.08416821025658151, 0.010306311459989573, 0.05137922075180405, 0.7780281999558899, 0.16881743961307044, 0.9942332888225314, 0.1001399651778134, 0.8935566123558734, 0.9904775855069629, 0.9987299073659863, 0.9928159248014284, 0.9904231886908129, 0.9877038165522968, 0.01109779569159884, 0.9952252209429621, 0.0009639577255460846, 0.87398833782845, 0.010282215739158235, 0.00032131924184869486, 0.0012852769673947794, 0.00032131924184869486, 0.1131043731307406, 0.018604225605241283, 0.0013288732575172345, 0.02391971863531022, 0.107638733858896, 0.8478211382959956, 0.13005453312082135, 0.0008296939912014121, 0.648613277621704, 0.1970523229103354, 0.023438855251439895, 0.9977124674271861, 0.9974109503957996, 0.9921920941034985, 0.6482818473067876, 0.20761613974683155, 0.0016234103021038088, 0.0018037892245597875, 0.013708798106654384, 0.05230988751223384, 0.07431611605186324, 0.0005411367673679362, 0.998524543130725, 0.1937419716775898, 0.02303958582111879, 0.09372922413591507, 0.21259254189486881, 0.016756062415359117, 0.0026181347523998623, 0.0513154411470373, 0.3649679844845408, 0.03560663263263813, 0.005236269504799725, 0.9941388179020748, 0.9940038670014308, 0.9947427265767682, 0.0018842158923632701, 0.0037684317847265403, 0.9948659911678066, 0.9973498228716272, 0.031348148551695, 0.9673142981665886, 0.019013606145254953, 0.010774376815644474, 0.7320238365923157, 0.15464399664807363, 0.0830260801676133, 0.2680211139657644, 0.005930828424885121, 0.36204218811320793, 0.13571130925178307, 0.014565416866997282, 0.04622557448807521, 0.12193085497043235, 0.021717298202888164, 0.013954890411494402, 0.009768423288046082, 0.13376303659941993, 0.5602538779309038, 0.15896476813264396, 0.0006461982444416421, 0.04652627359979824, 0.00581578419997478, 0.0019385947333249265, 0.07883618582188034, 0.0012923964888832842, 0.0122777666443912, 0.9925191158122946, 0.010475322221993775, 0.5123384868575137, 0.008570718181631269, 0.06094732929160014, 0.013332228282537531, 0.0009523020201812522, 0.030949815655890694, 0.3242588378717164, 0.018569889393534416, 0.01952219141371567, 0.9970565060291027, 0.1508147908581633, 0.00016945482118894752, 0.018978939973162124, 0.4160115860188662, 0.39330463997954723, 0.0206734881850516, 0.002229071541843237, 0.12482800634322126, 0.8726815086316272, 0.1460720618799979, 0.44266508092567897, 0.4107813313782683, 0.21387661936266114, 0.7856401151255086, 0.997214553297706, 0.07671384405472162, 0.9205661286566594, 0.893046088956094, 0.1046084355827095, 0.0019371932515316575, 0.14743521747455557, 0.00923393846395964, 0.05355684309096591, 0.032164885649459414, 0.17667602261042778, 0.3199559677762015, 0.21945993749344075, 0.009541736412758295, 0.00461696923197982, 0.027394017443080263, 0.05877352043981296, 0.027534653483357752, 0.0011112640419292366, 0.0006173689121829093, 0.00024694756487316367, 0.051982462405800955, 0.7294831066353256, 0.08470301475149515, 0.03988203172701594, 0.005679793992082765, 0.13424078831734593, 0.012105449510098827, 0.2995017910043201, 0.09814060852830121, 0.23821795285944478, 0.05728471643171767, 0.09889719912268238, 0.012970124475105886, 0.0171854149295153, 0.03134446748150589, 0.9981786886056327, 0.3177263183270718, 0.12709052733082873, 0.0151749883380094, 0.0071132757834419065, 0.010907022867944257, 0.10385382643825183, 0.020865608964762927, 0.06923588429216788, 0.3106130425436299, 0.017071861880260577, 0.09541995929292366, 0.6944452592984999, 0.023854989823230914, 0.0013252772124017174, 0.09144412765571851, 0.006626386062008587, 0.08746829601851334, 0.9945299040839288, 0.22066660052702122, 0.010358654502812608, 0.30776107720198514, 0.04852211846054327, 0.12157789232248482, 0.011312741101755876, 0.2296622741742006, 0.007223798534856161, 0.04116202184012378, 0.0016355770267598856, 0.9866287020728521, 0.075374761663663, 0.0007178548729872667, 0.6726300159890689, 0.030867759538452468, 0.019621366528318623, 0.023689210808579803, 0.07561404662132543, 0.04163558263326147, 0.05790695975430618, 0.001914279661299378, 0.9959102018581047, 0.7348373988488114, 0.24328246957323446, 0.004171958960401801, 8.180311687062356e-05, 0.006953264934003002, 0.008262114803932978, 0.002372290389248083, 0.640700742900698, 0.28760344459098003, 0.06525655714729332, 0.000711889714334109, 0.005695117714672872, 0.018597893160249818, 0.009054237459595306, 0.24397499316801405, 0.17619056678131406, 0.2841072889348689, 0.042334677851621295, 0.06435849869928555, 0.0009788364821184115, 0.00513889153112166, 0.15539029153629783, 0.9981668937353471, 0.990984476680622, 0.3085203701735041, 0.1129555453640698, 0.01517313295935266, 0.5630918231581987, 0.9951699076182458, 0.9971526158733055, 0.1383812933448911, 0.07765145944489134, 0.7614731495201209, 0.0047004515402476596, 0.002444234800928783, 0.0001880180616099064, 0.014477390743962792, 0.0009400903080495319, 0.013055439768942696, 0.4066137773198121, 0.41966921708875476, 0.1602449945833128, 0.0002105716091764951, 0.005867634024751558, 0.9916301501830133, 0.004715842422298732, 0.028804875336203066, 0.001147096805424016, 0.0033138352156693793, 0.0018481004087386923, 0.007519856835557438, 0.7017683345182923, 0.23827749752668861, 0.011853333656048164, 0.0007647312036160106, 0.1328880615986028, 0.6941446982327018, 0.07816944799917812, 0.09458503207900552, 0.18182788048289442, 0.13625582942515632, 0.0004603237480579605, 0.000920647496115921, 0.010587446205333093, 0.36319543721773084, 0.30657561620660173, 0.0483649000037938, 0.04413297125346184, 0.6976636825547256, 0.15658136376228243, 0.05259682875412576, 0.0018788473134230652, 0.1935212732825757, 0.8022678028316488, 0.8189350832783135, 0.0678909913598602, 0.002121593479995631, 0.014851154359969417, 0.038188682639921354, 0.05728302395988204, 0.11380377637648947, 0.0024594136348553715, 0.26874683537237787, 0.008272573135422614, 0.34006983078318365, 0.0004471661154282494, 0.20413133169299585, 0.004471661154282494, 0.04896468963939331, 0.008719739250850863, 0.9962732099345123, 0.9952016548820055, 0.9922741941453104, 0.9962485098980749, 0.032811387994173644, 0.03348100815732004, 0.3046771742316124, 0.013392403262928017, 0.00870506212090321, 0.0006696201631464008, 0.13995061409759776, 0.46672525371304135, 0.997528112703618, 0.2932839282597997, 0.07577853531997429, 0.13872053033700582, 0.07587397428133445, 0.05573635343433877, 0.1916414344112196, 0.03626680531686427, 0.031828893613616405, 0.0639918235919934, 0.03688715856570537, 0.10583297787159095, 0.06995148767812857, 0.0866032860397548, 0.10325508440138102, 0.025430570719638376, 0.19097313518501038, 0.2621090604035057, 0.07879993283263288, 0.044869280940950995, 0.03218883197937789, 0.09707458496074553, 0.9001461514541859, 0.9887020338339286, 0.24263526570737196, 0.0014316454195620247, 0.33265712968943206, 0.11138201364192553, 0.014831846546662576, 0.019642175156390978, 0.1864574994437581, 0.02662860480385366, 0.058869259652390454, 0.005440252594335694, 0.005724622194854233, 0.045796977558833864, 0.07919060702881689, 0.8682343662195587, 0.9447132932288352, 0.05202768861260252, 0.9978747363443393, 0.0014373527304708648, 0.16529556400414946, 0.0021560290957062973, 0.6504021105380664, 0.0574941092188346, 0.12217498209002352, 0.0007186763652354324, 0.9981919098520688, 0.0667317094881337, 0.20329092942003618, 0.00034397788395945205, 0.008943424982945754, 0.0068795576791890415, 0.5108071576797864, 0.0006879557679189041, 0.06569977583625534, 0.13449535262814577, 0.0020638673037567125, 0.9991679586387864, 0.9997014109946638, 0.09707340917834849, 0.08471313036992524, 0.06421315576083302, 0.09074253466671707, 0.24358793359039, 0.28820552538664956, 0.02080144482393182, 0.04190435986270323, 0.05969110253823914, 0.009044106445187747, 0.05389966976026638, 0.5806716999946223, 0.008890667176951155, 0.11168900641044889, 0.032228668516447935, 0.10390967263061662, 0.07946033789400095, 0.028894668325091254, 0.9955072159873228, 0.9942081291924093, 0.9850352458206295, 0.9959679820031061, 0.13290064109134547, 0.8236342362371543, 0.015738233813448806, 0.01398954116751005, 0.012240848521571295, 0.23023836674151513, 0.05502416449773792, 0.044882455747174456, 0.0004315620744920621, 0.4274622347843875, 0.0004315620744920621, 0.09990662024491238, 0.04660870404514271, 0.0938647512020235, 0.0010789051862301552, 0.9859289400762075, 0.9886377814108825, 0.4236061096120384, 0.014793917256495192, 0.18481978319029907, 0.00520912579454056, 0.037088975657128785, 0.02271178846419684, 0.038547530879600146, 0.002708745413161091, 0.17877719726863203, 0.09168061398391386, 0.9939804355053603, 0.9944075300473941, 0.9957638461080187, 0.0019003126834122495, 0.9916254102691621, 0.9493718950250675, 0.010380806009220419, 0.026423869841651976, 0.006605967460412994, 0.006605967460412994, 0.9986328623566189, 0.0014199757300142433, 0.09732295195713006, 0.00021845780461757588, 0.0012015179253966673, 0.00043691560923515176, 0.00688142084545364, 0.8925093607651063, 0.3427144362678499, 0.37032515081766837, 0.0002846465417507059, 0.0035106406815920395, 0.0009488218058356863, 0.24659878733669488, 0.0011385861670028237, 0.0037004050427591768, 0.028274889813903453, 0.0024669366951727847, 0.9885041230621002, 0.995037097625829, 0.1544967880736572, 0.8450788166920525, 0.02618226060388423, 0.916379121135948, 0.05498274726815688, 0.9977677620013301, 0.9869783962173432, 0.9930096039497543, 0.9998137049136492, 0.9945611425968494, 0.996990266845136, 0.013987160458364746, 0.05594864183345898, 0.9301461704812556, 0.993280155857428, 0.9939557166673146, 0.9956389702152592, 0.9970027800776355, 0.007660508075915129, 0.9882055417930518, 0.0038302540379575646, 0.9968428061632925, 0.8266961535163927, 0.0017010208920090384, 0.010206125352054231, 0.052731647652280195, 0.10886533708857846, 0.928247493409123, 0.07190649596831235, 0.9998195785922354, 0.012638954873473437, 0.7948498287095518, 0.11936790713836025, 0.004212984957824479, 0.004212984957824479, 0.06179044604809236, 0.9934307203996409, 0.9934631047580106, 0.9976257818210422, 0.19727273644550125, 0.0424070231187117, 0.3095225250618613, 0.008704232988241318, 0.0011837756864008194, 0.08530148328476492, 0.2537458000732109, 0.03265828217188143, 0.01678176120132926, 0.05236466565725977, 0.03671449260376825, 0.8372695264517882, 0.09939777265898235, 0.02596878745144584, 0.9842781169011164, 0.9952590117443696, 0.19729102747348043, 0.12570196734436268, 0.022108386216345192, 0.05685013598488764, 0.31057018732484915, 0.10106690841757802, 0.055586799629667914, 0.025266727104394506, 0.03958453913021806, 0.06611460258983229, 0.9961092188538712, 0.0018865704902535439, 0.9980188281155877, 0.9987442138657375, 0.07262631960249809, 0.9270536090436521, 0.9941715692600941, 0.023416267910871386, 0.12962576879232376, 0.26928708097502096, 0.5343926855373863, 0.0011150603767081614, 0.006132832071894887, 0.00027876509417704034, 0.019234791498215782, 0.00027876509417704034, 0.01616837546226834, 0.004947018348041822, 0.7453507644383012, 0.1335694953971292, 0.1137814220049619, 0.31650519002485333, 0.5602997282872404, 0.008019557179683784, 0.025127945829675858, 0.03688996302654541, 0.04972125451403946, 0.003207822871873514, 0.9990596879537255, 0.09540550502287468, 0.4705593552823141, 0.05959956488111783, 0.007854206224643435, 0.08639626847107779, 0.1529260153151163, 0.0006930181962920678, 0.06329566192800887, 0.04550819488984579, 0.017787467038163075, 0.9988597318170449, 0.9974909022763732, 0.026306828982865512, 0.1680903877866212, 0.6511794291083334, 0.03723953713158884, 0.0030748241668284364, 0.01605741509343739, 0.026306828982865512, 0.0010249413889428121, 0.07072095583705404, 0.16642128923717855, 0.8285762976263163, 0.0005043069370823592, 0.004538762433741234, 0.1296253060724603, 0.050141594039490374, 0.11142576453220084, 0.2524907824299671, 0.15800173410666077, 0.0224337205924831, 0.0967918474569718, 0.017530986953066263, 0.00935976422070487, 0.15220759435098632, 0.7822359219496462, 0.12086345844401837, 0.03722871570983374, 0.05047521222984435, 0.0006926272690201626, 0.0014718329466678456, 0.006060488603926423, 8.657840862752033e-05, 0.0009523624949027236, 0.9969201652755936, 0.13350344145659965, 0.0660475886531068, 0.24179895462128861, 0.0894247735495156, 0.051260815074053036, 0.15265583390185025, 0.0953394829811371, 0.030840984893454985, 0.06168196978690997, 0.07745452827123397, 0.9971773790761544, 0.9985361781385687, 0.9987259112280247, 0.5515997648891632, 0.172450542321515, 0.0037226236874585, 0.011633199023307813, 0.0141459700123423, 0.0923210674489708, 0.10535025035507554, 0.007910575335849311, 0.0010237215140510875, 0.039832073455805944, 0.03798889018332713, 0.09132304635203763, 0.07017652127461908, 0.09169732113216893, 0.20978101426359463, 0.22886902805029102, 0.030316257190635444, 0.03761461540319583, 0.032187631091291954, 0.16973361278954535, 0.15523897222365238, 0.03424720432219907, 0.2586565168545035, 0.0371762415339661, 0.0015771738832591677, 0.02816381934391371, 0.3613981298211007, 0.07119813530141386, 0.015771738832591677, 0.036950930979214786, 0.12694134819662484, 0.00020245829058472862, 0.537121844921285, 0.12910090329619528, 0.01423956643779258, 0.006006262620680282, 0.10851764375341454, 0.0020920690027088624, 0.047375239996826496, 0.028411646778723584, 0.0723273579037792, 0.09726782614646168, 0.8280235456570585, 0.18158605113723233, 0.16446280508701086, 0.004778580293085062, 0.015928600976950206, 0.010353590635017633, 0.3460488562242432, 0.2767594419745098, 0.9954774789347718, 0.10024686287072176, 0.008114831908586636, 0.48648007451981495, 0.12352577460848545, 0.16016547019574026, 0.02541007971375613, 0.03983644755124348, 0.0003278719963065307, 0.030246191659277458, 0.025574015711909395, 0.007856207329442911, 0.27423644654636764, 0.12113175487024767, 0.16278792396589847, 0.004384859904805346, 0.10340961275499273, 0.18051006608115341, 0.011144852258046921, 0.13465173957673082, 0.007655003991239805, 0.005741252993429854, 0.9836680128743149, 0.9888388908568249, 0.008487887475165878, 0.22877566971788374, 0.14635729435909847, 0.07724412757841309, 0.005913426034711049, 0.16520633984473995, 0.3289343231808021, 0.009239728179236016, 0.026240828029030282, 0.008500549924897134, 0.0033263021445249655, 0.9896774540633371, 0.07283009882403238, 0.9259826850484116, 0.9993572853369538, 0.9994172733795015, 0.9974421627871212, 0.9995517892056955, 0.0003076052026767392, 0.006152104053534784, 0.13780713079917914, 0.3918890282101657, 0.46386864563652264, 0.10764645165246486, 0.28245285765447636, 0.005715740795706099, 0.017147222387118296, 0.10955169858436689, 0.36676003439114135, 0.014765663722240755, 0.02381558664877541, 0.03572337997316312, 0.036199691706138626, 0.0013160123464734808, 0.0031584296315363544, 0.11844111118261329, 0.0002632024692946962, 0.0760655136261672, 0.8009251140637605, 0.9994603828763142, 0.18391060354591773, 0.0009015225664015576, 0.6716343119691603, 0.08654616637454952, 0.01081827079681869, 0.04597765088647943, 0.0013637245092154699, 0.004091173527646409, 0.02454704116587846, 0.5877652634718675, 0.2904733204628951, 0.09136954211743649, 0.005400357470070294, 0.9936657744929341, 0.00026912124521127, 0.00457506116859159, 0.05167127908056384, 0.00376769743295778, 0.02933421572802843, 0.06431997760549353, 0.8461171949442329, 0.9953550077254167, 0.9972893366319017, 0.996090710423159, 0.21549642452774648, 0.44904955495685633, 0.0005920231443069958, 0.0005920231443069958, 0.2886112828496605, 0.0002960115721534979, 0.016280636468442383, 0.029009134071042796, 0.00472924994251121, 0.9955071128986098, 0.38219707150890997, 0.44741949014233484, 0.0014703926906086122, 0.025836900134979898, 0.002835757331888038, 0.10786380666107462, 0.001050280493291866, 0.018169852533949277, 0.011343029327552151, 0.0018905048879253586, 0.997521040513652, 0.10790862203100708, 0.061444438897655794, 0.445599133328041, 0.22140310214361922, 0.003300734320948452, 0.006601468641896904, 0.0027929290408025362, 0.09013543722590003, 0.00812488448233465, 0.05281174913517523, 0.06083708923780432, 0.05443318510750913, 0.07881728160363313, 0.34162365495074737, 0.3421162629607701, 0.04802928097721394, 0.07093555344326982, 0.0032019520651475957, 0.6045743778702529, 0.21358183149832297, 0.010765213281165472, 0.014210081531138424, 0.1520048115300565, 0.0043060853124661895, 0.9950809030477954, 0.9924228743698507, 0.014419062536377147, 0.9455750853933577, 0.039990368753233495, 0.9996350271787545, 0.9909656557369235, 0.181737561843213, 0.19806672713361817, 0.07060852028351121, 0.017689929064605592, 0.17750407454570055, 0.10493000658834428, 0.1254926591762619, 0.07181808808280048, 0.03749660177796741, 0.014817205541293572, 0.0678208141990178, 0.9301140233008154, 0.9980569074572407, 0.13551251970730563, 0.0974108563413258, 0.5057456637352229, 0.0012580737903861265, 0.0001797248271980181, 0.0014377986175841447, 0.033069368204435325, 0.22339796020713648, 0.001976973099178199, 0.9968775115432883, 0.9972188229325454, 0.9947368717679017, 0.2068531839535485, 0.00874027537831895, 0.7837113589225991, 0.2930472354159205, 0.2503474223763638, 0.0007907372785103089, 0.10580064786467933, 0.0017396220127226796, 0.2979498065426844, 0.00015814745570206178, 0.03242022841892266, 0.016763630304418548, 0.0011070321899144325, 0.26352563340519186, 0.02400763185682892, 0.0005583170199262539, 0.041873776494469044, 0.019541095697418888, 0.16972837405758118, 0.4795943201166521, 0.0011166340398525078, 0.6132755152766175, 0.35767545152710106, 0.028811601388834377, 0.9909788814750117, 0.9959750263272836, 0.04325523449058969, 0.004325523449058968, 0.1825370895502885, 0.7647525457936257, 0.005190628138870762, 0.002592478954400959, 0.18925096367126998, 0.8088534337730992, 0.992607596253159, 0.07410187332713836, 0.16257802308562797, 0.6784823697165968, 0.001239161761323384, 0.00033044313635290237, 0.015117773488145284, 0.0009913294090587073, 0.033374756771643144, 0.00033044313635290237, 0.033457367555731365, 0.9981544726437285, 0.00015705622016142878, 0.08960057360209513, 0.2115547285574446, 0.26314769688047396, 0.2209781017671303, 0.0006282248806457151, 0.1931791507985574, 0.0008638092108878584, 0.019946139960501458, 0.7563685353409468, 0.20093228597238194, 0.0023820424417925336, 0.0008407208618091295, 0.0022419222981576786, 7.006007181742746e-05, 0.004974265099037349, 0.0321575729641992, 0.9981021538471481, 0.9966612647326648, 0.9966613216760373, 0.9980741727568071, 0.9988972499254088, 0.05442410891898203, 0.9433512212623552, 0.9942200319637613, 0.7508966342614067, 0.07449031605557854, 0.1438433689349103, 0.002568631588123398, 0.011130736881868058, 0.016268000058114854, 0.1906916638693938, 0.30473367116145667, 0.010909987615021552, 0.003263671508767131, 0.36720966861499893, 0.024244416922270116, 0.06480719138837589, 0.006620590774927608, 0.0025176894496203583, 0.02499039898141689, 0.9977224912806961, 0.3028317684102706, 0.011837072380857482, 0.6855637753913292, 0.9995896177459274, 0.026931433079929016, 0.045293773816244255, 0.05059845002895754, 0.0016322080654502433, 0.004488572179988169, 0.15301950613596033, 0.7177634967817446, 0.06331006642678913, 0.10367023377386721, 0.02848952989205511, 0.0015827516606697284, 0.006331006642678914, 0.04906530148076158, 0.7478501596664466, 0.9993478422437655, 0.004362387416661664, 0.9922007824340474, 0.003150613134255646, 0.20937565869089905, 0.6470383258899397, 0.14318593433055032, 0.09700743747819017, 0.008908846299017465, 0.3675470178235667, 0.006929102677013584, 0.04949359055009703, 0.010736301950097971, 0.4246550069198325, 0.002284319563850632, 0.0037310552876226987, 0.028706282519056273, 0.6348501202379508, 0.07629588888958333, 0.06376969817636816, 0.006832467661753731, 0.0015183261470563848, 0.0005693723051461443, 0.11178676257702633, 0.10229722415792392, 0.002087698452202529, 0.9920671320756919, 0.9887060940782018, 0.9908057735684834, 0.9969773403412945, 0.11782712040169958, 0.044393787573444886, 0.23465287717392297, 0.03237742401973048, 0.019693484713031943, 0.42891742129230587, 0.0834469691230167, 0.025701666489889145, 0.013017727183190607, 0.006425125519680334, 0.9894693300307714, 0.003075527802763041, 0.47311869365838116, 0.002050351868508694, 0.07637560710194885, 0.26705833087325737, 0.050746208745590174, 0.03075527802763041, 0.0174279908823239, 0.007176231539780429, 0.07227490336493146, 0.9949356697064381, 0.9816692234986296, 0.017687733756732067, 0.030264072538664356, 0.9684503212372594, 0.997583903265422, 0.0327597028163526, 0.5111749854551623, 0.288656249344088, 0.15143636207559222, 0.01545269000771349, 0.749544450313985, 0.1613426189658917, 0.0626737732465931, 0.0050816572902643055, 0.007622485935396458, 0.0012704143225660764, 0.012704143225660764, 0.9967751722787501, 0.9870640074703086, 0.997086942806755, 0.9885623160749396, 0.9951540696302754, 0.995607441449648, 0.9981112409615239, 0.9910589343717617, 0.013282558329655525, 0.029680778489724075, 0.000983893209604113, 0.002787697427211653, 0.09002622867877633, 0.6293636897434309, 0.22514756279774117, 0.007051234668829476, 0.0014758398144061693, 0.10318286983317176, 0.1761658753249274, 0.002516655361784677, 0.5775724055295833, 0.11828280200387982, 0.018874915213385076, 0.0037749830426770156, 0.992468267004026, 0.9934616259377359, 0.0025584729765105846, 0.09018617242199811, 0.12088784814012513, 0.7860908220328772, 0.9935655829446671, 0.9977428914034897, 0.3337786756334206, 0.054272955387548075, 0.0009045492564591346, 0.6015252555453244, 0.00814094330813221, 0.39982493470895275, 0.5759322042862636, 0.016894011325730398, 0.007167156320006835, 0.9979686426499437, 0.9974544135762876, 0.004527445523213457, 0.01867571278325551, 0.15732873193166763, 0.0005659306904016821, 0.7634405013518691, 0.0537634155881598, 0.0016977920712050463, 0.9957171528478806, 0.9937679486552738, 0.05548239463251374, 0.28710532589276655, 0.0065336410667632015, 0.00037488104481428204, 0.0020350685289918166, 0.5513429080518619, 0.05435775149807089, 0.009157808380463175, 0.0021421773989387543, 0.031436453329426226, 0.9896714894323673, 0.00857944908558305, 0.9909263693848422, 0.9992021209040834, 0.9974239534470134, 0.9987952070671741, 0.9974368475893692, 0.9987561775260032, 0.9873588229917828, 0.10486716325391439, 0.8931186737125042, 0.0017477860542319064, 0.99410915683952, 0.010628159896328208, 0.9671625505658669, 0.01594223984449231, 0.9973079415483327, 0.2732210775382222, 0.03477359168668283, 0.001241913988810101, 0.08817589320551716, 0.6010863705840889, 0.0018405191961798925, 0.05051202682849261, 0.00470354905690417, 0.030470817803422666, 0.013292638639077002, 0.07996033396737089, 0.22781537606048893, 0.2899840244647875, 0.2998001268444136, 0.0016360170632710156, 0.9920697770579089, 0.30564492353598394, 0.06511449204265285, 0.15557776392441713, 0.13255237401180475, 0.006106345319644938, 0.23939852358042132, 0.0854590474246894, 0.006195706470664132, 0.0006255280571343595, 0.0033063625877101863, 0.26038448660734337, 0.30551088169666385, 0.0063280691964334446, 0.39591928013423344, 0.00015560825892869126, 0.027905747767878634, 0.00031121651785738253, 0.0015042131696440155, 0.0005186941964289708, 0.0015042131696440155, 0.9947600220506625, 0.07251899264735456, 0.9226027397913441, 0.9971905189116315, 0.9969816967051609, 0.8495572953960956, 0.14909449223838764, 0.9944601791812931, 0.00721421304916495, 0.9825758172962661, 0.007695160585775946, 0.0024047376830549833, 0.9936481892819139, 0.12133390787437628, 0.00268635958393453, 0.8757532243626568, 0.005359726197772152, 0.8655957809402026, 0.02679863098886076, 0.050917398878835445, 0.050917398878835445, 0.9989455573805582, 0.9995001568740179, 0.025331164406427367, 0.9720834340966501, 0.037877903533399246, 0.22253268325872058, 0.6249854083010876, 0.11363371060019774, 0.9970073425989052, 0.9987215889625758, 0.7574560910277569, 0.08643910685846168, 0.01069349775568598, 0.07128998503790654, 0.022278120324345792, 0.051685239152482236, 0.2783932715494557, 0.1304244339958211, 0.017544403557813497, 0.08970817668240487, 0.13141751344248978, 0.2413183055404913, 0.10857668616910994, 0.0023171853755602732, 0.9936422880782952, 0.0278070732640018, 0.25713731793565714, 0.015621951271911126, 0.03874243915433959, 0.3942980501030368, 0.10716658572531032, 0.0556141465280036, 0.005623902457888005, 0.059363414833262275, 0.03874243915433959, 0.995237979179496, 0.9918707849880479, 0.7758546207581628, 0.029901090860862258, 0.003672063789930453, 0.10334236665947132, 0.05560553739037543, 0.03147483248511817, 0.9979045543230414, 0.7449848289117094, 0.0008159746209328689, 0.017951441660523117, 0.11464443424106809, 0.029375086353583282, 0.0077517588988622555, 0.08445337326655193, 0.007750022772836351, 0.8238274207525041, 0.0038750113864181755, 0.002325006831850905, 0.002325006831850905, 0.002325006831850905, 0.05347515713257082, 0.1038503051560071, 0.8725821491452601, 0.11988882574875138, 0.008340092226000096, 0.054456987210018896, 0.05810773495594195, 0.3571648211428055, 0.13112268987440304, 0.11165203522948008, 0.024642547284980616, 0.022208715454365247, 0.0416793700992882, 0.005780350597711503, 0.19288117257626805, 0.9871819758404662, 0.9918330106298014, 0.9979661399569723, 0.02423588527403701, 0.0029476076684639605, 0.619652634303757, 0.0029476076684639605, 0.05076435429021266, 0.09858110091196134, 0.20109234538187465, 0.031138313282853134, 0.0034598125869836818, 0.31830275800249874, 0.6262260782440464, 0.0017299062934918409, 0.01902896922841025, 0.23226565939765892, 0.006152732699275733, 0.0046145495244568, 0.7567861220109152, 0.002062987562952439, 0.06869748584631623, 0.13141230776007037, 0.012996821646600367, 0.0006188962688857318, 0.06890378460261147, 0.3224449560894663, 0.3038780680228943, 0.011965327865124147, 0.07715573485442123, 0.1544911636436449, 0.13226687613624907, 0.4787931454263241, 0.01985081990951862, 0.01618273362189018, 0.020282359472769025, 0.05178474759004857, 0.08458175439707934, 0.002157697816252024, 0.03948587003741204, 0.9963566817660885, 0.06828887420189135, 0.017469246888855927, 0.9131651782811053, 0.2275020146273643, 0.05661814843667438, 0.7144180911827639, 0.9973940132417233, 0.9877015552921588, 0.9956337560542035, 0.08450345781978714, 0.8546921162344185, 0.06035961272841939, 0.016150386591994206, 0.11805932598747765, 0.13598625510459122, 0.43218434520176496, 0.030201222927029165, 0.06944666234557509, 0.10949962109372072, 0.04845115977598262, 0.01098226288255606, 0.029070695865589573, 0.09419125158752066, 0.05332520592521011, 0.6623289595757405, 0.0647876333670777, 0.09917491569268048, 0.004983664105159823, 0.02142975565218724, 0.0004983664105159823, 0.9961034173614458, 0.01880544385477464, 0.9531778895018127, 0.02433645675323777, 0.0011062025796926259, 0.002581139352616127, 0.8590050813854169, 0.13768025694679156, 0.041567388155464804, 0.13927774213129768, 0.43996651099615347, 0.3519732087969228, 0.027531646700372794, 0.007871889099226533, 0.14312525634957335, 0.14455650891306907, 0.7041762612399008, 0.9867849965033814, 0.9930579590452949, 0.006539279895164226, 0.014386415769361297, 0.005231423916131381, 0.020925695664525523, 0.003923567937098535, 0.5872273345857475, 0.23541407622591215, 0.12555417398715313, 0.0889091287366586, 0.8930508032212551, 0.01745786535922244, 0.0003599559867880915, 0.9957117104577312, 0.9954698528052711, 0.995241218947427, 0.9935345541072167, 0.030106385888711815, 0.001963459949263814, 0.8482146980819677, 0.028797412589202605, 0.001963459949263814, 0.08835569771687163, 0.9955505818364421, 0.0016820502464511878, 0.03700510542192613, 0.9326968616571837, 0.021025628080639847, 0.007569226109030346, 0.31567788587000095, 0.03178067348113208, 0.1795836142641961, 0.035278068170443266, 0.014445760673241855, 0.15418948760702358, 0.2036091951733773, 0.020528186219870004, 0.03938370541441727, 0.005626243630631038, 0.870782918725554, 0.0028881688846618707, 0.1227471775981295, 0.0014440844423309353, 0.0030375033867793616, 0.013234836185252933, 0.07789026541812791, 0.7125115087273873, 0.0035799147058471047, 0.1501394531179513, 0.011282155436609057, 0.02755449500864135, 0.0007593758466948404, 0.9914627404893276, 0.2104428046474147, 0.5972639311755762, 0.0015139770118519041, 0.14004287359630113, 0.007569885059259521, 0.011733321841852258, 0.0022709655177778564, 0.00037849425296297603, 0.02876556322518618, 0.027589751931128097, 0.12656798698405014, 0.026900008132849894, 0.7421643269473458, 0.0010346156974173036, 0.03621154940960563, 0.003103847092251911, 0.004483334688808315, 0.02621026433457169, 0.005173078487086518, 0.13831556627886354, 0.5245351859652287, 0.14017750659415595, 0.05266631177541343, 0.013299573680659958, 0.044154584619791055, 0.0007979744208395975, 0.04947441409205504, 0.017555437258471144, 0.018885394626537138, 0.9974236322900786, 0.1487765154125239, 0.005994658130174956, 0.8447018274337438, 0.1699851586086717, 0.06992381787196235, 0.185589962937849, 0.0045265844618987555, 0.0005956032186708889, 0.025610938402848223, 0.001667689012278489, 0.029899281577278624, 0.5110275616196227, 0.0013103270810759556, 0.9906651571387831, 0.9969582005420569, 0.9986633891259706, 0.0034382620128435887, 0.15013744122750336, 0.05272001753026836, 0.018337397401832472, 0.04355131882935212, 0.002292174675229059, 0.08595655032108972, 0.5810662801705665, 0.0011460873376145295, 0.060742628893570065, 0.1534484878679505, 0.5775630585029804, 0.04404539929543024, 0.0014208193321106528, 0.09803653391563505, 0.11650718523307353, 0.008524915992663917, 0.004374771884433962, 0.26282283398022493, 0.18172129366110304, 0.22984378438987663, 0.0013460836567489114, 0.00033652091418722785, 0.1076866925399129, 0.0013460836567489114, 0.2103255713670174, 0.1467632281253992, 0.8515492796726459, 0.07395740185762938, 0.28816562796340567, 0.5414601493514524, 0.09311735052540901, 0.003257191273522537, 0.9894506507092271, 0.9932330648384459, 0.9951218636317537, 0.9862873530495847, 0.675235990262269, 0.03487371506594054, 0.03083038578293294, 0.048014535235715236, 0.006064993924511398, 0.043971205952707634, 0.06722034933000133, 0.003537913122631649, 0.020216646415037995, 0.06924201397150513, 0.7506218207880261, 0.06147333877143317, 0.0053923981378450146, 0.003235438882707009, 0.0043139185102760115, 0.17471369966617847, 0.9933144391990285, 0.9986474831589899, 0.9907660753327235, 0.9952409350787944, 0.9973309544734286, 0.997503662262601, 0.18957697967415937, 0.04477446253610799, 0.12860749877392721, 0.6373216050352393, 0.1666532201843612, 0.2163337542771755, 0.17335614938735996, 0.03193748620252348, 0.018663057780898495, 0.03338321603062125, 0.020108787608996266, 0.11776126599778204, 0.12722422487260382, 0.09462958874821771, 0.0076671382910701025, 0.9430580098016226, 0.049836398891955666, 0.12176457391237183, 0.8251152048009407, 0.004806496338646256, 0.046462797940247144, 0.012592100476717301, 0.44378646004430705, 0.0003403270399112784, 0.3648305867848905, 0.08542208701773088, 0.0037435974390240627, 0.05581363454544966, 0.03335204991130528, 0.9946704087207946, 0.04837068775534158, 0.03371290358705625, 0.007328892084142664, 0.04983646617217012, 0.7196972026628097, 0.019055119418770926, 0.09674137551068317, 0.014657784168285328, 0.011726227334628263, 0.9893248933694527, 0.0069670767138693855, 0.030306660588682137, 0.9698131388378284, 0.9885929946456901, 0.9982645818710929, 0.98987967409826, 0.9932684747493095, 0.152192051793788, 0.08464970074791874, 0.10961375920202052, 0.10974048031092458, 0.1371122398342037, 0.1117680180533897, 0.14154747864584613, 0.03307420942396226, 0.02711831730547097, 0.09314001504449142, 0.13608974169840404, 0.07183239724963744, 0.08489283311320789, 0.10082656486676383, 0.16638995290188746, 0.2263373535156758, 0.09521057744542855, 0.02612087172714089, 0.03408773760391886, 0.058118939592888476, 0.9902576571856584, 0.01749229610023146, 0.9045291664583456, 0.07782804206914577, 0.9670493095495416, 0.03119513901772715, 0.9076486515121482, 0.05625293150075291, 0.010642446500142441, 0.02432559200032558, 0.23737490758736757, 0.16487799252296342, 0.0007410246854964648, 0.0002470082284988216, 0.023712789935886873, 0.00765725508346347, 0.5651548268053038, 0.0002470082284988216, 0.42248116299985494, 0.09927835811341457, 0.17014768713001968, 0.06249986401298077, 0.042648907581849194, 0.07480651396197208, 0.04524226293508491, 0.021689881136153267, 0.040668527130287374, 0.020558235163832227, 0.992750372998491, 0.9933765664587372, 0.9959024593906926, 0.031234673787289714, 0.11813113804167263, 0.017619559572317273, 0.8205108537199567, 0.0004004445357344835, 0.012413780607768989, 0.07081450432683138, 0.8847647481775874, 0.019994683574634745, 0.02416024265268365, 0.9964868218418459, 0.00022455872671672296, 0.12867215040868227, 0.042441599349460644, 0.16729625140395862, 0.022455872671672296, 0.006736761801501689, 0.5834035720100462, 0.0013473523603003378, 0.04760645006394527, 0.998349766130018, 0.9984192975170953, 0.15197482354966088, 0.027256354223580484, 0.15693052431758459, 0.04501428197530716, 0.047492132359269024, 0.05038295780722453, 0.03262503005549785, 0.2585223900600209, 0.215572983404682, 0.014041152175783885, 0.3080688201062154, 0.004400983144374506, 0.2149146768836217, 0.0991688201865722, 0.12366762635692362, 0.035941362345725134, 0.028459691000288473, 0.03330077245910043, 0.1452324437643587, 0.006894873592853392, 0.05884359006153557, 0.6852181211113024, 0.013162381987448747, 0.05264952794979499, 0.18737037888015273, 0.00232277329190272, 0.997132846098854, 0.8746657615280495, 0.01335367574851984, 0.028932964121792987, 0.051189090369326055, 0.031158576746546297, 0.9878994510062987, 0.9935512336890382, 0.9980462729119783, 0.991068647778147, 0.9950272405137977, 0.9964150512657098, 0.9922309763647694, 0.9949827515359309, 0.05463881636331302, 0.18212938787771005, 0.7588724494904586, 0.0030354897979618344, 0.9929390466179695, 0.995780713518195, 0.9992798619848138, 0.9969900790991114, 0.9986524330215168, 0.8339025033712245, 0.16315483761610916, 0.003021385881779799, 0.014902714379506916, 0.5839154452334073, 0.2763776121290374, 0.027773240434535617, 0.0013547922163188106, 0.0128705260550287, 0.08128753297912863, 0.002032188324478216, 0.9999412884753655, 0.28875288326245535, 0.0019182697540964001, 0.2705826058694867, 0.1425913850544991, 0.10342671090836424, 0.0898922520877952, 0.07364024444892292, 0.009644634041429123, 0.004369392217664023, 0.015133016948982713, 0.9945741400457502, 0.0037003566280205107, 0.4181402989663177, 0.5760221817618595, 0.646581870739878, 0.2607906300364457, 0.003633738682179844, 0.012298807847377934, 0.005087234155051782, 0.04818896529290808, 0.01190748214314318, 0.0027951836016768027, 0.002236146881341442, 0.006484825955890183, 0.13515274990264303, 0.3248651140077875, 0.05400570948978564, 0.09347142027078284, 0.027972187992145386, 0.00844704686891519, 0.03641923486106057, 0.021740759974093193, 0.12324379857925441, 0.17475693686181917, 0.996436325956112, 0.31079064184767813, 0.18544616872754327, 0.06769091175335408, 0.05239007274943137, 0.04198550222676392, 0.08898967964681449, 0.044188823043328794, 0.07931954939633534, 0.08115565007680607, 0.047861024404270244, 0.014105547542606008, 0.047445932643311116, 0.0012823225038732734, 0.9271191703003767, 0.008976257527112914, 0.17787763067209905, 0.05150228236004815, 0.0025967537324394024, 0.08309611943806088, 0.11685391795977311, 0.469146840994052, 0.029429875634313228, 0.014282145528416713, 0.01081980721849751, 0.04414481345146984, 0.13501918888061, 0.25191499670342, 0.01359253579335, 0.58266670100827, 0.01268636674046, 0.0036246762115600003, 0.06217929265714565, 0.2787021087119777, 0.5990674998135149, 0.0015781546359681638, 0.00031563092719363276, 0.001262523708774531, 0.040716389607978624, 0.002525047417549062, 0.01388776079651984, 0.0007475636895423887, 0.33266584184636294, 0.007849418740195081, 0.5801094230848935, 0.07027098681698453, 0.006728073205881498, 0.0014951273790847774, 0.9974763585302122, 0.12111168081283748, 0.0955108377141889, 0.07089464242702682, 0.0009846478114864836, 0.018708308418243186, 0.04726309495135121, 0.6449443165236467, 0.32235378005101023, 0.0007814637092145702, 0.16918689304495446, 0.025006838694866248, 0.0003907318546072851, 0.3676786751854553, 0.03633806247847752, 0.012894151202040408, 0.002735122982250996, 0.06251709673716561, 0.6352986556800818, 0.006820691088589835, 0.006495896274847463, 0.03247948137423731, 0.06463416793473224, 0.07567719160197293, 0.017863714755830522, 0.02078686807951188, 0.12114846552590518, 0.019162894010800013, 0.9458730156307561, 0.001491913273865546, 0.026854438929579828, 0.025362525655714282, 0.8106995390972849, 0.026985837639854144, 0.006371656109410006, 0.07720947991402713, 0.01536693532269472, 0.008620475912731185, 0.05397167527970829, 0.0007496066011070595, 0.12879255077245122, 0.8709869111560684, 0.04640884011687918, 0.0013259668604822623, 0.28906077558513316, 0.6629834302411312, 0.993887124550569, 0.996858045817753, 0.9958534230826518, 0.9967353582139861, 0.15372835965494686, 0.0009150497598508742, 0.538049258792314, 0.030501658661695807, 0.11163607070180666, 0.09882537406389441, 0.003660199039403497, 0.03538192404756713, 0.027756509382143184, 0.9921528583551412, 0.9938409150351711, 0.9969030993101345, 0.01811806281140216, 0.005991800299833786, 0.2289723686007911, 0.5826312482028853, 0.13139162086064088, 0.022683243992227903, 0.0025679144142144797, 0.0011412952952064353, 0.006562447947437004, 0.2626300319584155, 0.02588920188519963, 0.26609115520509996, 0.08791253046578484, 0.0001384449298673777, 0.055654861806685836, 0.1682105897888639, 0.03322678316817065, 0.0819593984814876, 0.018274730742493858, 0.2694610846678641, 0.011730970057229747, 0.3041622775317653, 0.043341368415034456, 0.12665232942027085, 0.05549381045036826, 0.07593520138841531, 0.0025288318686243765, 0.07572446539936327, 0.034911928852953196, 0.9996907202366432], \"Term\": [\"abl\", \"abl\", \"abl\", \"abl\", \"abl\", \"abl\", \"abl\", \"abl\", \"abl\", \"abl\", \"absolut\", \"absolut\", \"absolut\", \"absolut\", \"absolut\", \"absolut\", \"absolut\", \"absolut\", \"absolut\", \"absolut\", \"address\", \"adult\", \"adult\", \"adult\", \"adult\", \"adult\", \"adult\", \"adult\", \"adult\", \"adult\", \"adult\", \"age\", \"age\", \"age\", \"age\", \"age\", \"age\", \"age\", \"age\", \"age\", \"aladdin\", \"alic\", \"alic\", \"aliv\", \"aliv\", \"alloc\", \"allow\", \"allow\", \"allow\", \"allow\", \"allow\", \"allow\", \"allow\", \"amaz\", \"amaz\", \"amaz\", \"amaz\", \"amaz\", \"amaz\", \"amaz\", \"amaz\", \"amaz\", \"amaz\", \"american\", \"american\", \"american\", \"american\", \"american\", \"american\", \"anna\", \"annual\", \"anybodi\", \"apolog\", \"area\", \"area\", \"area\", \"area\", \"area\", \"area\", \"area\", \"area\", \"area\", \"area\", \"arent\", \"ariel\", \"arriv\", \"arriv\", \"arriv\", \"arriv\", \"arriv\", \"arriv\", \"arriv\", \"arriv\", \"arriv\", \"arrog\", \"ashford\", \"ask\", \"ask\", \"ask\", \"ask\", \"asleep\", \"asterix\", \"astound\", \"aswel\", \"atract\", \"attitud\", \"attract\", \"attract\", \"attract\", \"attract\", \"attract\", \"attract\", \"attract\", \"attract\", \"attract\", \"auberg\", \"autograph\", \"autograph\", \"autograph\", \"autograph\", \"avoid\", \"avoid\", \"avoid\", \"avoid\", \"avoid\", \"avoid\", \"avoid\", \"avoid\", \"awak\", \"backlot\", \"bad\", \"barrier\", \"beauti\", \"beauti\", \"beauti\", \"beauti\", \"beauti\", \"beauti\", \"beauti\", \"beauti\", \"beauti\", \"beauti\", \"bed\", \"beer\", \"beer\", \"best\", \"best\", \"best\", \"best\", \"best\", \"best\", \"best\", \"best\", \"best\", \"best\", \"better\", \"better\", \"better\", \"better\", \"better\", \"better\", \"better\", \"better\", \"better\", \"better\", \"birthday\", \"biscuit\", \"bless\", \"block\", \"block\", \"block\", \"blue\", \"blue\", \"blue\", \"board\", \"board\", \"board\", \"board\", \"board\", \"board\", \"book\", \"book\", \"book\", \"book\", \"book\", \"book\", \"book\", \"book\", \"bother\", \"bother\", \"bother\", \"bother\", \"bother\", \"bother\", \"bother\", \"bottl\", \"bottl\", \"bottl\", \"bottl\", \"break\", \"break\", \"break\", \"break\", \"break\", \"break\", \"breakdown\", \"breakfast\", \"breathtak\", \"brilliant\", \"brilliant\", \"brilliant\", \"brilliant\", \"brilliant\", \"brilliant\", \"brilliant\", \"brilliant\", \"brilliant\", \"bring\", \"bring\", \"bring\", \"bring\", \"bring\", \"bring\", \"bring\", \"bring\", \"bring\", \"british\", \"buffalo\", \"buffalo\", \"buffet\", \"buffet\", \"buggi\", \"burger\", \"burger\", \"burger\", \"burger\", \"busi\", \"busi\", \"busi\", \"busi\", \"busi\", \"busi\", \"busi\", \"busi\", \"busi\", \"busi\", \"buy\", \"buy\", \"buy\", \"buy\", \"buy\", \"buy\", \"buy\", \"buzz\", \"buzz\", \"buzz\", \"buzz\", \"buzz\", \"buzz\", \"cabin\", \"cafe\", \"cafe\", \"cafe\", \"cafe\", \"cafe\", \"cafe\", \"cafe\", \"california\", \"california\", \"california\", \"california\", \"california\", \"california\", \"california\", \"california\", \"candi\", \"captiv\", \"captiv\", \"caract\", \"caribbean\", \"caribean\", \"carribean\", \"cast\", \"castl\", \"castl\", \"castl\", \"castl\", \"castl\", \"castl\", \"castl\", \"cave\", \"cendrillon\", \"cereal\", \"chair\", \"charact\", \"charact\", \"charact\", \"charact\", \"charact\", \"charact\", \"charact\", \"charact\", \"charact\", \"charact\", \"charl\", \"cheap\", \"cheap\", \"cheap\", \"cheap\", \"cheap\", \"cheap\", \"cheap\", \"cheap\", \"cheaper\", \"cheaper\", \"cheaper\", \"cheaper\", \"cheaper\", \"cheaper\", \"cheaper\", \"check\", \"check\", \"check\", \"check\", \"check\", \"check\", \"check\", \"cherish\", \"cheyenn\", \"chicken\", \"childhood\", \"childhood\", \"childhood\", \"childhood\", \"children\", \"children\", \"children\", \"children\", \"children\", \"children\", \"children\", \"children\", \"children\", \"children\", \"chilli\", \"chip\", \"chip\", \"chip\", \"chip\", \"christma\", \"christma\", \"christma\", \"christma\", \"christma\", \"cigarett\", \"cigarett\", \"cinderella\", \"cinderella\", \"cinderella\", \"cinderella\", \"clean\", \"clean\", \"clean\", \"clean\", \"clean\", \"clean\", \"clean\", \"clean\", \"close\", \"close\", \"close\", \"close\", \"close\", \"close\", \"close\", \"close\", \"close\", \"close\", \"closur\", \"closur\", \"closur\", \"closur\", \"coach\", \"coach\", \"coaster\", \"coaster\", \"coaster\", \"coaster\", \"coat\", \"cold\", \"cold\", \"cold\", \"cold\", \"cold\", \"cold\", \"cold\", \"colour\", \"colour\", \"colour\", \"colour\", \"come\", \"come\", \"come\", \"come\", \"come\", \"come\", \"come\", \"come\", \"come\", \"come\", \"comfi\", \"comfi\", \"continent\", \"cook\", \"cop\", \"cope\", \"corpor\", \"cost\", \"cost\", \"cost\", \"cost\", \"cost\", \"cost\", \"cost\", \"cost\", \"counterpart\", \"countless\", \"crack\", \"credit\", \"crockett\", \"croissant\", \"crowd\", \"crowd\", \"crowd\", \"crowd\", \"crowd\", \"crowd\", \"crowd\", \"crowd\", \"crowd\", \"crowd\", \"cruis\", \"cruis\", \"crush\", \"crush\", \"cuddl\", \"curious\", \"custom\", \"custom\", \"cynic\", \"daisi\", \"daughter\", \"daughter\", \"daughter\", \"daughter\", \"daughter\", \"daughter\", \"daughter\", \"daughter\", \"daughter\", \"daughter\", \"davi\", \"davi\", \"day\", \"day\", \"day\", \"day\", \"day\", \"day\", \"day\", \"day\", \"day\", \"day\", \"dear\", \"dearer\", \"defiant\", \"defo\", \"demand\", \"departur\", \"describ\", \"desk\", \"differ\", \"differ\", \"differ\", \"differ\", \"differ\", \"differ\", \"differ\", \"differ\", \"differ\", \"differ\", \"diner\", \"dinner\", \"dinner\", \"dinner\", \"dinner\", \"dirti\", \"disabl\", \"disappoint\", \"disappoint\", \"disappoint\", \"disappoint\", \"disappoint\", \"disappoint\", \"disappoint\", \"disappoint\", \"disappoint\", \"disappoint\", \"discount\", \"discount\", \"discount\", \"discount\", \"discount\", \"discount\", \"disgrac\", \"disgust\", \"disgust\", \"dislik\", \"disney\", \"disney\", \"disney\", \"disney\", \"disney\", \"disney\", \"disney\", \"disney\", \"disney\", \"disney\", \"disneyland\", \"disneyland\", \"disneyland\", \"disneyland\", \"disneyland\", \"disneyland\", \"disneyland\", \"disneyland\", \"disneyland\", \"disneyland\", \"display\", \"display\", \"display\", \"display\", \"dissapoint\", \"dissapoint\", \"dissapoint\", \"dissappoint\", \"dog\", \"dog\", \"doll\", \"donald\", \"doom\", \"drag\", \"dragon\", \"dragon\", \"dread\", \"dream\", \"dream\", \"dream\", \"dream\", \"dream\", \"dream\", \"dream\", \"dress\", \"dress\", \"dress\", \"dress\", \"dress\", \"drink\", \"drink\", \"drink\", \"drink\", \"drink\", \"duck\", \"ear\", \"earl\", \"earli\", \"earli\", \"earli\", \"earli\", \"earli\", \"earli\", \"earli\", \"earli\", \"earth\", \"easi\", \"easi\", \"easi\", \"easi\", \"easi\", \"easi\", \"easi\", \"easi\", \"easi\", \"easi\", \"edg\", \"eiffel\", \"element\", \"employe\", \"employe\", \"employe\", \"enabl\", \"enforc\", \"enforc\", \"english\", \"english\", \"english\", \"english\", \"english\", \"enjoy\", \"enjoy\", \"enjoy\", \"enjoy\", \"enjoy\", \"enjoy\", \"enjoy\", \"enjoy\", \"enjoy\", \"enjoy\", \"enter\", \"enter\", \"enter\", \"enter\", \"enter\", \"enter\", \"enter\", \"enter\", \"enter\", \"enter\", \"enthusiasm\", \"entranc\", \"entranc\", \"entranc\", \"entranc\", \"entranc\", \"entranc\", \"entranc\", \"entranc\", \"entranc\", \"entranc\", \"error\", \"euro\", \"euro\", \"euro\", \"euro\", \"euro\", \"euro\", \"eurodisney\", \"eurodisney\", \"eurodisney\", \"europ\", \"europ\", \"europ\", \"eurostar\", \"eurostar\", \"evid\", \"exchang\", \"exchang\", \"exit\", \"exit\", \"exit\", \"expect\", \"expect\", \"expect\", \"expect\", \"expect\", \"expect\", \"expect\", \"expect\", \"expect\", \"expect\", \"expens\", \"expens\", \"expens\", \"expens\", \"expens\", \"expens\", \"expens\", \"expens\", \"expens\", \"expens\", \"experi\", \"experi\", \"experi\", \"experi\", \"experi\", \"experi\", \"experi\", \"experi\", \"experi\", \"experi\", \"extortion\", \"extra\", \"extra\", \"extra\", \"extra\", \"extra\", \"extra\", \"extra\", \"extra\", \"extra\", \"extra\", \"fabul\", \"fabul\", \"fabul\", \"fabul\", \"fabul\", \"fabul\", \"fabul\", \"fake\", \"famili\", \"famili\", \"famili\", \"famili\", \"famili\", \"famili\", \"famili\", \"famili\", \"famili\", \"famili\", \"fanta\", \"fantast\", \"fantast\", \"fantast\", \"fantast\", \"fantast\", \"fantast\", \"fantast\", \"fantast\", \"fantast\", \"fantast\", \"fashion\", \"fast\", \"fast\", \"fast\", \"fast\", \"fast\", \"fast\", \"fast\", \"fastpass\", \"fastpass\", \"fastpass\", \"fastpass\", \"fastpass\", \"feel\", \"feel\", \"feel\", \"feel\", \"feel\", \"feel\", \"feel\", \"feel\", \"feel\", \"feel\", \"fell\", \"fenc\", \"film\", \"film\", \"film\", \"film\", \"filthi\", \"financi\", \"firework\", \"firework\", \"firework\", \"firework\", \"firework\", \"firework\", \"firework\", \"firework\", \"florida\", \"florida\", \"florida\", \"florida\", \"florida\", \"flower\", \"flower\", \"food\", \"food\", \"food\", \"food\", \"food\", \"food\", \"food\", \"food\", \"food\", \"food\", \"franc\", \"franc\", \"franc\", \"franc\", \"free\", \"free\", \"free\", \"free\", \"free\", \"free\", \"free\", \"french\", \"french\", \"french\", \"french\", \"french\", \"fri\", \"fri\", \"fri\", \"friday\", \"friday\", \"friday\", \"friday\", \"friday\", \"friday\", \"friend\", \"friend\", \"friend\", \"friend\", \"friend\", \"friend\", \"friend\", \"friend\", \"friend\", \"friend\", \"fruit\", \"gang\", \"gaull\", \"germani\", \"girl\", \"girl\", \"girl\", \"girl\", \"girl\", \"girl\", \"girl\", \"girl\", \"glove\", \"go\", \"go\", \"go\", \"go\", \"go\", \"go\", \"go\", \"go\", \"go\", \"go\", \"good\", \"good\", \"good\", \"good\", \"good\", \"good\", \"good\", \"good\", \"good\", \"good\", \"goofi\", \"goofi\", \"grad\", \"great\", \"great\", \"great\", \"great\", \"great\", \"great\", \"great\", \"great\", \"great\", \"great\", \"greet\", \"greet\", \"greet\", \"greet\", \"grind\", \"grind\", \"guarante\", \"guest\", \"guest\", \"guest\", \"guest\", \"guest\", \"guest\", \"guest\", \"hadn\", \"half\", \"half\", \"half\", \"half\", \"half\", \"half\", \"half\", \"half\", \"half\", \"half\", \"happiest\", \"haunt\", \"have\", \"have\", \"have\", \"have\", \"have\", \"have\", \"have\", \"have\", \"have\", \"have\", \"head\", \"head\", \"head\", \"head\", \"head\", \"head\", \"head\", \"head\", \"health\", \"healthi\", \"heav\", \"hectic\", \"height\", \"height\", \"height\", \"height\", \"height\", \"help\", \"help\", \"help\", \"help\", \"help\", \"help\", \"help\", \"help\", \"help\", \"help\", \"hint\", \"hol\", \"holiday\", \"holiday\", \"holiday\", \"holiday\", \"holiday\", \"holiday\", \"holiday\", \"holiday\", \"holiday\", \"holiday\", \"homework\", \"honey\", \"hong\", \"hong\", \"hook\", \"hopper\", \"hopper\", \"hopper\", \"hopper\", \"hopper\", \"hotdog\", \"hotel\", \"hotel\", \"hotel\", \"hotel\", \"hotel\", \"hotel\", \"hotel\", \"hour\", \"hour\", \"hour\", \"hour\", \"hour\", \"hour\", \"hour\", \"hour\", \"hour\", \"hour\", \"hype\", \"hyperspac\", \"ignor\", \"ignor\", \"illumin\", \"illumin\", \"illumin\", \"inch\", \"inconsider\", \"inconveni\", \"indiana\", \"ined\", \"inflat\", \"inner\", \"inner\", \"inner\", \"insist\", \"invent\", \"irrit\", \"isl\", \"island\", \"island\", \"island\", \"italian\", \"januari\", \"januari\", \"januari\", \"januari\", \"januari\", \"joke\", \"joke\", \"jone\", \"jump\", \"jump\", \"jump\", \"jump\", \"jump\", \"jump\", \"jumper\", \"justifi\", \"kettl\", \"kid\", \"kid\", \"kid\", \"kid\", \"kid\", \"kid\", \"kid\", \"kid\", \"kid\", \"kid\", \"kingdom\", \"kingdom\", \"kingdom\", \"kingdom\", \"kiss\", \"knock\", \"know\", \"know\", \"know\", \"know\", \"know\", \"know\", \"know\", \"know\", \"know\", \"know\", \"kong\", \"kong\", \"label\", \"labyrinth\", \"lagoon\", \"lagoon\", \"lake\", \"land\", \"land\", \"land\", \"land\", \"land\", \"land\", \"land\", \"land\", \"land\", \"land\", \"languag\", \"languag\", \"languag\", \"languag\", \"later\", \"later\", \"later\", \"later\", \"later\", \"later\", \"later\", \"lazer\", \"leav\", \"leav\", \"leav\", \"leav\", \"leav\", \"leav\", \"leav\", \"leav\", \"leav\", \"leav\", \"legend\", \"lift\", \"light\", \"light\", \"light\", \"light\", \"light\", \"light\", \"light\", \"light\", \"light\", \"lightyear\", \"lightyear\", \"lightyear\", \"lightyear\", \"like\", \"like\", \"like\", \"like\", \"like\", \"like\", \"like\", \"like\", \"like\", \"like\", \"line\", \"line\", \"line\", \"line\", \"line\", \"line\", \"line\", \"line\", \"line\", \"litter\", \"littl\", \"littl\", \"littl\", \"littl\", \"littl\", \"littl\", \"littl\", \"littl\", \"littl\", \"littl\", \"lock\", \"locker\", \"lodg\", \"long\", \"long\", \"long\", \"long\", \"long\", \"long\", \"long\", \"long\", \"long\", \"long\", \"look\", \"look\", \"look\", \"look\", \"look\", \"look\", \"look\", \"look\", \"look\", \"look\", \"lot\", \"lot\", \"lot\", \"lot\", \"lot\", \"lot\", \"lot\", \"lot\", \"lot\", \"lot\", \"love\", \"love\", \"love\", \"love\", \"love\", \"love\", \"love\", \"love\", \"love\", \"love\", \"luggag\", \"luggag\", \"luggag\", \"lunch\", \"lunch\", \"lunch\", \"lunch\", \"lunch\", \"lunch\", \"lunch\", \"macdonald\", \"magic\", \"magic\", \"magic\", \"magic\", \"magic\", \"magic\", \"magic\", \"magic\", \"magic\", \"magic\", \"main\", \"main\", \"main\", \"main\", \"main\", \"main\", \"main\", \"main\", \"main\", \"mainten\", \"mainten\", \"mainten\", \"mall\", \"mall\", \"manag\", \"manag\", \"manag\", \"manag\", \"manag\", \"manag\", \"manag\", \"manag\", \"manag\", \"manag\", \"manic\", \"manner\", \"manner\", \"manor\", \"mansion\", \"marn\", \"mcdonald\", \"meal\", \"meal\", \"meal\", \"meal\", \"meal\", \"mean\", \"mean\", \"mean\", \"mean\", \"mean\", \"mean\", \"mean\", \"mean\", \"mean\", \"mean\", \"meet\", \"meet\", \"meet\", \"meet\", \"meet\", \"meet\", \"member\", \"memori\", \"memori\", \"memori\", \"memori\", \"memori\", \"memori\", \"merchandis\", \"merchandis\", \"merchandis\", \"merchandis\", \"merchandis\", \"merchandis\", \"metro\", \"metro\", \"mickey\", \"mickey\", \"mickey\", \"mickey\", \"mickey\", \"mickey\", \"mickey\", \"microwav\", \"midweek\", \"milk\", \"min\", \"min\", \"min\", \"min\", \"min\", \"min\", \"min\", \"min\", \"minni\", \"minni\", \"minut\", \"minut\", \"minut\", \"minut\", \"minut\", \"minut\", \"minut\", \"minut\", \"minut\", \"minut\", \"miser\", \"miss\", \"miss\", \"miss\", \"miss\", \"miss\", \"miss\", \"miss\", \"miss\", \"miss\", \"miss\", \"money\", \"money\", \"money\", \"money\", \"money\", \"money\", \"money\", \"money\", \"morn\", \"morn\", \"morn\", \"morn\", \"morn\", \"morn\", \"moteur\", \"motor\", \"mountain\", \"mountain\", \"mountain\", \"mous\", \"neck\", \"need\", \"need\", \"need\", \"need\", \"need\", \"need\", \"need\", \"need\", \"need\", \"need\", \"nemo\", \"nemo\", \"newport\", \"night\", \"night\", \"night\", \"night\", \"night\", \"night\", \"night\", \"night\", \"night\", \"nostalgia\", \"nott\", \"obtain\", \"onlin\", \"onlin\", \"onlin\", \"open\", \"open\", \"open\", \"open\", \"open\", \"open\", \"open\", \"open\", \"open\", \"open\", \"option\", \"option\", \"option\", \"option\", \"option\", \"option\", \"option\", \"option\", \"orlando\", \"orlando\", \"orlando\", \"outfit\", \"overflow\", \"overpric\", \"overpric\", \"overpric\", \"overpric\", \"overpric\", \"packag\", \"packag\", \"packag\", \"palac\", \"parad\", \"parad\", \"parad\", \"parad\", \"parad\", \"parad\", \"parad\", \"parad\", \"parad\", \"parad\", \"parc\", \"pari\", \"pari\", \"pari\", \"pari\", \"pari\", \"pari\", \"pari\", \"pari\", \"pari\", \"pass\", \"pass\", \"pass\", \"pass\", \"pass\", \"pass\", \"pass\", \"pass\", \"passport\", \"pasta\", \"path\", \"pathet\", \"pavement\", \"pavilion\", \"pavilion\", \"peac\", \"peak\", \"peak\", \"peak\", \"peak\", \"peak\", \"peak\", \"peopl\", \"peopl\", \"peopl\", \"peopl\", \"peopl\", \"peopl\", \"peopl\", \"peopl\", \"peopl\", \"peopl\", \"peril\", \"peter\", \"peter\", \"peter\", \"phantom\", \"photo\", \"photo\", \"photo\", \"photo\", \"photo\", \"photo\", \"photo\", \"pictur\", \"pictur\", \"pictur\", \"pictur\", \"pictur\", \"pictur\", \"pictur\", \"pint\", \"pirat\", \"pirat\", \"pirat\", \"pizza\", \"pizza\", \"pizza\", \"place\", \"place\", \"place\", \"place\", \"place\", \"place\", \"place\", \"place\", \"place\", \"place\", \"plan\", \"plan\", \"plan\", \"plan\", \"plan\", \"plan\", \"plan\", \"plan\", \"plan\", \"plant\", \"plat\", \"platform\", \"playground\", \"plenti\", \"plenti\", \"plenti\", \"plenti\", \"plenti\", \"plenti\", \"plenti\", \"plenti\", \"plenti\", \"pluto\", \"pluto\", \"point\", \"point\", \"point\", \"point\", \"point\", \"point\", \"point\", \"point\", \"point\", \"point\", \"pointless\", \"polit\", \"polit\", \"poncho\", \"poncho\", \"pool\", \"poor\", \"poor\", \"poor\", \"poor\", \"poor\", \"popular\", \"popular\", \"popular\", \"popular\", \"popular\", \"popular\", \"popular\", \"pose\", \"potenti\", \"pound\", \"pour\", \"pram\", \"pregnant\", \"pressur\", \"prevent\", \"price\", \"price\", \"price\", \"price\", \"price\", \"price\", \"price\", \"price\", \"price\", \"pricey\", \"pricey\", \"pricey\", \"pricey\", \"pricey\", \"pricey\", \"pricey\", \"primarili\", \"princ\", \"princess\", \"princess\", \"princess\", \"princess\", \"profit\", \"programm\", \"purchas\", \"purchas\", \"purchas\", \"purchas\", \"purchas\", \"push\", \"push\", \"push\", \"push\", \"pushchair\", \"qu\", \"qualiti\", \"qualiti\", \"qualiti\", \"qualiti\", \"qualiti\", \"qualiti\", \"qualiti\", \"quantiti\", \"quarter\", \"queue\", \"queue\", \"queue\", \"queue\", \"queue\", \"queue\", \"queue\", \"queue\", \"queue\", \"queue\", \"quietest\", \"railroad\", \"railroad\", \"rain\", \"rainforest\", \"rapunzel\", \"reccommend\", \"recept\", \"refurb\", \"refurbish\", \"refurbish\", \"refurbish\", \"releas\", \"rent\", \"rent\", \"rent\", \"repli\", \"reserv\", \"reserv\", \"reserv\", \"reserv\", \"reserv\", \"restaur\", \"restaur\", \"restaur\", \"restaur\", \"restaur\", \"restaur\", \"restaur\", \"restaur\", \"restaur\", \"restaur\", \"restuar\", \"rid\", \"rid\", \"rid\", \"rid\", \"rid\", \"rid\", \"rid\", \"rid\", \"rid\", \"rid\", \"ride\", \"ride\", \"ride\", \"ride\", \"ride\", \"ride\", \"ride\", \"ride\", \"ride\", \"ride\", \"ring\", \"rip\", \"rip\", \"rise\", \"robinson\", \"rock\", \"rock\", \"rockin\", \"roller\", \"roller\", \"roller\", \"roller\", \"romant\", \"room\", \"room\", \"room\", \"rout\", \"rout\", \"rout\", \"rout\", \"rout\", \"rubbish\", \"rude\", \"salad\", \"salad\", \"sandwich\", \"sandwich\", \"sandwich\", \"sandwich\", \"sant\", \"santa\", \"saturday\", \"saturday\", \"saturday\", \"saturday\", \"saturday\", \"saturday\", \"save\", \"save\", \"save\", \"save\", \"save\", \"save\", \"save\", \"save\", \"saver\", \"say\", \"say\", \"say\", \"say\", \"say\", \"say\", \"say\", \"say\", \"say\", \"say\", \"scaffold\", \"sceneri\", \"school\", \"school\", \"school\", \"school\", \"school\", \"school\", \"scrum\", \"season\", \"season\", \"season\", \"season\", \"season\", \"season\", \"season\", \"seat\", \"seat\", \"seat\", \"seat\", \"seat\", \"seat\", \"seat\", \"seat\", \"secur\", \"secur\", \"secur\", \"see\", \"see\", \"see\", \"see\", \"see\", \"see\", \"see\", \"see\", \"see\", \"see\", \"sensibl\", \"sequioa\", \"sequoia\", \"servic\", \"servic\", \"servic\", \"servic\", \"servic\", \"servic\", \"servic\", \"shame\", \"shame\", \"shame\", \"shame\", \"shame\", \"shame\", \"shoe\", \"shoe\", \"shoe\", \"shoe\", \"shop\", \"shop\", \"shop\", \"shop\", \"shop\", \"shop\", \"shop\", \"shop\", \"shop\", \"shop\", \"show\", \"show\", \"show\", \"show\", \"show\", \"show\", \"show\", \"show\", \"show\", \"show\", \"shrug\", \"shut\", \"shut\", \"shut\", \"shuttl\", \"shuttl\", \"shuttl\", \"sidewalk\", \"slice\", \"slip\", \"slot\", \"slot\", \"slot\", \"small\", \"small\", \"small\", \"small\", \"small\", \"small\", \"small\", \"small\", \"small\", \"small\", \"smaller\", \"smaller\", \"smaller\", \"smaller\", \"smaller\", \"smaller\", \"smaller\", \"smaller\", \"smelli\", \"smoke\", \"smoke\", \"smoke\", \"smoke\", \"smoke\", \"smoker\", \"smoker\", \"snack\", \"snack\", \"snack\", \"snack\", \"snack\", \"snow\", \"snow\", \"snow\", \"snow\", \"soup\", \"southern\", \"souvenir\", \"souvenir\", \"souvenir\", \"souvenir\", \"souvenir\", \"souvenir\", \"souvenir\", \"souvenir\", \"space\", \"space\", \"space\", \"space\", \"spain\", \"spanish\", \"sparkl\", \"sparrow\", \"speak\", \"speak\", \"speak\", \"speak\", \"speak\", \"speak\", \"specifi\", \"spectacular\", \"spectacular\", \"spectacular\", \"spectacular\", \"spectacular\", \"spend\", \"spend\", \"spend\", \"spend\", \"spend\", \"spend\", \"spend\", \"spend\", \"spend\", \"spend\", \"spring\", \"spring\", \"spring\", \"spring\", \"staff\", \"staff\", \"staff\", \"staff\", \"staff\", \"staff\", \"staff\", \"staff\", \"staff\", \"stair\", \"stand\", \"stand\", \"stand\", \"stand\", \"stand\", \"stand\", \"stand\", \"stand\", \"stand\", \"star\", \"star\", \"star\", \"star\", \"star\", \"star\", \"star\", \"star\", \"star\", \"star\", \"start\", \"start\", \"start\", \"start\", \"start\", \"start\", \"start\", \"start\", \"start\", \"start\", \"starter\", \"station\", \"station\", \"station\", \"stay\", \"stay\", \"stay\", \"stay\", \"stay\", \"stay\", \"stay\", \"stay\", \"stay\", \"stay\", \"steakhous\", \"stink\", \"stock\", \"store\", \"store\", \"store\", \"store\", \"store\", \"store\", \"store\", \"store\", \"store\", \"store\", \"straight\", \"straight\", \"straight\", \"straight\", \"straight\", \"straight\", \"straight\", \"street\", \"street\", \"street\", \"street\", \"street\", \"street\", \"street\", \"street\", \"street\", \"stroller\", \"stroller\", \"studio\", \"studio\", \"studio\", \"studio\", \"studio\", \"subject\", \"submarin\", \"suffer\", \"summari\", \"summer\", \"summer\", \"summer\", \"summer\", \"summer\", \"summer\", \"summer\", \"summer\", \"summer\", \"summer\", \"sunday\", \"sunday\", \"sunday\", \"sunday\", \"sunday\", \"sunday\", \"suppli\", \"supris\", \"surviv\", \"sweep\", \"swim\", \"switch\", \"tabl\", \"tabl\", \"tabl\", \"tabl\", \"take\", \"take\", \"take\", \"take\", \"take\", \"take\", \"take\", \"take\", \"take\", \"take\", \"taxi\", \"taxi\", \"taxi\", \"technic\", \"technic\", \"technic\", \"technic\", \"tell\", \"tell\", \"tell\", \"tell\", \"tell\", \"tell\", \"tell\", \"tell\", \"templ\", \"term\", \"term\", \"term\", \"term\", \"term\", \"term\", \"term\", \"term\", \"term\", \"termin\", \"termin\", \"terror\", \"terror\", \"thanksgiv\", \"their\", \"themepark\", \"there\", \"thing\", \"thing\", \"thing\", \"thing\", \"thing\", \"thing\", \"thing\", \"thing\", \"thing\", \"thing\", \"think\", \"think\", \"think\", \"think\", \"think\", \"think\", \"think\", \"think\", \"think\", \"think\", \"thirti\", \"thunder\", \"thunder\", \"thunder\", \"thur\", \"thur\", \"thursday\", \"thursday\", \"thursday\", \"thursday\", \"ticket\", \"ticket\", \"ticket\", \"ticket\", \"ticket\", \"ticket\", \"ticket\", \"ticket\", \"time\", \"time\", \"time\", \"time\", \"time\", \"time\", \"time\", \"time\", \"time\", \"time\", \"timet\", \"tinkerbel\", \"toad\", \"tour\", \"tour\", \"tour\", \"tour\", \"tour\", \"tour\", \"tower\", \"tower\", \"tower\", \"tower\", \"trade\", \"train\", \"train\", \"train\", \"train\", \"train\", \"train\", \"train\", \"train\", \"train\", \"trap\", \"trash\", \"travel\", \"travel\", \"travel\", \"travel\", \"travel\", \"travel\", \"travel\", \"travel\", \"travel\", \"travel\", \"trip\", \"trip\", \"trip\", \"trip\", \"trip\", \"trip\", \"trip\", \"trip\", \"trip\", \"trip\", \"truli\", \"truli\", \"truli\", \"truli\", \"truli\", \"truli\", \"tue\", \"tuesday\", \"tuesday\", \"tuesday\", \"tuesday\", \"tuesday\", \"tune\", \"tunnel\", \"unaccept\", \"unfair\", \"unforgett\", \"unfriend\", \"unhealthi\", \"unhelp\", \"univers\", \"univers\", \"univers\", \"univers\", \"unoffici\", \"urin\", \"util\", \"valid\", \"valle\", \"version\", \"version\", \"version\", \"view\", \"view\", \"view\", \"view\", \"view\", \"view\", \"view\", \"view\", \"villag\", \"visit\", \"visit\", \"visit\", \"visit\", \"visit\", \"visit\", \"visit\", \"visit\", \"visit\", \"visit\", \"vist\", \"voucher\", \"voucher\", \"voucher\", \"wait\", \"wait\", \"wait\", \"wait\", \"wait\", \"wait\", \"wait\", \"wait\", \"wait\", \"wait\", \"walk\", \"walk\", \"walk\", \"walk\", \"walk\", \"walk\", \"walk\", \"walk\", \"walk\", \"walk\", \"walkway\", \"want\", \"want\", \"want\", \"want\", \"want\", \"want\", \"want\", \"want\", \"want\", \"want\", \"war\", \"war\", \"war\", \"war\", \"war\", \"wasn\", \"wasn\", \"wasn\", \"wasn\", \"wasn\", \"wasn\", \"wasn\", \"wasn\", \"wasn\", \"wasn\", \"wast\", \"wast\", \"wast\", \"wast\", \"wast\", \"wast\", \"watch\", \"watch\", \"watch\", \"watch\", \"watch\", \"watch\", \"watch\", \"watch\", \"watch\", \"water\", \"water\", \"water\", \"water\", \"water\", \"water\", \"water\", \"waterproof\", \"wear\", \"wear\", \"wear\", \"wear\", \"wear\", \"wear\", \"wear\", \"weather\", \"weather\", \"weather\", \"weather\", \"weather\", \"weather\", \"weather\", \"weather\", \"weather\", \"weather\", \"week\", \"week\", \"week\", \"week\", \"week\", \"week\", \"week\", \"week\", \"week\", \"week\", \"weekday\", \"weekday\", \"weekday\", \"weekday\", \"weekend\", \"weekend\", \"weekend\", \"weekend\", \"weekend\", \"weekend\", \"weekend\", \"weekend\", \"wheelchair\", \"wheelchair\", \"white\", \"white\", \"white\", \"white\", \"wind\", \"wine\", \"witch\", \"woman\", \"wonder\", \"wonder\", \"wonder\", \"wonder\", \"wonder\", \"wonder\", \"wonder\", \"wonder\", \"wonder\", \"wonderful\", \"woodi\", \"worker\", \"world\", \"world\", \"world\", \"world\", \"world\", \"world\", \"world\", \"world\", \"world\", \"worth\", \"worth\", \"worth\", \"worth\", \"worth\", \"worth\", \"worth\", \"worth\", \"worth\", \"worth\", \"year\", \"year\", \"year\", \"year\", \"year\", \"year\", \"year\", \"year\", \"year\", \"year\", \"york\"]}, \"R\": 30, \"lambda.step\": 0.01, \"plot.opts\": {\"xlab\": \"PC1\", \"ylab\": \"PC2\"}, \"topic.order\": [3, 8, 2, 6, 5, 7, 9, 4, 10, 1]};\n",
       "\n",
       "function LDAvis_load_lib(url, callback){\n",
       "  var s = document.createElement('script');\n",
       "  s.src = url;\n",
       "  s.async = true;\n",
       "  s.onreadystatechange = s.onload = callback;\n",
       "  s.onerror = function(){console.warn(\"failed to load library \" + url);};\n",
       "  document.getElementsByTagName(\"head\")[0].appendChild(s);\n",
       "}\n",
       "\n",
       "if(typeof(LDAvis) !== \"undefined\"){\n",
       "   // already loaded: just create the visualization\n",
       "   !function(LDAvis){\n",
       "       new LDAvis(\"#\" + \"ldavis_el68082278452885648155094276\", ldavis_el68082278452885648155094276_data);\n",
       "   }(LDAvis);\n",
       "}else if(typeof define === \"function\" && define.amd){\n",
       "   // require.js is available: use it to load d3/LDAvis\n",
       "   require.config({paths: {d3: \"https://d3js.org/d3.v5\"}});\n",
       "   require([\"d3\"], function(d3){\n",
       "      window.d3 = d3;\n",
       "      LDAvis_load_lib(\"https://cdn.jsdelivr.net/gh/bmabey/pyLDAvis@3.3.1/pyLDAvis/js/ldavis.v3.0.0.js\", function(){\n",
       "        new LDAvis(\"#\" + \"ldavis_el68082278452885648155094276\", ldavis_el68082278452885648155094276_data);\n",
       "      });\n",
       "    });\n",
       "}else{\n",
       "    // require.js not available: dynamically load d3 & LDAvis\n",
       "    LDAvis_load_lib(\"https://d3js.org/d3.v5.js\", function(){\n",
       "         LDAvis_load_lib(\"https://cdn.jsdelivr.net/gh/bmabey/pyLDAvis@3.3.1/pyLDAvis/js/ldavis.v3.0.0.js\", function(){\n",
       "                 new LDAvis(\"#\" + \"ldavis_el68082278452885648155094276\", ldavis_el68082278452885648155094276_data);\n",
       "            })\n",
       "         });\n",
       "}\n",
       "</script>"
      ],
      "text/plain": [
       "PreparedData(topic_coordinates=              x         y  topics  cluster       Freq\n",
       "topic                                                \n",
       "2      0.054326 -0.045451       1        1  16.935847\n",
       "7      0.153602 -0.105908       2        1  13.037116\n",
       "1     -0.143635  0.108241       3        1  12.960466\n",
       "5     -0.141748 -0.120249       4        1  12.575768\n",
       "4     -0.109694 -0.101322       5        1   9.300907\n",
       "6      0.026836 -0.148826       6        1   8.366617\n",
       "8     -0.004773  0.067722       7        1   8.086841\n",
       "3      0.180230  0.053510       8        1   7.350536\n",
       "9      0.139565  0.156372       9        1   5.990418\n",
       "0     -0.154707  0.135911      10        1   5.395484, topic_info=           Term          Freq         Total Category  logprob  loglift\n",
       "92         food  15691.000000  15691.000000  Default  30.0000  30.0000\n",
       "459       hotel   9155.000000   9155.000000  Default  29.0000  29.0000\n",
       "12        queue  18672.000000  18672.000000  Default  28.0000  28.0000\n",
       "205     charact  10633.000000  10633.000000  Default  27.0000  27.0000\n",
       "58     mountain   8877.000000   8877.000000  Default  26.0000  26.0000\n",
       "..          ...           ...           ...      ...      ...      ...\n",
       "75         time    871.749426  42416.092289  Topic10  -4.8223  -0.9652\n",
       "119         kid    751.823485  14360.828825  Topic10  -4.9703  -0.0302\n",
       "118          go    772.783474  20955.802237  Topic10  -4.9428  -0.3806\n",
       "143    children    644.016660   9987.269397  Topic10  -5.1251   0.1783\n",
       "2    disneyland    640.447788  27409.626775  Topic10  -5.1307  -0.8369\n",
       "\n",
       "[777 rows x 6 columns], token_table=      Topic      Freq  Term\n",
       "term                       \n",
       "350       1  0.525518   abl\n",
       "350       2  0.122728   abl\n",
       "350       3  0.096452   abl\n",
       "350       4  0.104142   abl\n",
       "350       5  0.058320   abl\n",
       "...     ...       ...   ...\n",
       "374       7  0.075935  year\n",
       "374       8  0.002529  year\n",
       "374       9  0.075724  year\n",
       "374      10  0.034912  year\n",
       "1221      2  0.999691  york\n",
       "\n",
       "[2325 rows x 3 columns], R=30, lambda_step=0.01, plot_opts={'xlab': 'PC1', 'ylab': 'PC2'}, topic_order=[3, 8, 2, 6, 5, 7, 9, 4, 10, 1])"
      ]
     },
     "execution_count": 93,
     "metadata": {},
     "output_type": "execute_result"
    }
   ],
   "source": [
    "pyLDAvis.enable_notebook()\n",
    "vis = gensimvis.prepare(lda_model_bow, bow_corpus, dictionary)\n",
    "vis"
   ]
  },
  {
   "cell_type": "markdown",
   "id": "27569e03-2c29-42a6-9b4e-c977ba8e9375",
   "metadata": {},
   "source": [
    "## NLTK"
   ]
  },
  {
   "cell_type": "code",
   "execution_count": 94,
   "id": "5a4c26e0-aecb-41a9-adb8-e109513c62b1",
   "metadata": {},
   "outputs": [],
   "source": [
    "df = df.head(500)"
   ]
  },
  {
   "cell_type": "code",
   "execution_count": 95,
   "id": "bc3c17e4-aa4a-415a-982f-1cd3c944abb5",
   "metadata": {},
   "outputs": [
    {
     "name": "stdout",
     "output_type": "stream",
     "text": [
      "Good to see while here, but very small. Great if we brought the children, but not for adults who have been to other ones. Not exciting for bigger children either.\n"
     ]
    }
   ],
   "source": [
    "example = df['Review_Text'][50]\n",
    "print (example)"
   ]
  },
  {
   "cell_type": "code",
   "execution_count": 96,
   "id": "60f4e8a2-355a-4415-84d6-f23bbecf05f6",
   "metadata": {},
   "outputs": [
    {
     "data": {
      "text/plain": [
       "['Good', 'to', 'see', 'while', 'here', ',', 'but', 'very', 'small', '.']"
      ]
     },
     "execution_count": 96,
     "metadata": {},
     "output_type": "execute_result"
    }
   ],
   "source": [
    "tokens = nltk.word_tokenize(example)\n",
    "tokens[:10]"
   ]
  },
  {
   "cell_type": "code",
   "execution_count": 97,
   "id": "c2abfac4-e082-4b2e-b3e5-8fc94e65a157",
   "metadata": {},
   "outputs": [
    {
     "data": {
      "text/plain": [
       "[('Good', 'JJ'),\n",
       " ('to', 'TO'),\n",
       " ('see', 'VB'),\n",
       " ('while', 'IN'),\n",
       " ('here', 'RB'),\n",
       " (',', ','),\n",
       " ('but', 'CC'),\n",
       " ('very', 'RB'),\n",
       " ('small', 'JJ'),\n",
       " ('.', '.')]"
      ]
     },
     "execution_count": 97,
     "metadata": {},
     "output_type": "execute_result"
    }
   ],
   "source": [
    "tagged = nltk.pos_tag(tokens)\n",
    "tagged[:10]"
   ]
  },
  {
   "cell_type": "code",
   "execution_count": 98,
   "id": "4f465379-f831-497d-ad88-5daa804d29e6",
   "metadata": {},
   "outputs": [
    {
     "name": "stdout",
     "output_type": "stream",
     "text": [
      "(S\n",
      "  (GPE Good/JJ)\n",
      "  to/TO\n",
      "  see/VB\n",
      "  while/IN\n",
      "  here/RB\n",
      "  ,/,\n",
      "  but/CC\n",
      "  very/RB\n",
      "  small/JJ\n",
      "  ./.\n",
      "  Great/JJ\n",
      "  if/IN\n",
      "  we/PRP\n",
      "  brought/VBD\n",
      "  the/DT\n",
      "  children/NNS\n",
      "  ,/,\n",
      "  but/CC\n",
      "  not/RB\n",
      "  for/IN\n",
      "  adults/NNS\n",
      "  who/WP\n",
      "  have/VBP\n",
      "  been/VBN\n",
      "  to/TO\n",
      "  other/JJ\n",
      "  ones/NNS\n",
      "  ./.\n",
      "  Not/RB\n",
      "  exciting/VBG\n",
      "  for/IN\n",
      "  bigger/JJR\n",
      "  children/NNS\n",
      "  either/DT\n",
      "  ./.)\n"
     ]
    }
   ],
   "source": [
    "entities = nltk.chunk.ne_chunk(tagged)\n",
    "entities.pprint()"
   ]
  },
  {
   "cell_type": "markdown",
   "id": "f48504f9-c667-4742-a7f8-b661af65b147",
   "metadata": {},
   "source": [
    "## Vader "
   ]
  },
  {
   "cell_type": "code",
   "execution_count": 99,
   "id": "0bc9bce6-7f38-49d3-a982-887ce826d1f3",
   "metadata": {},
   "outputs": [],
   "source": [
    "from nltk.sentiment import SentimentIntensityAnalyzer\n",
    "from tqdm.notebook import tqdm\n",
    "\n",
    "sia = SentimentIntensityAnalyzer()"
   ]
  },
  {
   "cell_type": "code",
   "execution_count": 100,
   "id": "48b9dc02-a8d0-419a-b37d-d10d5da96d5b",
   "metadata": {},
   "outputs": [
    {
     "data": {
      "text/plain": [
       "{'neg': 0.0, 'neu': 0.182, 'pos': 0.818, 'compound': 0.6696}"
      ]
     },
     "execution_count": 100,
     "metadata": {},
     "output_type": "execute_result"
    }
   ],
   "source": [
    "sia.polarity_scores('I Love Danel!')"
   ]
  },
  {
   "cell_type": "code",
   "execution_count": 101,
   "id": "868eeb6c-12f2-4358-9f5e-2ad4c20c3c65",
   "metadata": {},
   "outputs": [
    {
     "data": {
      "text/plain": [
       "{'neg': 0.451, 'neu': 0.549, 'pos': 0.0, 'compound': -0.6249}"
      ]
     },
     "execution_count": 101,
     "metadata": {},
     "output_type": "execute_result"
    }
   ],
   "source": [
    "sia.polarity_scores('This is the worst thing ever.')"
   ]
  },
  {
   "cell_type": "code",
   "execution_count": 102,
   "id": "8edd1a22-2880-4777-b13d-a4d19d8adbdc",
   "metadata": {},
   "outputs": [
    {
     "name": "stdout",
     "output_type": "stream",
     "text": [
      "Good to see while here, but very small. Great if we brought the children, but not for adults who have been to other ones. Not exciting for bigger children either.\n"
     ]
    }
   ],
   "source": [
    "print (example)"
   ]
  },
  {
   "cell_type": "code",
   "execution_count": 103,
   "id": "08874dea-0936-4e23-8549-b1f8913b687f",
   "metadata": {},
   "outputs": [
    {
     "data": {
      "text/plain": [
       "{'neg': 0.089, 'neu': 0.702, 'pos': 0.208, 'compound': 0.6783}"
      ]
     },
     "execution_count": 103,
     "metadata": {},
     "output_type": "execute_result"
    }
   ],
   "source": [
    "sia.polarity_scores(example)"
   ]
  },
  {
   "cell_type": "code",
   "execution_count": 104,
   "id": "e49cd2db-c342-47d2-b44b-1d39cbd14d37",
   "metadata": {},
   "outputs": [
    {
     "data": {
      "application/vnd.jupyter.widget-view+json": {
       "model_id": "76585b43705a4ab89c39610a95b9fc93",
       "version_major": 2,
       "version_minor": 0
      },
      "text/plain": [
       "  0%|          | 0/500 [00:00<?, ?it/s]"
      ]
     },
     "metadata": {},
     "output_type": "display_data"
    }
   ],
   "source": [
    "# Run the polarity score on the entire dataset\n",
    "res = {}\n",
    "for i, row in tqdm(df.iterrows(), total=len(df)):\n",
    "    text = row['Review_Text']\n",
    "    myid = row['Review_ID']\n",
    "    res[myid] = sia.polarity_scores(text)"
   ]
  },
  {
   "cell_type": "code",
   "execution_count": 105,
   "id": "dd6c36c9-ea8d-4f07-a45f-9010cccd00da",
   "metadata": {},
   "outputs": [],
   "source": [
    "vaders = pd.DataFrame(res).T\n",
    "vaders = vaders.reset_index().rename(columns={'index': 'Review_ID'})\n",
    "vaders = vaders.merge(df, how='left')"
   ]
  },
  {
   "cell_type": "code",
   "execution_count": 106,
   "id": "7a764f62-015c-4fd4-8ae9-063fdfa76367",
   "metadata": {},
   "outputs": [
    {
     "data": {
      "text/html": [
       "<div>\n",
       "<style scoped>\n",
       "    .dataframe tbody tr th:only-of-type {\n",
       "        vertical-align: middle;\n",
       "    }\n",
       "\n",
       "    .dataframe tbody tr th {\n",
       "        vertical-align: top;\n",
       "    }\n",
       "\n",
       "    .dataframe thead th {\n",
       "        text-align: right;\n",
       "    }\n",
       "</style>\n",
       "<table border=\"1\" class=\"dataframe\">\n",
       "  <thead>\n",
       "    <tr style=\"text-align: right;\">\n",
       "      <th></th>\n",
       "      <th>neg</th>\n",
       "      <th>neu</th>\n",
       "      <th>pos</th>\n",
       "      <th>compound</th>\n",
       "    </tr>\n",
       "  </thead>\n",
       "  <tbody>\n",
       "    <tr>\n",
       "      <th>670772142</th>\n",
       "      <td>0.000</td>\n",
       "      <td>0.887</td>\n",
       "      <td>0.113</td>\n",
       "      <td>0.7069</td>\n",
       "    </tr>\n",
       "    <tr>\n",
       "      <th>670682799</th>\n",
       "      <td>0.040</td>\n",
       "      <td>0.730</td>\n",
       "      <td>0.231</td>\n",
       "      <td>0.9901</td>\n",
       "    </tr>\n",
       "    <tr>\n",
       "      <th>670623270</th>\n",
       "      <td>0.024</td>\n",
       "      <td>0.742</td>\n",
       "      <td>0.235</td>\n",
       "      <td>0.9920</td>\n",
       "    </tr>\n",
       "    <tr>\n",
       "      <th>670607911</th>\n",
       "      <td>0.080</td>\n",
       "      <td>0.760</td>\n",
       "      <td>0.160</td>\n",
       "      <td>0.8489</td>\n",
       "    </tr>\n",
       "    <tr>\n",
       "      <th>670607296</th>\n",
       "      <td>0.000</td>\n",
       "      <td>0.899</td>\n",
       "      <td>0.101</td>\n",
       "      <td>0.2846</td>\n",
       "    </tr>\n",
       "    <tr>\n",
       "      <th>...</th>\n",
       "      <td>...</td>\n",
       "      <td>...</td>\n",
       "      <td>...</td>\n",
       "      <td>...</td>\n",
       "    </tr>\n",
       "    <tr>\n",
       "      <th>632538340</th>\n",
       "      <td>0.000</td>\n",
       "      <td>0.910</td>\n",
       "      <td>0.090</td>\n",
       "      <td>0.5927</td>\n",
       "    </tr>\n",
       "    <tr>\n",
       "      <th>632445331</th>\n",
       "      <td>0.075</td>\n",
       "      <td>0.797</td>\n",
       "      <td>0.128</td>\n",
       "      <td>0.6948</td>\n",
       "    </tr>\n",
       "    <tr>\n",
       "      <th>632355808</th>\n",
       "      <td>0.087</td>\n",
       "      <td>0.768</td>\n",
       "      <td>0.145</td>\n",
       "      <td>0.7636</td>\n",
       "    </tr>\n",
       "    <tr>\n",
       "      <th>632309460</th>\n",
       "      <td>0.065</td>\n",
       "      <td>0.620</td>\n",
       "      <td>0.315</td>\n",
       "      <td>0.8172</td>\n",
       "    </tr>\n",
       "    <tr>\n",
       "      <th>632235808</th>\n",
       "      <td>0.024</td>\n",
       "      <td>0.669</td>\n",
       "      <td>0.306</td>\n",
       "      <td>0.9615</td>\n",
       "    </tr>\n",
       "  </tbody>\n",
       "</table>\n",
       "<p>500 rows × 4 columns</p>\n",
       "</div>"
      ],
      "text/plain": [
       "             neg    neu    pos  compound\n",
       "670772142  0.000  0.887  0.113    0.7069\n",
       "670682799  0.040  0.730  0.231    0.9901\n",
       "670623270  0.024  0.742  0.235    0.9920\n",
       "670607911  0.080  0.760  0.160    0.8489\n",
       "670607296  0.000  0.899  0.101    0.2846\n",
       "...          ...    ...    ...       ...\n",
       "632538340  0.000  0.910  0.090    0.5927\n",
       "632445331  0.075  0.797  0.128    0.6948\n",
       "632355808  0.087  0.768  0.145    0.7636\n",
       "632309460  0.065  0.620  0.315    0.8172\n",
       "632235808  0.024  0.669  0.306    0.9615\n",
       "\n",
       "[500 rows x 4 columns]"
      ]
     },
     "execution_count": 106,
     "metadata": {},
     "output_type": "execute_result"
    }
   ],
   "source": [
    "pd.DataFrame(res).T"
   ]
  },
  {
   "cell_type": "code",
   "execution_count": 107,
   "id": "dfb55dde-c69e-4d55-8153-5a119e1a183c",
   "metadata": {},
   "outputs": [
    {
     "data": {
      "text/html": [
       "<div>\n",
       "<style scoped>\n",
       "    .dataframe tbody tr th:only-of-type {\n",
       "        vertical-align: middle;\n",
       "    }\n",
       "\n",
       "    .dataframe tbody tr th {\n",
       "        vertical-align: top;\n",
       "    }\n",
       "\n",
       "    .dataframe thead th {\n",
       "        text-align: right;\n",
       "    }\n",
       "</style>\n",
       "<table border=\"1\" class=\"dataframe\">\n",
       "  <thead>\n",
       "    <tr style=\"text-align: right;\">\n",
       "      <th></th>\n",
       "      <th>Review_ID</th>\n",
       "      <th>neg</th>\n",
       "      <th>neu</th>\n",
       "      <th>pos</th>\n",
       "      <th>compound</th>\n",
       "      <th>Rating</th>\n",
       "      <th>Year_Month</th>\n",
       "      <th>Reviewer_Location</th>\n",
       "      <th>Review_Text</th>\n",
       "      <th>Branch</th>\n",
       "    </tr>\n",
       "  </thead>\n",
       "  <tbody>\n",
       "    <tr>\n",
       "      <th>0</th>\n",
       "      <td>670772142</td>\n",
       "      <td>0.000</td>\n",
       "      <td>0.887</td>\n",
       "      <td>0.113</td>\n",
       "      <td>0.7069</td>\n",
       "      <td>4</td>\n",
       "      <td>2019-4</td>\n",
       "      <td>Australia</td>\n",
       "      <td>If you've ever been to Disneyland anywhere you...</td>\n",
       "      <td>Disneyland_HongKong</td>\n",
       "    </tr>\n",
       "    <tr>\n",
       "      <th>1</th>\n",
       "      <td>670682799</td>\n",
       "      <td>0.040</td>\n",
       "      <td>0.730</td>\n",
       "      <td>0.231</td>\n",
       "      <td>0.9901</td>\n",
       "      <td>4</td>\n",
       "      <td>2019-5</td>\n",
       "      <td>Philippines</td>\n",
       "      <td>Its been a while since d last time we visit HK...</td>\n",
       "      <td>Disneyland_HongKong</td>\n",
       "    </tr>\n",
       "    <tr>\n",
       "      <th>2</th>\n",
       "      <td>670623270</td>\n",
       "      <td>0.024</td>\n",
       "      <td>0.742</td>\n",
       "      <td>0.235</td>\n",
       "      <td>0.9920</td>\n",
       "      <td>4</td>\n",
       "      <td>2019-4</td>\n",
       "      <td>United Arab Emirates</td>\n",
       "      <td>Thanks God it wasn   t too hot or too humid wh...</td>\n",
       "      <td>Disneyland_HongKong</td>\n",
       "    </tr>\n",
       "    <tr>\n",
       "      <th>3</th>\n",
       "      <td>670607911</td>\n",
       "      <td>0.080</td>\n",
       "      <td>0.760</td>\n",
       "      <td>0.160</td>\n",
       "      <td>0.8489</td>\n",
       "      <td>4</td>\n",
       "      <td>2019-4</td>\n",
       "      <td>Australia</td>\n",
       "      <td>HK Disneyland is a great compact park. Unfortu...</td>\n",
       "      <td>Disneyland_HongKong</td>\n",
       "    </tr>\n",
       "    <tr>\n",
       "      <th>4</th>\n",
       "      <td>670607296</td>\n",
       "      <td>0.000</td>\n",
       "      <td>0.899</td>\n",
       "      <td>0.101</td>\n",
       "      <td>0.2846</td>\n",
       "      <td>4</td>\n",
       "      <td>2019-4</td>\n",
       "      <td>United Kingdom</td>\n",
       "      <td>the location is not in the city, took around 1...</td>\n",
       "      <td>Disneyland_HongKong</td>\n",
       "    </tr>\n",
       "  </tbody>\n",
       "</table>\n",
       "</div>"
      ],
      "text/plain": [
       "   Review_ID    neg    neu    pos  compound  Rating Year_Month  \\\n",
       "0  670772142  0.000  0.887  0.113    0.7069       4     2019-4   \n",
       "1  670682799  0.040  0.730  0.231    0.9901       4     2019-5   \n",
       "2  670623270  0.024  0.742  0.235    0.9920       4     2019-4   \n",
       "3  670607911  0.080  0.760  0.160    0.8489       4     2019-4   \n",
       "4  670607296  0.000  0.899  0.101    0.2846       4     2019-4   \n",
       "\n",
       "      Reviewer_Location                                        Review_Text  \\\n",
       "0             Australia  If you've ever been to Disneyland anywhere you...   \n",
       "1           Philippines  Its been a while since d last time we visit HK...   \n",
       "2  United Arab Emirates  Thanks God it wasn   t too hot or too humid wh...   \n",
       "3             Australia  HK Disneyland is a great compact park. Unfortu...   \n",
       "4        United Kingdom  the location is not in the city, took around 1...   \n",
       "\n",
       "                Branch  \n",
       "0  Disneyland_HongKong  \n",
       "1  Disneyland_HongKong  \n",
       "2  Disneyland_HongKong  \n",
       "3  Disneyland_HongKong  \n",
       "4  Disneyland_HongKong  "
      ]
     },
     "execution_count": 107,
     "metadata": {},
     "output_type": "execute_result"
    }
   ],
   "source": [
    "vaders.head()"
   ]
  },
  {
   "cell_type": "code",
   "execution_count": 135,
   "id": "734aa872-23c1-4982-8535-48ebc111b50c",
   "metadata": {},
   "outputs": [
    {
     "data": {
      "image/png": "[encoded data removed]",
      "text/plain": [
       "<Figure size 640x480 with 1 Axes>"
      ]
     },
     "metadata": {},
     "output_type": "display_data"
    }
   ],
   "source": [
    "ax = sns.barplot(data = vaders, x= 'Rating', y = 'compound')\n",
    "ax.set_title('Privet')\n",
    "plt.show()"
   ]
  },
  {
   "cell_type": "code",
   "execution_count": null,
   "id": "784f353c-5f07-4c2e-aebf-ba3306dfe875",
   "metadata": {},
   "outputs": [],
   "source": [
    "fig, axs = plt.subplots(1,3 \n",
    "                 \n"
   ]
  },
  {
   "cell_type": "code",
   "execution_count": 125,
   "id": "6441bb3f-1524-47b7-9b62-02001f87c21e",
   "metadata": {},
   "outputs": [
    {
     "data": {
      "image/png": "[encoded data removed]",
      "text/plain": [
       "<Figure size 640x480 with 1 Axes>"
      ]
     },
     "metadata": {},
     "output_type": "display_data"
    }
   ],
   "source": [
    "ax = sns.barplot(data=vaders, x='Rating', y='compound')\n",
    "ax.set_title('Compund Score by Amazon Star Review')\n",
    "plt.show()"
   ]
  },
  {
   "cell_type": "code",
   "execution_count": 114,
   "id": "2b9bec26-d463-4c46-a338-c01469891eb2",
   "metadata": {},
   "outputs": [
    {
     "data": {
      "image/png": "[encoded data removed]",
      "text/plain": [
       "<Figure size 1200x300 with 3 Axes>"
      ]
     },
     "metadata": {},
     "output_type": "display_data"
    }
   ],
   "source": [
    "fig, axs = plt.subplots(1, 3, figsize=(12, 3))\n",
    "sns.barplot(data=vaders, x='Rating', y='pos', ax=axs[0])\n",
    "sns.barplot(data=vaders, x='Rating', y='neu', ax=axs[1])\n",
    "sns.barplot(data=vaders, x='Rating', y='neg', ax=axs[2])\n",
    "axs[0].set_title('Positive')\n",
    "axs[1].set_title('Neutral')\n",
    "axs[2].set_title('Negative')\n",
    "plt.tight_layout()\n",
    "plt.show()"
   ]
  },
  {
   "cell_type": "markdown",
   "id": "237cc47f-8b44-49d4-b6b0-f9de5ae4076a",
   "metadata": {},
   "source": [
    "# Roberta Pretrained Model"
   ]
  },
  {
   "cell_type": "code",
   "execution_count": 122,
   "id": "d645259d-79e0-4b99-84d3-8cdfe41203c4",
   "metadata": {},
   "outputs": [],
   "source": [
    "from transformers import AutoTokenizer\n",
    "from transformers import AutoModelForSequenceClassification\n",
    "from scipy.special import softmax"
   ]
  },
  {
   "cell_type": "code",
   "execution_count": 123,
   "id": "f031fb95-dd1b-4f93-ae1e-77417899ec51",
   "metadata": {},
   "outputs": [
    {
     "data": {
      "application/vnd.jupyter.widget-view+json": {
       "model_id": "1bc830371bda4a6089fd3dbfedbc8f2c",
       "version_major": 2,
       "version_minor": 0
      },
      "text/plain": [
       "Downloading config.json:   0%|          | 0.00/747 [00:00<?, ?B/s]"
      ]
     },
     "metadata": {},
     "output_type": "display_data"
    },
    {
     "data": {
      "application/vnd.jupyter.widget-view+json": {
       "model_id": "3de2e56c33c9454cb4001b42c5d96f6d",
       "version_major": 2,
       "version_minor": 0
      },
      "text/plain": [
       "Downloading vocab.json:   0%|          | 0.00/878k [00:00<?, ?B/s]"
      ]
     },
     "metadata": {},
     "output_type": "display_data"
    },
    {
     "data": {
      "application/vnd.jupyter.widget-view+json": {
       "model_id": "523def529f1f4322b1e67a8def2af3bf",
       "version_major": 2,
       "version_minor": 0
      },
      "text/plain": [
       "Downloading merges.txt:   0%|          | 0.00/446k [00:00<?, ?B/s]"
      ]
     },
     "metadata": {},
     "output_type": "display_data"
    },
    {
     "data": {
      "application/vnd.jupyter.widget-view+json": {
       "model_id": "481d6ea904f7464e8e1ced74d5e883a9",
       "version_major": 2,
       "version_minor": 0
      },
      "text/plain": [
       "Downloading special_tokens_map.json:   0%|          | 0.00/150 [00:00<?, ?B/s]"
      ]
     },
     "metadata": {},
     "output_type": "display_data"
    },
    {
     "data": {
      "application/vnd.jupyter.widget-view+json": {
       "model_id": "06f42693404d4c8ca248a33b279db577",
       "version_major": 2,
       "version_minor": 0
      },
      "text/plain": [
       "Downloading pytorch_model.bin:   0%|          | 0.00/476M [00:00<?, ?B/s]"
      ]
     },
     "metadata": {},
     "output_type": "display_data"
    }
   ],
   "source": [
    "MODEL = f\"cardiffnlp/twitter-roberta-base-sentiment\"\n",
    "tokenizer = AutoTokenizer.from_pretrained(MODEL)\n",
    "model = AutoModelForSequenceClassification.from_pretrained(MODEL)"
   ]
  },
  {
   "cell_type": "code",
   "execution_count": null,
   "id": "6f6ce989-ca02-47c1-95e5-2a8c2126967a",
   "metadata": {},
   "outputs": [],
   "source": [
    "# VADER results on example\n",
    "print(example)\n",
    "sia.polarity_scores(example)"
   ]
  },
  {
   "cell_type": "code",
   "execution_count": null,
   "id": "81fde3af-a655-4976-979c-38eaeac02e26",
   "metadata": {},
   "outputs": [],
   "source": [
    "# Run for Roberta Model\n",
    "encoded_text = tokenizer(example, return_tensors='pt')\n",
    "output = model(**encoded_text)\n",
    "scores = output[0][0].detach().numpy()\n",
    "scores = softmax(scores)\n",
    "scores_dict = {\n",
    "    'roberta_neg' : scores[0],\n",
    "    'roberta_neu' : scores[1],\n",
    "    'roberta_pos' : scores[2]\n",
    "}\n",
    "print(scores_dict)"
   ]
  },
  {
   "cell_type": "code",
   "execution_count": null,
   "id": "8f07173f-7df5-4351-aa92-30f469fe050c",
   "metadata": {},
   "outputs": [],
   "source": [
    "def polarity_scores_roberta(example):\n",
    "    encoded_text = tokenizer(example, return_tensors='pt')\n",
    "    output = model(**encoded_text)\n",
    "    scores = output[0][0].detach().numpy()\n",
    "    scores = softmax(scores)\n",
    "    scores_dict = {\n",
    "        'roberta_neg' : scores[0],\n",
    "        'roberta_neu' : scores[1],\n",
    "        'roberta_pos' : scores[2]\n",
    "    }\n",
    "    return scores_dict"
   ]
  },
  {
   "cell_type": "code",
   "execution_count": null,
   "id": "dde1f362-0b9d-435e-8578-d4727cf22f3f",
   "metadata": {},
   "outputs": [],
   "source": [
    "res = {}\n",
    "for i, row in tqdm(df.iterrows(), total=len(df)):\n",
    "    try:\n",
    "        text = row['Text']\n",
    "        myid = row['Id']\n",
    "        vader_result = sia.polarity_scores(text)\n",
    "        vader_result_rename = {}\n",
    "        for key, value in vader_result.items():\n",
    "            vader_result_rename[f\"vader_{key}\"] = value\n",
    "        roberta_result = polarity_scores_roberta(text)\n",
    "        both = {**vader_result_rename, **roberta_result}\n",
    "        res[myid] = both\n",
    "    except RuntimeError:\n",
    "        print(f'Broke for id {myid}')"
   ]
  },
  {
   "cell_type": "code",
   "execution_count": null,
   "id": "51d0fadf-f40b-42f0-bf5d-1dfdd9e40b3a",
   "metadata": {},
   "outputs": [],
   "source": [
    "results_df = pd.DataFrame(res).T\n",
    "results_df = results_df.reset_index().rename(columns={'index': 'Id'})\n",
    "results_df = results_df.merge(df, how='left')"
   ]
  },
  {
   "cell_type": "code",
   "execution_count": null,
   "id": "e9659b4f-c507-48ba-9336-d0dc95532c9e",
   "metadata": {},
   "outputs": [],
   "source": [
    "results_df.columns"
   ]
  },
  {
   "cell_type": "code",
   "execution_count": null,
   "id": "cfb942be-1859-4d1d-a429-aea9a1e5e572",
   "metadata": {},
   "outputs": [],
   "source": [
    "sns.pairplot(data=results_df,\n",
    "             vars=['vader_neg', 'vader_neu', 'vader_pos',\n",
    "                  'roberta_neg', 'roberta_neu', 'roberta_pos'],\n",
    "            hue='Score',\n",
    "            palette='tab10')\n",
    "plt.show()"
   ]
  },
  {
   "cell_type": "code",
   "execution_count": null,
   "id": "617fe022-6a45-4eaf-8442-3965a20938d5",
   "metadata": {},
   "outputs": [],
   "source": []
  },
  {
   "cell_type": "code",
   "execution_count": null,
   "id": "64377152-e286-4ad7-833e-7aa9ed1e0553",
   "metadata": {},
   "outputs": [],
   "source": []
  },
  {
   "cell_type": "code",
   "execution_count": null,
   "id": "6ea8e90f-0eb0-45a4-87a0-7565332e6783",
   "metadata": {},
   "outputs": [],
   "source": []
  },
  {
   "cell_type": "code",
   "execution_count": null,
   "id": "8bd259d7-b5fa-44da-8405-0e9a60296983",
   "metadata": {},
   "outputs": [],
   "source": []
  }
 ],
 "metadata": {
  "kernelspec": {
   "display_name": "Python 3 (ipykernel)",
   "language": "python",
   "name": "python3"
  },
  "language_info": {
   "codemirror_mode": {
    "name": "ipython",
    "version": 3
   },
   "file_extension": ".py",
   "mimetype": "text/x-python",
   "name": "python",
   "nbconvert_exporter": "python",
   "pygments_lexer": "ipython3",
   "version": "3.8.10"
  }
 },
 "nbformat": 4,
 "nbformat_minor": 5
}
